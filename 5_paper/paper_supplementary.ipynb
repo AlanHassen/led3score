{
 "cells": [
  {
   "cell_type": "code",
   "execution_count": 1,
   "metadata": {},
   "outputs": [
    {
     "data": {
      "text/html": [
       "<div>\n",
       "<style scoped>\n",
       "    .dataframe tbody tr th:only-of-type {\n",
       "        vertical-align: middle;\n",
       "    }\n",
       "\n",
       "    .dataframe tbody tr th {\n",
       "        vertical-align: top;\n",
       "    }\n",
       "\n",
       "    .dataframe thead th {\n",
       "        text-align: right;\n",
       "    }\n",
       "</style>\n",
       "<table border=\"1\" class=\"dataframe\">\n",
       "  <thead>\n",
       "    <tr style=\"text-align: right;\">\n",
       "      <th></th>\n",
       "      <th>epoch</th>\n",
       "      <th>loss_train</th>\n",
       "      <th>loss_valid</th>\n",
       "      <th>valid_ratio</th>\n",
       "      <th>unique_ratio</th>\n",
       "      <th>desire_ratio</th>\n",
       "      <th>mean_train_loss</th>\n",
       "    </tr>\n",
       "  </thead>\n",
       "  <tbody>\n",
       "    <tr>\n",
       "      <th>0</th>\n",
       "      <td>1</td>\n",
       "      <td>NaN</td>\n",
       "      <td>0.430881</td>\n",
       "      <td>1.0</td>\n",
       "      <td>NaN</td>\n",
       "      <td>0.997191</td>\n",
       "      <td>0.412560</td>\n",
       "    </tr>\n",
       "    <tr>\n",
       "      <th>1</th>\n",
       "      <td>2</td>\n",
       "      <td>NaN</td>\n",
       "      <td>0.427198</td>\n",
       "      <td>1.0</td>\n",
       "      <td>NaN</td>\n",
       "      <td>0.994382</td>\n",
       "      <td>0.411121</td>\n",
       "    </tr>\n",
       "    <tr>\n",
       "      <th>2</th>\n",
       "      <td>3</td>\n",
       "      <td>NaN</td>\n",
       "      <td>0.422317</td>\n",
       "      <td>1.0</td>\n",
       "      <td>NaN</td>\n",
       "      <td>0.988764</td>\n",
       "      <td>0.406456</td>\n",
       "    </tr>\n",
       "    <tr>\n",
       "      <th>3</th>\n",
       "      <td>4</td>\n",
       "      <td>NaN</td>\n",
       "      <td>0.416414</td>\n",
       "      <td>1.0</td>\n",
       "      <td>NaN</td>\n",
       "      <td>0.991573</td>\n",
       "      <td>0.400234</td>\n",
       "    </tr>\n",
       "    <tr>\n",
       "      <th>4</th>\n",
       "      <td>5</td>\n",
       "      <td>NaN</td>\n",
       "      <td>0.411141</td>\n",
       "      <td>1.0</td>\n",
       "      <td>NaN</td>\n",
       "      <td>0.994382</td>\n",
       "      <td>0.393973</td>\n",
       "    </tr>\n",
       "  </tbody>\n",
       "</table>\n",
       "</div>"
      ],
      "text/plain": [
       "   epoch  loss_train  loss_valid  valid_ratio  unique_ratio  desire_ratio  \\\n",
       "0      1         NaN    0.430881          1.0           NaN      0.997191   \n",
       "1      2         NaN    0.427198          1.0           NaN      0.994382   \n",
       "2      3         NaN    0.422317          1.0           NaN      0.988764   \n",
       "3      4         NaN    0.416414          1.0           NaN      0.991573   \n",
       "4      5         NaN    0.411141          1.0           NaN      0.994382   \n",
       "\n",
       "   mean_train_loss  \n",
       "0         0.412560  \n",
       "1         0.411121  \n",
       "2         0.406456  \n",
       "3         0.400234  \n",
       "4         0.393973  "
      ]
     },
     "execution_count": 1,
     "metadata": {},
     "output_type": "execute_result"
    }
   ],
   "source": [
    "fine_tuning_data = \"<PATH>/led3_score/5_paper/data/experiment3_fine_tuning.csv\"\n",
    "\n",
    "import pandas\n",
    "fine_tuning = pandas.read_csv(fine_tuning_data)\n",
    "fine_tuning.head()"
   ]
  },
  {
   "cell_type": "code",
   "execution_count": 3,
   "metadata": {},
   "outputs": [
    {
     "data": {
      "text/plain": [
       "Index(['epoch', 'loss_train', 'loss_valid', 'valid_ratio', 'unique_ratio',\n",
       "       'desire_ratio', 'mean_train_loss'],\n",
       "      dtype='object')"
      ]
     },
     "execution_count": 3,
     "metadata": {},
     "output_type": "execute_result"
    }
   ],
   "source": [
    "fine_tuning.columns\n"
   ]
  },
  {
   "cell_type": "code",
   "execution_count": 3,
   "metadata": {},
   "outputs": [
    {
     "data": {
      "image/png": "[encoded data removed]",
      "text/plain": [
       "<Figure size 432x432 with 1 Axes>"
      ]
     },
     "metadata": {},
     "output_type": "display_data"
    }
   ],
   "source": [
    "import pandas as pd\n",
    "import seaborn as sns\n",
    "import matplotlib.pyplot as plt\n",
    "\n",
    "# Assuming 'fine_tuning' is your DataFrame with the specified columns\n",
    "# fine_tuning = pd.read_csv('your_data_file.csv')  # Load your DataFrame if needed\n",
    "\n",
    "# Set the style of the visualization\n",
    "sns.set(style=\"white\")\n",
    "\n",
    "# Create a figure and a set of subplots\n",
    "plt.figure(figsize=(6, 6))\n",
    "\n",
    "# Plotting each column against 'epoch'\n",
    "#sns.lineplot(x='epoch', y='loss_train', data=fine_tuning, label='Train Loss')\n",
    "sns.lineplot(x='epoch', y='loss_valid', data=fine_tuning, label='Validation')\n",
    "#sns.lineplot(x='epoch', y='valid_ratio', data=fine_tuning, label='Validation Ratio')\n",
    "#sns.lineplot(x='epoch', y='unique_ratio', data=fine_tuning, label='Unique Ratio')\n",
    "#sns.lineplot(x='epoch', y='desire_ratio', data=fine_tuning, label='Desire Ratio')\n",
    "sns.lineplot(x='epoch', y='mean_train_loss', data=fine_tuning, label='Training')\n",
    "\n",
    "# Adding labels and title\n",
    "plt.xlabel('Epoch')\n",
    "plt.ylabel('Loss')\n",
    "#plt.title('Fine Tuning Metrics Over Epochs')\n",
    "\n",
    "sns.despine(left=False, bottom=False)\n",
    "plt.tight_layout()\n",
    "\n",
    "# Show the legend\n",
    "legend= plt.legend()\n",
    "legend.get_frame().set_edgecolor('none')\n",
    "\n",
    "plt.savefig(\"./pdfs/experiment_3_model_fine_tuning.pdf\", bbox_inches='tight')\n",
    "plt.savefig(\"./svgs/experiment_3_model_fine_tuning.svg\", bbox_inches='tight', format=\"svg\")\n",
    "\n",
    "# Display the plot\n",
    "plt.show()"
   ]
  },
  {
   "cell_type": "code",
   "execution_count": 25,
   "metadata": {},
   "outputs": [
    {
     "data": {
      "text/html": [
       "<div>\n",
       "<style scoped>\n",
       "    .dataframe tbody tr th:only-of-type {\n",
       "        vertical-align: middle;\n",
       "    }\n",
       "\n",
       "    .dataframe tbody tr th {\n",
       "        vertical-align: top;\n",
       "    }\n",
       "\n",
       "    .dataframe thead th {\n",
       "        text-align: right;\n",
       "    }\n",
       "</style>\n",
       "<table border=\"1\" class=\"dataframe\">\n",
       "  <thead>\n",
       "    <tr style=\"text-align: right;\">\n",
       "      <th></th>\n",
       "      <th>Desirability</th>\n",
       "      <th>XGBClassifier</th>\n",
       "      <th>Epoch</th>\n",
       "      <th>Name</th>\n",
       "      <th>epsilon</th>\n",
       "      <th>LED3Scorer</th>\n",
       "      <th>SA</th>\n",
       "    </tr>\n",
       "  </thead>\n",
       "  <tbody>\n",
       "    <tr>\n",
       "      <th>0</th>\n",
       "      <td>0.972301</td>\n",
       "      <td>0.960192</td>\n",
       "      <td>79</td>\n",
       "      <td>Baseline</td>\n",
       "      <td>0.01</td>\n",
       "      <td>NaN</td>\n",
       "      <td>NaN</td>\n",
       "    </tr>\n",
       "    <tr>\n",
       "      <th>1</th>\n",
       "      <td>0.656823</td>\n",
       "      <td>0.631774</td>\n",
       "      <td>5</td>\n",
       "      <td>Baseline</td>\n",
       "      <td>0.01</td>\n",
       "      <td>NaN</td>\n",
       "      <td>NaN</td>\n",
       "    </tr>\n",
       "    <tr>\n",
       "      <th>2</th>\n",
       "      <td>0.756619</td>\n",
       "      <td>0.722706</td>\n",
       "      <td>6</td>\n",
       "      <td>Baseline</td>\n",
       "      <td>0.01</td>\n",
       "      <td>NaN</td>\n",
       "      <td>NaN</td>\n",
       "    </tr>\n",
       "    <tr>\n",
       "      <th>3</th>\n",
       "      <td>0.832383</td>\n",
       "      <td>0.798899</td>\n",
       "      <td>7</td>\n",
       "      <td>Baseline</td>\n",
       "      <td>0.01</td>\n",
       "      <td>NaN</td>\n",
       "      <td>NaN</td>\n",
       "    </tr>\n",
       "    <tr>\n",
       "      <th>4</th>\n",
       "      <td>0.877393</td>\n",
       "      <td>0.837352</td>\n",
       "      <td>8</td>\n",
       "      <td>Baseline</td>\n",
       "      <td>0.01</td>\n",
       "      <td>NaN</td>\n",
       "      <td>NaN</td>\n",
       "    </tr>\n",
       "  </tbody>\n",
       "</table>\n",
       "</div>"
      ],
      "text/plain": [
       "   Desirability  XGBClassifier  Epoch      Name  epsilon  LED3Scorer  SA\n",
       "0      0.972301       0.960192     79  Baseline     0.01         NaN NaN\n",
       "1      0.656823       0.631774      5  Baseline     0.01         NaN NaN\n",
       "2      0.756619       0.722706      6  Baseline     0.01         NaN NaN\n",
       "3      0.832383       0.798899      7  Baseline     0.01         NaN NaN\n",
       "4      0.877393       0.837352      8  Baseline     0.01         NaN NaN"
      ]
     },
     "execution_count": 25,
     "metadata": {},
     "output_type": "execute_result"
    }
   ],
   "source": [
    "epsilon = \"<PATH>/led3_score/5_paper/data/experiment_3_rl_summary.csv\"\n",
    "\n",
    "import pandas\n",
    "epsilon = pandas.read_csv(epsilon)\n",
    "epsilon.head()"
   ]
  },
  {
   "cell_type": "code",
   "execution_count": 41,
   "metadata": {},
   "outputs": [],
   "source": [
    "#get the rows with the highest epoch for each name and epsilon\n",
    "grouped_epsilon = epsilon.groupby([\"Name\", \"epsilon\"]).max()\n",
    "grouped_epsilon.reset_index(inplace=True)\n",
    "grouped_epsilon\n",
    "\n",
    "# rename Name entries\n",
    "# Baseline to QSAR Only\n",
    "\n",
    "grouped_epsilon[\"Name\"] = grouped_epsilon[\"Name\"].replace(\"Baseline\", \"QSAR Only\")\n",
    "grouped_epsilon[\"Name\"] = grouped_epsilon[\"Name\"].replace(\"LED3Score-Casp10k\", \"Led3-Caspyrus10k\")\n",
    "grouped_epsilon[\"Name\"] = grouped_epsilon[\"Name\"].replace(\"LED3Score-ChEMBL200k\", \"Led3-ChEMBL200k\")\n",
    "grouped_epsilon[\"Name\"] = grouped_epsilon[\"Name\"].replace(\"ZINCScore-casp10k\", \"Zinc-Caspyrus10k\")\n",
    "grouped_epsilon[\"Name\"] = grouped_epsilon[\"Name\"].replace(\"ZINCScore-ChEMBL200k\", \"Zinc-ChEMBL200k\")\n",
    "\n",
    "# rename Name column to Score\n",
    "grouped_epsilon.rename(columns={\"Name\": \"Score\",\"XGBClassifier\": \"QSAR\"}, inplace=True)\n",
    "\n",
    "# sort rowns by QSAR Only, SAScore, Led3-Caspyrus10k, Led3-ChEMBL200k, Zinc-Caspyrus10k, Zinc-ChEMBL200k in the Score column"
   ]
  },
  {
   "cell_type": "code",
   "execution_count": 44,
   "metadata": {},
   "outputs": [
    {
     "data": {
      "text/plain": [
       "<Figure size 432x432 with 0 Axes>"
      ]
     },
     "metadata": {},
     "output_type": "display_data"
    },
    {
     "data": {
      "image/png": "[encoded data removed]",
      "text/plain": [
       "<Figure size 574.35x432 with 1 Axes>"
      ]
     },
     "metadata": {},
     "output_type": "display_data"
    }
   ],
   "source": [
    "import seaborn as sns\n",
    "import matplotlib.pyplot as plt\n",
    "\n",
    "sns.set_theme(style=\"white\")\n",
    "\n",
    "plt.figure(figsize=(6, 6))  # Set the figure size\n",
    "    \n",
    "# Create the catplot\n",
    "g = sns.catplot(\n",
    "    x=\"epsilon\",\n",
    "    y=\"Desirability\",\n",
    "    hue=\"Score\",\n",
    "    kind=\"bar\",\n",
    "    data=grouped_epsilon,\n",
    "    height=6,\n",
    "    aspect=1,\n",
    "    palette=\"muted\",\n",
    "    hue_order=[\"QSAR Only\",\"SAScore\", \"Led3-Caspyrus10k\", \"Led3-ChEMBL200k\", \"Zinc-Caspyrus10k\", \"Zinc-ChEMBL200k\"],\n",
    ")\n",
    "\n",
    "# Set y axis limits\n",
    "g.set(ylim=(0, 1))\n",
    "\n",
    "# Rotate x-axis labels\n",
    "#g.set_xticklabels(rotation=45)\n",
    "\n",
    "# Set labels and title\n",
    "g.set_axis_labels(\"Epsilon\", \"Desirability\")\n",
    "#g.fig.suptitle(\"Molecules Solved by Led3 and Zinc Building Blocks\", y=1.05)\n",
    "\n",
    "plt.savefig(\"./pdfs/experiment_3_rl_summary_desirability.pdf\", bbox_inches='tight')\n",
    "plt.savefig(\"./svgs/experiment_3_rl_summary_desirability.svg\", bbox_inches='tight', format=\"svg\")\n",
    "# Show the plot\n",
    "plt.show()"
   ]
  },
  {
   "cell_type": "code",
   "execution_count": 45,
   "metadata": {},
   "outputs": [
    {
     "data": {
      "text/plain": [
       "<Figure size 432x432 with 0 Axes>"
      ]
     },
     "metadata": {},
     "output_type": "display_data"
    },
    {
     "data": {
      "image/png": "[encoded data removed]",
      "text/plain": [
       "<Figure size 574.35x432 with 1 Axes>"
      ]
     },
     "metadata": {},
     "output_type": "display_data"
    }
   ],
   "source": [
    "import seaborn as sns\n",
    "import matplotlib.pyplot as plt\n",
    "\n",
    "sns.set_theme(style=\"white\")\n",
    "\n",
    "plt.figure(figsize=(6, 6))  # Set the figure size\n",
    "    \n",
    "# Create the catplot\n",
    "g = sns.catplot(\n",
    "    x=\"epsilon\",\n",
    "    y=\"QSAR\",\n",
    "    hue=\"Score\",\n",
    "    kind=\"bar\",\n",
    "    data=grouped_epsilon,\n",
    "    height=6,\n",
    "    aspect=1,\n",
    "    palette=\"muted\",\n",
    "    hue_order=[\"QSAR Only\",\"SAScore\", \"Led3-Caspyrus10k\", \"Led3-ChEMBL200k\", \"Zinc-Caspyrus10k\", \"Zinc-ChEMBL200k\"],\n",
    ")\n",
    "\n",
    "# Set y axis limits\n",
    "g.set(ylim=(0, 1))\n",
    "\n",
    "# Rotate x-axis labels\n",
    "#g.set_xticklabels(rotation=45)\n",
    "\n",
    "# Set labels and title\n",
    "g.set_axis_labels(\"Epsilon\", \"QSAR\")\n",
    "#g.fig.suptitle(\"Molecules Solved by Led3 and Zinc Building Blocks\", y=1.05)\n",
    "\n",
    "plt.savefig(\"./pdfs/experiment_3_rl_summary_qsar.pdf\", bbox_inches='tight')\n",
    "plt.savefig(\"./svgs/experiment_3_rl_summary_qsar.svg\", bbox_inches='tight', format=\"svg\")\n",
    "\n",
    "# Show the plot\n",
    "plt.show()"
   ]
  }
 ],
 "metadata": {
  "kernelspec": {
   "display_name": "multiretro",
   "language": "python",
   "name": "python3"
  },
  "language_info": {
   "codemirror_mode": {
    "name": "ipython",
    "version": 3
   },
   "file_extension": ".py",
   "mimetype": "text/x-python",
   "name": "python",
   "nbconvert_exporter": "python",
   "pygments_lexer": "ipython3",
   "version": "3.8.13"
  }
 },
 "nbformat": 4,
 "nbformat_minor": 2
}
