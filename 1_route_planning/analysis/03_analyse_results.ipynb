{
 "cells": [
  {
   "cell_type": "code",
   "execution_count": 32,
   "metadata": {},
   "outputs": [],
   "source": [
    "def calculate_solvability(results_df):\n",
    "\n",
    "    # get the rows where led3_result is true\n",
    "    led3_true = results_df[results_df[\"led3_result\"] >= 1]\n",
    "    print(\"Led3: \", len(led3_true)/len(results_df))\n",
    "\n",
    "    # get the rows where led3_result is true\n",
    "    zinc_true = results_df[results_df[\"zinc_result\"] >= 1]\n",
    "    print(\"Zinc: \", len(zinc_true)/len(results_df))"
   ]
  },
  {
   "cell_type": "markdown",
   "metadata": {},
   "source": [
    "# Chembl 200k random sample Results"
   ]
  },
  {
   "cell_type": "code",
   "execution_count": 33,
   "metadata": {},
   "outputs": [
    {
     "data": {
      "text/html": [
       "<div>\n",
       "<style scoped>\n",
       "    .dataframe tbody tr th:only-of-type {\n",
       "        vertical-align: middle;\n",
       "    }\n",
       "\n",
       "    .dataframe tbody tr th {\n",
       "        vertical-align: top;\n",
       "    }\n",
       "\n",
       "    .dataframe thead th {\n",
       "        text-align: right;\n",
       "    }\n",
       "</style>\n",
       "<table border=\"1\" class=\"dataframe\">\n",
       "  <thead>\n",
       "    <tr style=\"text-align: right;\">\n",
       "      <th></th>\n",
       "      <th>chembl_id</th>\n",
       "      <th>canonical_smiles</th>\n",
       "      <th>standard_inchi</th>\n",
       "      <th>standard_inchi_key</th>\n",
       "      <th>clean_smiles</th>\n",
       "      <th>led3_result</th>\n",
       "      <th>zinc_result</th>\n",
       "    </tr>\n",
       "  </thead>\n",
       "  <tbody>\n",
       "    <tr>\n",
       "      <th>0</th>\n",
       "      <td>CHEMBL1701388</td>\n",
       "      <td>Cc1ccnc(NC(=O)CNC(=O)c2ccco2)c1</td>\n",
       "      <td>InChI=1S/C13H13N3O3/c1-9-4-5-14-11(7-9)16-12(1...</td>\n",
       "      <td>TVEYOTVLWVJFMS-UHFFFAOYSA-N</td>\n",
       "      <td>Cc1ccnc(NC(=O)CNC(=O)c2ccco2)c1</td>\n",
       "      <td>1</td>\n",
       "      <td>1</td>\n",
       "    </tr>\n",
       "    <tr>\n",
       "      <th>1</th>\n",
       "      <td>CHEMBL1396085</td>\n",
       "      <td>COc1ccccc1NS(=O)(=O)c1cc(C(=O)NCC(C)(C)N2CCOCC...</td>\n",
       "      <td>InChI=1S/C23H31N3O5S/c1-17-9-10-18(22(27)24-16...</td>\n",
       "      <td>UNMNWPSZCDFARA-UHFFFAOYSA-N</td>\n",
       "      <td>COc1ccccc1NS(=O)(=O)c1cc(C(=O)NCC(C)(C)N2CCOCC...</td>\n",
       "      <td>1</td>\n",
       "      <td>1</td>\n",
       "    </tr>\n",
       "    <tr>\n",
       "      <th>2</th>\n",
       "      <td>CHEMBL114049</td>\n",
       "      <td>C[N+](C)(C)c1cccc(C(=O)OCCCCCCCn2ccc3cc([N+](=...</td>\n",
       "      <td>InChI=1S/C25H32N3O4.HI/c1-28(2,3)23-11-9-10-21...</td>\n",
       "      <td>LJGUZMILFLOGDO-UHFFFAOYSA-M</td>\n",
       "      <td>C[N+](C)(C)c1cccc(C(=O)OCCCCCCCn2ccc3cc([N+](=...</td>\n",
       "      <td>1</td>\n",
       "      <td>1</td>\n",
       "    </tr>\n",
       "    <tr>\n",
       "      <th>3</th>\n",
       "      <td>CHEMBL1081025</td>\n",
       "      <td>O=C(Nc1cccc(-c2cn3ccnc3c(NCc3ccncc3)n2)c1)Nc1c...</td>\n",
       "      <td>InChI=1S/C25H19Cl2N7O/c26-18-4-5-21(20(27)13-1...</td>\n",
       "      <td>HLMIPIHLMFHHMW-UHFFFAOYSA-N</td>\n",
       "      <td>O=C(Nc1cccc(-c2cn3ccnc3c(NCc3ccncc3)n2)c1)Nc1c...</td>\n",
       "      <td>1</td>\n",
       "      <td>2</td>\n",
       "    </tr>\n",
       "    <tr>\n",
       "      <th>4</th>\n",
       "      <td>CHEMBL154139</td>\n",
       "      <td>Cc1ccc(/C=C/C(=O)NCCCCN2CCN(C(c3ccccc3)c3ccccc...</td>\n",
       "      <td>InChI=1S/C30H36N4O/c1-25-14-15-26(24-32-25)16-...</td>\n",
       "      <td>DVYCNKDRINREMB-WUKNDPDISA-N</td>\n",
       "      <td>Cc1ccc(/C=C/C(=O)NCCCCN2CCN(C(c3ccccc3)c3ccccc...</td>\n",
       "      <td>1</td>\n",
       "      <td>1</td>\n",
       "    </tr>\n",
       "  </tbody>\n",
       "</table>\n",
       "</div>"
      ],
      "text/plain": [
       "       chembl_id                                   canonical_smiles  \\\n",
       "0  CHEMBL1701388                    Cc1ccnc(NC(=O)CNC(=O)c2ccco2)c1   \n",
       "1  CHEMBL1396085  COc1ccccc1NS(=O)(=O)c1cc(C(=O)NCC(C)(C)N2CCOCC...   \n",
       "2   CHEMBL114049  C[N+](C)(C)c1cccc(C(=O)OCCCCCCCn2ccc3cc([N+](=...   \n",
       "3  CHEMBL1081025  O=C(Nc1cccc(-c2cn3ccnc3c(NCc3ccncc3)n2)c1)Nc1c...   \n",
       "4   CHEMBL154139  Cc1ccc(/C=C/C(=O)NCCCCN2CCN(C(c3ccccc3)c3ccccc...   \n",
       "\n",
       "                                      standard_inchi  \\\n",
       "0  InChI=1S/C13H13N3O3/c1-9-4-5-14-11(7-9)16-12(1...   \n",
       "1  InChI=1S/C23H31N3O5S/c1-17-9-10-18(22(27)24-16...   \n",
       "2  InChI=1S/C25H32N3O4.HI/c1-28(2,3)23-11-9-10-21...   \n",
       "3  InChI=1S/C25H19Cl2N7O/c26-18-4-5-21(20(27)13-1...   \n",
       "4  InChI=1S/C30H36N4O/c1-25-14-15-26(24-32-25)16-...   \n",
       "\n",
       "            standard_inchi_key  \\\n",
       "0  TVEYOTVLWVJFMS-UHFFFAOYSA-N   \n",
       "1  UNMNWPSZCDFARA-UHFFFAOYSA-N   \n",
       "2  LJGUZMILFLOGDO-UHFFFAOYSA-M   \n",
       "3  HLMIPIHLMFHHMW-UHFFFAOYSA-N   \n",
       "4  DVYCNKDRINREMB-WUKNDPDISA-N   \n",
       "\n",
       "                                        clean_smiles  led3_result  zinc_result  \n",
       "0                    Cc1ccnc(NC(=O)CNC(=O)c2ccco2)c1            1            1  \n",
       "1  COc1ccccc1NS(=O)(=O)c1cc(C(=O)NCC(C)(C)N2CCOCC...            1            1  \n",
       "2  C[N+](C)(C)c1cccc(C(=O)OCCCCCCCn2ccc3cc([N+](=...            1            1  \n",
       "3  O=C(Nc1cccc(-c2cn3ccnc3c(NCc3ccncc3)n2)c1)Nc1c...            1            2  \n",
       "4  Cc1ccc(/C=C/C(=O)NCCCCN2CCN(C(c3ccccc3)c3ccccc...            1            1  "
      ]
     },
     "execution_count": 33,
     "metadata": {},
     "output_type": "execute_result"
    }
   ],
   "source": [
    "import pandas \n",
    "chembl200k_random_sample_results_path = \"./led3_score/data/results/1_route_planning/chembl200k_results.csv\"\n",
    "chembl200k_random_sample_results = pandas.read_csv(chembl200k_random_sample_results_path)\n",
    "chembl200k_random_sample_results.head()"
   ]
  },
  {
   "cell_type": "code",
   "execution_count": 34,
   "metadata": {},
   "outputs": [
    {
     "name": "stdout",
     "output_type": "stream",
     "text": [
      "Led3:  0.550405\n",
      "Zinc:  0.666535\n"
     ]
    }
   ],
   "source": [
    "calculate_solvability(chembl200k_random_sample_results)"
   ]
  },
  {
   "cell_type": "markdown",
   "metadata": {},
   "source": [
    "# Caspyrus Results"
   ]
  },
  {
   "cell_type": "markdown",
   "metadata": {},
   "source": [
    "## 50k"
   ]
  },
  {
   "cell_type": "code",
   "execution_count": 35,
   "metadata": {},
   "outputs": [
    {
     "data": {
      "text/html": [
       "<div>\n",
       "<style scoped>\n",
       "    .dataframe tbody tr th:only-of-type {\n",
       "        vertical-align: middle;\n",
       "    }\n",
       "\n",
       "    .dataframe tbody tr th {\n",
       "        vertical-align: top;\n",
       "    }\n",
       "\n",
       "    .dataframe thead th {\n",
       "        text-align: right;\n",
       "    }\n",
       "</style>\n",
       "<table border=\"1\" class=\"dataframe\">\n",
       "  <thead>\n",
       "    <tr style=\"text-align: right;\">\n",
       "      <th></th>\n",
       "      <th>clean_smiles</th>\n",
       "      <th>Cluster</th>\n",
       "      <th>Centroid</th>\n",
       "      <th>led3_result</th>\n",
       "      <th>zinc_result</th>\n",
       "    </tr>\n",
       "  </thead>\n",
       "  <tbody>\n",
       "    <tr>\n",
       "      <th>0</th>\n",
       "      <td>COc1cc(OC)cc(N(CCO)c2ccc3ncc(-c4cnn(C)c4)nc3c2)c1</td>\n",
       "      <td>0</td>\n",
       "      <td>True</td>\n",
       "      <td>1</td>\n",
       "      <td>1</td>\n",
       "    </tr>\n",
       "    <tr>\n",
       "      <th>1</th>\n",
       "      <td>CCc1ncnc(-c2ccc(C(=O)N3CCN(C(C)=O)CC3)c(F)c2)c...</td>\n",
       "      <td>1</td>\n",
       "      <td>True</td>\n",
       "      <td>1</td>\n",
       "      <td>1</td>\n",
       "    </tr>\n",
       "    <tr>\n",
       "      <th>2</th>\n",
       "      <td>COC(=O)N1CCC(n2ncc3c(N4CCOCC4)nc(-c4ccc(NC(=O)...</td>\n",
       "      <td>2</td>\n",
       "      <td>True</td>\n",
       "      <td>1</td>\n",
       "      <td>1</td>\n",
       "    </tr>\n",
       "    <tr>\n",
       "      <th>3</th>\n",
       "      <td>CCCCCOC(=O)N1CCN(C(=O)[C@H](CCC(=O)O)NC(=O)c2c...</td>\n",
       "      <td>3</td>\n",
       "      <td>True</td>\n",
       "      <td>0</td>\n",
       "      <td>1</td>\n",
       "    </tr>\n",
       "    <tr>\n",
       "      <th>4</th>\n",
       "      <td>COc1cc(OCc2csc(-c3ccccc3)n2)c2cc(-c3cn4nc(OC)s...</td>\n",
       "      <td>4</td>\n",
       "      <td>True</td>\n",
       "      <td>1</td>\n",
       "      <td>1</td>\n",
       "    </tr>\n",
       "  </tbody>\n",
       "</table>\n",
       "</div>"
      ],
      "text/plain": [
       "                                        clean_smiles  Cluster  Centroid  \\\n",
       "0  COc1cc(OC)cc(N(CCO)c2ccc3ncc(-c4cnn(C)c4)nc3c2)c1        0      True   \n",
       "1  CCc1ncnc(-c2ccc(C(=O)N3CCN(C(C)=O)CC3)c(F)c2)c...        1      True   \n",
       "2  COC(=O)N1CCC(n2ncc3c(N4CCOCC4)nc(-c4ccc(NC(=O)...        2      True   \n",
       "3  CCCCCOC(=O)N1CCN(C(=O)[C@H](CCC(=O)O)NC(=O)c2c...        3      True   \n",
       "4  COc1cc(OCc2csc(-c3ccccc3)n2)c2cc(-c3cn4nc(OC)s...        4      True   \n",
       "\n",
       "   led3_result  zinc_result  \n",
       "0            1            1  \n",
       "1            1            1  \n",
       "2            1            1  \n",
       "3            0            1  \n",
       "4            1            1  "
      ]
     },
     "execution_count": 35,
     "metadata": {},
     "output_type": "execute_result"
    }
   ],
   "source": [
    "import pandas\n",
    "caspyrus50k_results_path = \"./led3_score/data/results/1_route_planning/caspyrus_50k_results.csv\"\n",
    "caspyrus50k_results = pandas.read_csv(caspyrus50k_results_path)\n",
    "caspyrus50k_results.head()"
   ]
  },
  {
   "cell_type": "code",
   "execution_count": 36,
   "metadata": {},
   "outputs": [
    {
     "name": "stdout",
     "output_type": "stream",
     "text": [
      "Led3:  0.59804\n",
      "Zinc:  0.71568\n"
     ]
    }
   ],
   "source": [
    "calculate_solvability(caspyrus50k_results)"
   ]
  },
  {
   "cell_type": "markdown",
   "metadata": {},
   "source": [
    "## 10k"
   ]
  },
  {
   "cell_type": "code",
   "execution_count": 37,
   "metadata": {},
   "outputs": [
    {
     "data": {
      "text/html": [
       "<div>\n",
       "<style scoped>\n",
       "    .dataframe tbody tr th:only-of-type {\n",
       "        vertical-align: middle;\n",
       "    }\n",
       "\n",
       "    .dataframe tbody tr th {\n",
       "        vertical-align: top;\n",
       "    }\n",
       "\n",
       "    .dataframe thead th {\n",
       "        text-align: right;\n",
       "    }\n",
       "</style>\n",
       "<table border=\"1\" class=\"dataframe\">\n",
       "  <thead>\n",
       "    <tr style=\"text-align: right;\">\n",
       "      <th></th>\n",
       "      <th>clean_smiles</th>\n",
       "      <th>Cluster</th>\n",
       "      <th>Centroid</th>\n",
       "    </tr>\n",
       "  </thead>\n",
       "  <tbody>\n",
       "    <tr>\n",
       "      <th>0</th>\n",
       "      <td>COc1cc(OC)cc(N(CCO)c2ccc3ncc(-c4cnn(C)c4)nc3c2)c1</td>\n",
       "      <td>0</td>\n",
       "      <td>True</td>\n",
       "    </tr>\n",
       "    <tr>\n",
       "      <th>1</th>\n",
       "      <td>CCc1ncnc(-c2ccc(C(=O)N3CCN(C(C)=O)CC3)c(F)c2)c...</td>\n",
       "      <td>1</td>\n",
       "      <td>True</td>\n",
       "    </tr>\n",
       "    <tr>\n",
       "      <th>2</th>\n",
       "      <td>COC(=O)N1CCC(n2ncc3c(N4CCOCC4)nc(-c4ccc(NC(=O)...</td>\n",
       "      <td>2</td>\n",
       "      <td>True</td>\n",
       "    </tr>\n",
       "    <tr>\n",
       "      <th>3</th>\n",
       "      <td>CCCCCOC(=O)N1CCN(C(=O)[C@H](CCC(=O)O)NC(=O)c2c...</td>\n",
       "      <td>3</td>\n",
       "      <td>True</td>\n",
       "    </tr>\n",
       "    <tr>\n",
       "      <th>4</th>\n",
       "      <td>COc1cc(OCc2csc(-c3ccccc3)n2)c2cc(-c3cn4nc(OC)s...</td>\n",
       "      <td>4</td>\n",
       "      <td>True</td>\n",
       "    </tr>\n",
       "  </tbody>\n",
       "</table>\n",
       "</div>"
      ],
      "text/plain": [
       "                                        clean_smiles  Cluster  Centroid\n",
       "0  COc1cc(OC)cc(N(CCO)c2ccc3ncc(-c4cnn(C)c4)nc3c2)c1        0      True\n",
       "1  CCc1ncnc(-c2ccc(C(=O)N3CCN(C(C)=O)CC3)c(F)c2)c...        1      True\n",
       "2  COC(=O)N1CCC(n2ncc3c(N4CCOCC4)nc(-c4ccc(NC(=O)...        2      True\n",
       "3  CCCCCOC(=O)N1CCN(C(=O)[C@H](CCC(=O)O)NC(=O)c2c...        3      True\n",
       "4  COc1cc(OCc2csc(-c3ccccc3)n2)c2cc(-c3cn4nc(OC)s...        4      True"
      ]
     },
     "execution_count": 37,
     "metadata": {},
     "output_type": "execute_result"
    }
   ],
   "source": [
    "import pandas\n",
    "caspyrus10k_path = \"./led3_score/data/chemical_datasets/casp/CASPyrus10k.csv\"\n",
    "caspyrus10k = pandas.read_csv(caspyrus10k_path)\n",
    "caspyrus10k.head()"
   ]
  },
  {
   "cell_type": "code",
   "execution_count": 38,
   "metadata": {},
   "outputs": [
    {
     "name": "stdout",
     "output_type": "stream",
     "text": [
      "Led3:  0.5808\n",
      "Zinc:  0.7195\n"
     ]
    }
   ],
   "source": [
    "# compare two string series and find the differences\n",
    "def compare_strings(series1, series2):\n",
    "    diff = series1.to_numpy() == series2.to_numpy()\n",
    "    return diff\n",
    "\n",
    "caspyrus10k_results = caspyrus50k_results[:10000]\n",
    "\n",
    "# assert that the clean_smiles columns are the same in caspyrus10k and caspyrus50k_results\n",
    "assert compare_strings(caspyrus10k[\"clean_smiles\"], caspyrus10k_results[\"clean_smiles\"]).all()\n",
    "\n",
    "calculate_solvability(caspyrus10k_results)"
   ]
  },
  {
   "cell_type": "markdown",
   "metadata": {},
   "source": [
    "## 20k"
   ]
  },
  {
   "cell_type": "code",
   "execution_count": 39,
   "metadata": {},
   "outputs": [
    {
     "data": {
      "text/html": [
       "<div>\n",
       "<style scoped>\n",
       "    .dataframe tbody tr th:only-of-type {\n",
       "        vertical-align: middle;\n",
       "    }\n",
       "\n",
       "    .dataframe tbody tr th {\n",
       "        vertical-align: top;\n",
       "    }\n",
       "\n",
       "    .dataframe thead th {\n",
       "        text-align: right;\n",
       "    }\n",
       "</style>\n",
       "<table border=\"1\" class=\"dataframe\">\n",
       "  <thead>\n",
       "    <tr style=\"text-align: right;\">\n",
       "      <th></th>\n",
       "      <th>clean_smiles</th>\n",
       "      <th>Cluster</th>\n",
       "      <th>Centroid</th>\n",
       "    </tr>\n",
       "  </thead>\n",
       "  <tbody>\n",
       "    <tr>\n",
       "      <th>0</th>\n",
       "      <td>COc1cc(OC)cc(N(CCO)c2ccc3ncc(-c4cnn(C)c4)nc3c2)c1</td>\n",
       "      <td>0</td>\n",
       "      <td>True</td>\n",
       "    </tr>\n",
       "    <tr>\n",
       "      <th>1</th>\n",
       "      <td>CCc1ncnc(-c2ccc(C(=O)N3CCN(C(C)=O)CC3)c(F)c2)c...</td>\n",
       "      <td>1</td>\n",
       "      <td>True</td>\n",
       "    </tr>\n",
       "    <tr>\n",
       "      <th>2</th>\n",
       "      <td>COC(=O)N1CCC(n2ncc3c(N4CCOCC4)nc(-c4ccc(NC(=O)...</td>\n",
       "      <td>2</td>\n",
       "      <td>True</td>\n",
       "    </tr>\n",
       "    <tr>\n",
       "      <th>3</th>\n",
       "      <td>CCCCCOC(=O)N1CCN(C(=O)[C@H](CCC(=O)O)NC(=O)c2c...</td>\n",
       "      <td>3</td>\n",
       "      <td>True</td>\n",
       "    </tr>\n",
       "    <tr>\n",
       "      <th>4</th>\n",
       "      <td>COc1cc(OCc2csc(-c3ccccc3)n2)c2cc(-c3cn4nc(OC)s...</td>\n",
       "      <td>4</td>\n",
       "      <td>True</td>\n",
       "    </tr>\n",
       "  </tbody>\n",
       "</table>\n",
       "</div>"
      ],
      "text/plain": [
       "                                        clean_smiles  Cluster  Centroid\n",
       "0  COc1cc(OC)cc(N(CCO)c2ccc3ncc(-c4cnn(C)c4)nc3c2)c1        0      True\n",
       "1  CCc1ncnc(-c2ccc(C(=O)N3CCN(C(C)=O)CC3)c(F)c2)c...        1      True\n",
       "2  COC(=O)N1CCC(n2ncc3c(N4CCOCC4)nc(-c4ccc(NC(=O)...        2      True\n",
       "3  CCCCCOC(=O)N1CCN(C(=O)[C@H](CCC(=O)O)NC(=O)c2c...        3      True\n",
       "4  COc1cc(OCc2csc(-c3ccccc3)n2)c2cc(-c3cn4nc(OC)s...        4      True"
      ]
     },
     "execution_count": 39,
     "metadata": {},
     "output_type": "execute_result"
    }
   ],
   "source": [
    "import pandas\n",
    "caspyrus20k_path = \"./led3_score/data/chemical_datasets/casp/CASPyrus20k.csv\"\n",
    "caspyrus20k = pandas.read_csv(caspyrus20k_path)\n",
    "caspyrus20k.head()"
   ]
  },
  {
   "cell_type": "code",
   "execution_count": 40,
   "metadata": {},
   "outputs": [
    {
     "name": "stdout",
     "output_type": "stream",
     "text": [
      "Led3:  0.5929\n",
      "Zinc:  0.72055\n"
     ]
    }
   ],
   "source": [
    "caspyrus20k_results = caspyrus50k_results[:20000]\n",
    "\n",
    "# assert that the clean_smiles columns are the same in caspyrus10k and caspyrus50k_results\n",
    "assert compare_strings(caspyrus20k[\"clean_smiles\"], caspyrus20k_results[\"clean_smiles\"]).all()\n",
    "\n",
    "calculate_solvability(caspyrus20k_results)"
   ]
  }
 ],
 "metadata": {
  "kernelspec": {
   "display_name": "Python 3.9.13 ('led3_score': conda)",
   "language": "python",
   "name": "python3"
  },
  "language_info": {
   "codemirror_mode": {
    "name": "ipython",
    "version": 3
   },
   "file_extension": ".py",
   "mimetype": "text/x-python",
   "name": "python",
   "nbconvert_exporter": "python",
   "pygments_lexer": "ipython3",
   "version": "3.9.13"
  },
  "orig_nbformat": 4,
  "vscode": {
   "interpreter": {
    "hash": "92b86aa12f67c725a1311035c9bfe738af5a6637a23dedc52178d5ac0c76170b"
   }
  }
 },
 "nbformat": 4,
 "nbformat_minor": 2
}
