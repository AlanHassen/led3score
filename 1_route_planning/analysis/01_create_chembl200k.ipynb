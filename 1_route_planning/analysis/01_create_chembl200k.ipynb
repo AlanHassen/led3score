{
 "cells": [
  {
   "cell_type": "markdown",
   "metadata": {},
   "source": [
    "# extract 200k random smiles from chembl"
   ]
  },
  {
   "cell_type": "code",
   "execution_count": 1,
   "metadata": {},
   "outputs": [
    {
     "name": "stdout",
     "output_type": "stream",
     "text": [
      "Length of ChEMBL 29:  1950185\n"
     ]
    },
    {
     "data": {
      "text/html": [
       "<div>\n",
       "<style scoped>\n",
       "    .dataframe tbody tr th:only-of-type {\n",
       "        vertical-align: middle;\n",
       "    }\n",
       "\n",
       "    .dataframe tbody tr th {\n",
       "        vertical-align: top;\n",
       "    }\n",
       "\n",
       "    .dataframe thead th {\n",
       "        text-align: right;\n",
       "    }\n",
       "</style>\n",
       "<table border=\"1\" class=\"dataframe\">\n",
       "  <thead>\n",
       "    <tr style=\"text-align: right;\">\n",
       "      <th></th>\n",
       "      <th>chembl_id</th>\n",
       "      <th>canonical_smiles</th>\n",
       "      <th>standard_inchi</th>\n",
       "      <th>standard_inchi_key</th>\n",
       "      <th>clean_smiles</th>\n",
       "    </tr>\n",
       "  </thead>\n",
       "  <tbody>\n",
       "    <tr>\n",
       "      <th>0</th>\n",
       "      <td>CHEMBL153534</td>\n",
       "      <td>Cc1cc(-c2csc(N=C(N)N)n2)cn1C</td>\n",
       "      <td>InChI=1S/C10H13N5S/c1-6-3-7(4-15(6)2)8-5-16-10...</td>\n",
       "      <td>MFRNFCWYPYSFQQ-UHFFFAOYSA-N</td>\n",
       "      <td>Cc1cc(-c2csc(N=C(N)N)n2)cn1C</td>\n",
       "    </tr>\n",
       "    <tr>\n",
       "      <th>1</th>\n",
       "      <td>CHEMBL405398</td>\n",
       "      <td>Brc1cccc(Nc2ncnc3ccncc23)c1NCCN1CCOCC1</td>\n",
       "      <td>InChI=1S/C19H21BrN6O/c20-15-2-1-3-17(18(15)22-...</td>\n",
       "      <td>VDSXZXJEWIWBCG-UHFFFAOYSA-N</td>\n",
       "      <td>Brc1cccc(Nc2ncnc3ccncc23)c1NCCN1CCOCC1</td>\n",
       "    </tr>\n",
       "    <tr>\n",
       "      <th>2</th>\n",
       "      <td>CHEMBL503634</td>\n",
       "      <td>COc1c(O)cc(O)c(C(=N)Cc2ccc(O)cc2)c1O</td>\n",
       "      <td>InChI=1S/C15H15NO5/c1-21-15-12(19)7-11(18)13(1...</td>\n",
       "      <td>OPELSESCRGGKAM-UHFFFAOYSA-N</td>\n",
       "      <td>COc1c(O)cc(O)c(C(=N)Cc2ccc(O)cc2)c1O</td>\n",
       "    </tr>\n",
       "    <tr>\n",
       "      <th>3</th>\n",
       "      <td>CHEMBL503643</td>\n",
       "      <td>CCOC(=O)c1cc2cc(C(=O)O)ccc2[nH]1</td>\n",
       "      <td>InChI=1S/C12H11NO4/c1-2-17-12(16)10-6-8-5-7(11...</td>\n",
       "      <td>CAVYPAYXEMVXMS-UHFFFAOYSA-N</td>\n",
       "      <td>CCOC(=O)c1cc2cc(C(=O)O)ccc2[nH]1</td>\n",
       "    </tr>\n",
       "    <tr>\n",
       "      <th>4</th>\n",
       "      <td>CHEMBL503865</td>\n",
       "      <td>CC(=O)O[C@H]1/C(C)=C\\[C@@H]2OC(=O)[C@]3(C)O[C@...</td>\n",
       "      <td>InChI=1S/C28H36O13/c1-12-11-18-28(27(8,41-28)2...</td>\n",
       "      <td>NMFRJERNUSBMLR-BOVHOEAXSA-N</td>\n",
       "      <td>CC(=O)O[C@H]1/C(C)=C\\[C@@H]2OC(=O)[C@]3(C)O[C@...</td>\n",
       "    </tr>\n",
       "  </tbody>\n",
       "</table>\n",
       "</div>"
      ],
      "text/plain": [
       "      chembl_id                                   canonical_smiles  \\\n",
       "0  CHEMBL153534                       Cc1cc(-c2csc(N=C(N)N)n2)cn1C   \n",
       "1  CHEMBL405398             Brc1cccc(Nc2ncnc3ccncc23)c1NCCN1CCOCC1   \n",
       "2  CHEMBL503634               COc1c(O)cc(O)c(C(=N)Cc2ccc(O)cc2)c1O   \n",
       "3  CHEMBL503643                   CCOC(=O)c1cc2cc(C(=O)O)ccc2[nH]1   \n",
       "4  CHEMBL503865  CC(=O)O[C@H]1/C(C)=C\\[C@@H]2OC(=O)[C@]3(C)O[C@...   \n",
       "\n",
       "                                      standard_inchi  \\\n",
       "0  InChI=1S/C10H13N5S/c1-6-3-7(4-15(6)2)8-5-16-10...   \n",
       "1  InChI=1S/C19H21BrN6O/c20-15-2-1-3-17(18(15)22-...   \n",
       "2  InChI=1S/C15H15NO5/c1-21-15-12(19)7-11(18)13(1...   \n",
       "3  InChI=1S/C12H11NO4/c1-2-17-12(16)10-6-8-5-7(11...   \n",
       "4  InChI=1S/C28H36O13/c1-12-11-18-28(27(8,41-28)2...   \n",
       "\n",
       "            standard_inchi_key  \\\n",
       "0  MFRNFCWYPYSFQQ-UHFFFAOYSA-N   \n",
       "1  VDSXZXJEWIWBCG-UHFFFAOYSA-N   \n",
       "2  OPELSESCRGGKAM-UHFFFAOYSA-N   \n",
       "3  CAVYPAYXEMVXMS-UHFFFAOYSA-N   \n",
       "4  NMFRJERNUSBMLR-BOVHOEAXSA-N   \n",
       "\n",
       "                                        clean_smiles  \n",
       "0                       Cc1cc(-c2csc(N=C(N)N)n2)cn1C  \n",
       "1             Brc1cccc(Nc2ncnc3ccncc23)c1NCCN1CCOCC1  \n",
       "2               COc1c(O)cc(O)c(C(=N)Cc2ccc(O)cc2)c1O  \n",
       "3                   CCOC(=O)c1cc2cc(C(=O)O)ccc2[nH]1  \n",
       "4  CC(=O)O[C@H]1/C(C)=C\\[C@@H]2OC(=O)[C@]3(C)O[C@...  "
      ]
     },
     "execution_count": 1,
     "metadata": {},
     "output_type": "execute_result"
    }
   ],
   "source": [
    "import pandas\n",
    "chembl_29_path = \"./led3_score/data/chemical_datasets/full_datasets/cleanChembl29.csv\"\n",
    "chembl_29 = pandas.read_csv(targetFilePath=chembl_29_path)\n",
    "# print length\n",
    "print(\"Length of ChEMBL 29: \", len(chembl_29))\n",
    "chembl_29.head()"
   ]
  },
  {
   "cell_type": "code",
   "execution_count": 2,
   "metadata": {},
   "outputs": [
    {
     "name": "stdout",
     "output_type": "stream",
     "text": [
      "Length of ChEMBL 29 cleaned by caspyrus and sampled:  200000\n"
     ]
    },
    {
     "data": {
      "text/html": [
       "<div>\n",
       "<style scoped>\n",
       "    .dataframe tbody tr th:only-of-type {\n",
       "        vertical-align: middle;\n",
       "    }\n",
       "\n",
       "    .dataframe tbody tr th {\n",
       "        vertical-align: top;\n",
       "    }\n",
       "\n",
       "    .dataframe thead th {\n",
       "        text-align: right;\n",
       "    }\n",
       "</style>\n",
       "<table border=\"1\" class=\"dataframe\">\n",
       "  <thead>\n",
       "    <tr style=\"text-align: right;\">\n",
       "      <th></th>\n",
       "      <th>chembl_id</th>\n",
       "      <th>canonical_smiles</th>\n",
       "      <th>standard_inchi</th>\n",
       "      <th>standard_inchi_key</th>\n",
       "      <th>clean_smiles</th>\n",
       "    </tr>\n",
       "  </thead>\n",
       "  <tbody>\n",
       "    <tr>\n",
       "      <th>1105487</th>\n",
       "      <td>CHEMBL1701388</td>\n",
       "      <td>Cc1ccnc(NC(=O)CNC(=O)c2ccco2)c1</td>\n",
       "      <td>InChI=1S/C13H13N3O3/c1-9-4-5-14-11(7-9)16-12(1...</td>\n",
       "      <td>TVEYOTVLWVJFMS-UHFFFAOYSA-N</td>\n",
       "      <td>Cc1ccnc(NC(=O)CNC(=O)c2ccco2)c1</td>\n",
       "    </tr>\n",
       "    <tr>\n",
       "      <th>876326</th>\n",
       "      <td>CHEMBL1396085</td>\n",
       "      <td>COc1ccccc1NS(=O)(=O)c1cc(C(=O)NCC(C)(C)N2CCOCC...</td>\n",
       "      <td>InChI=1S/C23H31N3O5S/c1-17-9-10-18(22(27)24-16...</td>\n",
       "      <td>UNMNWPSZCDFARA-UHFFFAOYSA-N</td>\n",
       "      <td>COc1ccccc1NS(=O)(=O)c1cc(C(=O)NCC(C)(C)N2CCOCC...</td>\n",
       "    </tr>\n",
       "    <tr>\n",
       "      <th>100215</th>\n",
       "      <td>CHEMBL114049</td>\n",
       "      <td>C[N+](C)(C)c1cccc(C(=O)OCCCCCCCn2ccc3cc([N+](=...</td>\n",
       "      <td>InChI=1S/C25H32N3O4.HI/c1-28(2,3)23-11-9-10-21...</td>\n",
       "      <td>LJGUZMILFLOGDO-UHFFFAOYSA-M</td>\n",
       "      <td>C[N+](C)(C)c1cccc(C(=O)OCCCCCCCn2ccc3cc([N+](=...</td>\n",
       "    </tr>\n",
       "    <tr>\n",
       "      <th>677883</th>\n",
       "      <td>CHEMBL1081025</td>\n",
       "      <td>O=C(Nc1cccc(-c2cn3ccnc3c(NCc3ccncc3)n2)c1)Nc1c...</td>\n",
       "      <td>InChI=1S/C25H19Cl2N7O/c26-18-4-5-21(20(27)13-1...</td>\n",
       "      <td>HLMIPIHLMFHHMW-UHFFFAOYSA-N</td>\n",
       "      <td>O=C(Nc1cccc(-c2cn3ccnc3c(NCc3ccncc3)n2)c1)Nc1c...</td>\n",
       "    </tr>\n",
       "    <tr>\n",
       "      <th>141135</th>\n",
       "      <td>CHEMBL154139</td>\n",
       "      <td>Cc1ccc(/C=C/C(=O)NCCCCN2CCN(C(c3ccccc3)c3ccccc...</td>\n",
       "      <td>InChI=1S/C30H36N4O/c1-25-14-15-26(24-32-25)16-...</td>\n",
       "      <td>DVYCNKDRINREMB-WUKNDPDISA-N</td>\n",
       "      <td>Cc1ccc(/C=C/C(=O)NCCCCN2CCN(C(c3ccccc3)c3ccccc...</td>\n",
       "    </tr>\n",
       "  </tbody>\n",
       "</table>\n",
       "</div>"
      ],
      "text/plain": [
       "             chembl_id                                   canonical_smiles  \\\n",
       "1105487  CHEMBL1701388                    Cc1ccnc(NC(=O)CNC(=O)c2ccco2)c1   \n",
       "876326   CHEMBL1396085  COc1ccccc1NS(=O)(=O)c1cc(C(=O)NCC(C)(C)N2CCOCC...   \n",
       "100215    CHEMBL114049  C[N+](C)(C)c1cccc(C(=O)OCCCCCCCn2ccc3cc([N+](=...   \n",
       "677883   CHEMBL1081025  O=C(Nc1cccc(-c2cn3ccnc3c(NCc3ccncc3)n2)c1)Nc1c...   \n",
       "141135    CHEMBL154139  Cc1ccc(/C=C/C(=O)NCCCCN2CCN(C(c3ccccc3)c3ccccc...   \n",
       "\n",
       "                                            standard_inchi  \\\n",
       "1105487  InChI=1S/C13H13N3O3/c1-9-4-5-14-11(7-9)16-12(1...   \n",
       "876326   InChI=1S/C23H31N3O5S/c1-17-9-10-18(22(27)24-16...   \n",
       "100215   InChI=1S/C25H32N3O4.HI/c1-28(2,3)23-11-9-10-21...   \n",
       "677883   InChI=1S/C25H19Cl2N7O/c26-18-4-5-21(20(27)13-1...   \n",
       "141135   InChI=1S/C30H36N4O/c1-25-14-15-26(24-32-25)16-...   \n",
       "\n",
       "                  standard_inchi_key  \\\n",
       "1105487  TVEYOTVLWVJFMS-UHFFFAOYSA-N   \n",
       "876326   UNMNWPSZCDFARA-UHFFFAOYSA-N   \n",
       "100215   LJGUZMILFLOGDO-UHFFFAOYSA-M   \n",
       "677883   HLMIPIHLMFHHMW-UHFFFAOYSA-N   \n",
       "141135   DVYCNKDRINREMB-WUKNDPDISA-N   \n",
       "\n",
       "                                              clean_smiles  \n",
       "1105487                    Cc1ccnc(NC(=O)CNC(=O)c2ccco2)c1  \n",
       "876326   COc1ccccc1NS(=O)(=O)c1cc(C(=O)NCC(C)(C)N2CCOCC...  \n",
       "100215   C[N+](C)(C)c1cccc(C(=O)OCCCCCCCn2ccc3cc([N+](=...  \n",
       "677883   O=C(Nc1cccc(-c2cn3ccnc3c(NCc3ccncc3)n2)c1)Nc1c...  \n",
       "141135   Cc1ccc(/C=C/C(=O)NCCCCN2CCN(C(c3ccccc3)c3ccccc...  "
      ]
     },
     "execution_count": 2,
     "metadata": {},
     "output_type": "execute_result"
    }
   ],
   "source": [
    "chembl_29_sampled = chembl_29.sample(n=200000, random_state=42)\n",
    "print(\"Length of ChEMBL 29 cleaned by caspyrus and sampled: \", len(chembl_29_sampled))\n",
    "chembl_29_sampled.head()"
   ]
  },
  {
   "cell_type": "code",
   "execution_count": 3,
   "metadata": {},
   "outputs": [
    {
     "data": {
      "text/plain": [
       "True"
      ]
     },
     "execution_count": 3,
     "metadata": {},
     "output_type": "execute_result"
    }
   ],
   "source": [
    "target_path = \"./led3_score/data/chemical_datasets/casp/chembl29_200k_random_sampled_molecules.csv\"\n",
    "\n",
    "chembl_29_sampled.to_csv(target_path, index=False)"
   ]
  }
 ],
 "metadata": {
  "kernelspec": {
   "display_name": "Python 3.8.13 ('multiretro')",
   "language": "python",
   "name": "python3"
  },
  "language_info": {
   "codemirror_mode": {
    "name": "ipython",
    "version": 3
   },
   "file_extension": ".py",
   "mimetype": "text/x-python",
   "name": "python",
   "nbconvert_exporter": "python",
   "pygments_lexer": "ipython3",
   "version": "3.8.13"
  },
  "orig_nbformat": 4,
  "vscode": {
   "interpreter": {
    "hash": "c77ef49b2b84a1aeacd5ac77a4743d2103c8275d34306859e0e3f2aec37067a7"
   }
  }
 },
 "nbformat": 4,
 "nbformat_minor": 2
}
