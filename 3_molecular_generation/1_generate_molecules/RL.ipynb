{
 "cells": [
  {
   "cell_type": "code",
   "execution_count": 1,
   "id": "eb9a63c6-42cf-4aec-92de-951a93bf2964",
   "metadata": {},
   "outputs": [],
   "source": [
    "from settings import *"
   ]
  },
  {
   "cell_type": "markdown",
   "id": "3e533511-803c-4b07-846f-6f99854a16c0",
   "metadata": {},
   "source": [
    "# Initialize Predictors"
   ]
  },
  {
   "cell_type": "code",
   "execution_count": 2,
   "id": "08a65b08-93c7-4fd7-b89a-4d45a121bb3a",
   "metadata": {},
   "outputs": [
    {
     "name": "stderr",
     "output_type": "stream",
     "text": [
      "2023-02-06 17:07:44.084 | INFO     | led3_score.fingerprints.fingerprints:__init__:18 - Fingerprint DrugEx Fingerprint (Binary Morgan Fingerprint with Radius 3 and 2048 bits using Features: False + Chemical Features) initialized.\n"
     ]
    },
    {
     "data": {
      "application/vnd.jupyter.widget-view+json": {
       "model_id": "901eb4bb89cd47c095b791165341fd79",
       "version_major": 2,
       "version_minor": 0
      },
      "text/plain": [
       "  0%|          | 0/2 [00:00<?, ?it/s]"
      ]
     },
     "metadata": {},
     "output_type": "display_data"
    },
    {
     "data": {
      "text/html": [
       "<div>\n",
       "<style scoped>\n",
       "    .dataframe tbody tr th:only-of-type {\n",
       "        vertical-align: middle;\n",
       "    }\n",
       "\n",
       "    .dataframe tbody tr th {\n",
       "        vertical-align: top;\n",
       "    }\n",
       "\n",
       "    .dataframe thead th {\n",
       "        text-align: right;\n",
       "    }\n",
       "</style>\n",
       "<table border=\"1\" class=\"dataframe\">\n",
       "  <thead>\n",
       "    <tr style=\"text-align: right;\">\n",
       "      <th></th>\n",
       "      <th>LED3Scorer</th>\n",
       "      <th>XGBClassifier</th>\n",
       "      <th>SMILES</th>\n",
       "    </tr>\n",
       "  </thead>\n",
       "  <tbody>\n",
       "    <tr>\n",
       "      <th>0</th>\n",
       "      <td>0.536571</td>\n",
       "      <td>0.944273</td>\n",
       "      <td>Cc1ccc(C)n1Cc1ccc(-c2nn(C(=O)N(C)C)nn2)cc1</td>\n",
       "    </tr>\n",
       "    <tr>\n",
       "      <th>1</th>\n",
       "      <td>0.960194</td>\n",
       "      <td>0.005677</td>\n",
       "      <td>CCCCCCCCCC(=NO)c1c(O)ccc(-c2ccc(OC)cc2)c1</td>\n",
       "    </tr>\n",
       "  </tbody>\n",
       "</table>\n",
       "</div>"
      ],
      "text/plain": [
       "   LED3Scorer  XGBClassifier                                      SMILES\n",
       "0    0.536571       0.944273  Cc1ccc(C)n1Cc1ccc(-c2nn(C(=O)N(C)C)nn2)cc1\n",
       "1    0.960194       0.005677   CCCCCCCCCC(=NO)c1c(O)ccc(-c2ccc(OC)cc2)c1"
      ]
     },
     "execution_count": 2,
     "metadata": {},
     "output_type": "execute_result"
    }
   ],
   "source": [
    "from predictors import get_led3, get_qsar, run_predictors\n",
    "\n",
    "led3_scorer = get_led3()\n",
    "qsar_scorer = get_qsar()\n",
    "\n",
    "# test on known molecules from training data\n",
    "test_mols = [\n",
    "    \"Cc1ccc(C)n1Cc1ccc(-c2nn(C(=O)N(C)C)nn2)cc1\", # active\n",
    "    \"CCCCCCCCCC(=NO)c1c(O)ccc(-c2ccc(OC)cc2)c1\" # inactive\n",
    "]\n",
    "run_predictors(test_mols, predictors=[led3_scorer, qsar_scorer])"
   ]
  },
  {
   "cell_type": "markdown",
   "id": "7a9d15f7-9f72-45d8-8f5a-1a832a2c2328",
   "metadata": {},
   "source": [
    "# Create Environments\n",
    "\n",
    "Thresholds and modifiers selected based on analysis of avalable data in [RL_analysis.ipynb](RL_analysis.ipynb)"
   ]
  },
  {
   "cell_type": "code",
   "execution_count": 3,
   "id": "6367f500-23fc-4816-8b90-403c5bca552e",
   "metadata": {},
   "outputs": [],
   "source": [
    "from drugex.training.scorers.modifiers import ClippedScore\n",
    "\n",
    "modifier = ClippedScore(lower_x=0.2, upper_x=0.8)\n",
    "\n",
    "qsar_scorer.setModifier(modifier)\n",
    "led3_scorer.setModifier(modifier)"
   ]
  },
  {
   "cell_type": "code",
   "execution_count": 4,
   "id": "3d8be309-20d6-4c31-9fb5-b1bedac1c722",
   "metadata": {},
   "outputs": [],
   "source": [
    "from drugex.training.environment import DrugExEnvironment\n",
    "from drugex.training.rewards import ParetoCrowdingDistance\n",
    "\n",
    "scorers = [\n",
    "    qsar_scorer,\n",
    "    led3_scorer\n",
    "]\n",
    "thresholds = [\n",
    "    0.5, # active with probability of > 0.5\n",
    "    0.5 # synthetically accessible with probability > 0.5\n",
    "]\n",
    "\n",
    "environment = DrugExEnvironment(scorers, thresholds, reward_scheme=ParetoCrowdingDistance())"
   ]
  },
  {
   "cell_type": "code",
   "execution_count": 5,
   "id": "3ac7853c-52a1-44fb-98c2-d030f92e451a",
   "metadata": {},
   "outputs": [
    {
     "data": {
      "application/vnd.jupyter.widget-view+json": {
       "model_id": "acafe5d96bd94576988ecf6015e74c5a",
       "version_major": 2,
       "version_minor": 0
      },
      "text/plain": [
       "Fitting graph explorer:   0%|          | 0/400 [00:00<?, ?it/s]"
      ]
     },
     "metadata": {},
     "output_type": "display_data"
    },
    {
     "data": {
      "application/vnd.jupyter.widget-view+json": {
       "model_id": "",
       "version_major": 2,
       "version_minor": 0
      },
      "text/plain": [
       "Iterating over training batches:   0%|          | 0/10 [00:00<?, ?it/s]"
      ]
     },
     "metadata": {},
     "output_type": "display_data"
    },
    {
     "data": {
      "application/vnd.jupyter.widget-view+json": {
       "model_id": "",
       "version_major": 2,
       "version_minor": 0
      },
      "text/plain": [
       "Iterating over validation batches:   0%|          | 0/39 [00:00<?, ?it/s]"
      ]
     },
     "metadata": {},
     "output_type": "display_data"
    },
    {
     "name": "stderr",
     "output_type": "stream",
     "text": [
      "/home/martin/projects/DrugEx/drugex/training/models/explorer.py:194: UserWarning: Creating a tensor from a list of numpy.ndarrays is extremely slow. Please consider converting the list to a single numpy.ndarray with numpy.array() before converting to a tensor. (Triggered internally at ../torch/csrc/utils/tensor_new.cpp:230.)\n",
      "  reward = torch.Tensor(reward).to(src.device)\n"
     ]
    },
    {
     "data": {
      "application/vnd.jupyter.widget-view+json": {
       "model_id": "",
       "version_major": 2,
       "version_minor": 0
      },
      "text/plain": [
       "Iterating over training batches:   0%|          | 0/10 [00:00<?, ?it/s]"
      ]
     },
     "metadata": {},
     "output_type": "display_data"
    },
    {
     "data": {
      "application/vnd.jupyter.widget-view+json": {
       "model_id": "",
       "version_major": 2,
       "version_minor": 0
      },
      "text/plain": [
       "Iterating over validation batches:   0%|          | 0/39 [00:00<?, ?it/s]"
      ]
     },
     "metadata": {},
     "output_type": "display_data"
    },
    {
     "data": {
      "application/vnd.jupyter.widget-view+json": {
       "model_id": "",
       "version_major": 2,
       "version_minor": 0
      },
      "text/plain": [
       "Iterating over training batches:   0%|          | 0/10 [00:00<?, ?it/s]"
      ]
     },
     "metadata": {},
     "output_type": "display_data"
    },
    {
     "data": {
      "application/vnd.jupyter.widget-view+json": {
       "model_id": "",
       "version_major": 2,
       "version_minor": 0
      },
      "text/plain": [
       "Iterating over validation batches:   0%|          | 0/39 [00:00<?, ?it/s]"
      ]
     },
     "metadata": {},
     "output_type": "display_data"
    },
    {
     "data": {
      "application/vnd.jupyter.widget-view+json": {
       "model_id": "",
       "version_major": 2,
       "version_minor": 0
      },
      "text/plain": [
       "Iterating over training batches:   0%|          | 0/10 [00:00<?, ?it/s]"
      ]
     },
     "metadata": {},
     "output_type": "display_data"
    },
    {
     "data": {
      "application/vnd.jupyter.widget-view+json": {
       "model_id": "",
       "version_major": 2,
       "version_minor": 0
      },
      "text/plain": [
       "Iterating over validation batches:   0%|          | 0/39 [00:00<?, ?it/s]"
      ]
     },
     "metadata": {},
     "output_type": "display_data"
    },
    {
     "data": {
      "application/vnd.jupyter.widget-view+json": {
       "model_id": "",
       "version_major": 2,
       "version_minor": 0
      },
      "text/plain": [
       "Iterating over training batches:   0%|          | 0/10 [00:00<?, ?it/s]"
      ]
     },
     "metadata": {},
     "output_type": "display_data"
    },
    {
     "data": {
      "application/vnd.jupyter.widget-view+json": {
       "model_id": "",
       "version_major": 2,
       "version_minor": 0
      },
      "text/plain": [
       "Iterating over validation batches:   0%|          | 0/39 [00:00<?, ?it/s]"
      ]
     },
     "metadata": {},
     "output_type": "display_data"
    },
    {
     "data": {
      "application/vnd.jupyter.widget-view+json": {
       "model_id": "",
       "version_major": 2,
       "version_minor": 0
      },
      "text/plain": [
       "Iterating over training batches:   0%|          | 0/10 [00:00<?, ?it/s]"
      ]
     },
     "metadata": {},
     "output_type": "display_data"
    },
    {
     "data": {
      "application/vnd.jupyter.widget-view+json": {
       "model_id": "",
       "version_major": 2,
       "version_minor": 0
      },
      "text/plain": [
       "Iterating over validation batches:   0%|          | 0/39 [00:00<?, ?it/s]"
      ]
     },
     "metadata": {},
     "output_type": "display_data"
    },
    {
     "data": {
      "application/vnd.jupyter.widget-view+json": {
       "model_id": "",
       "version_major": 2,
       "version_minor": 0
      },
      "text/plain": [
       "Iterating over training batches:   0%|          | 0/10 [00:00<?, ?it/s]"
      ]
     },
     "metadata": {},
     "output_type": "display_data"
    },
    {
     "data": {
      "application/vnd.jupyter.widget-view+json": {
       "model_id": "",
       "version_major": 2,
       "version_minor": 0
      },
      "text/plain": [
       "Iterating over validation batches:   0%|          | 0/39 [00:00<?, ?it/s]"
      ]
     },
     "metadata": {},
     "output_type": "display_data"
    },
    {
     "data": {
      "application/vnd.jupyter.widget-view+json": {
       "model_id": "",
       "version_major": 2,
       "version_minor": 0
      },
      "text/plain": [
       "Iterating over training batches:   0%|          | 0/10 [00:00<?, ?it/s]"
      ]
     },
     "metadata": {},
     "output_type": "display_data"
    },
    {
     "data": {
      "application/vnd.jupyter.widget-view+json": {
       "model_id": "",
       "version_major": 2,
       "version_minor": 0
      },
      "text/plain": [
       "Iterating over validation batches:   0%|          | 0/39 [00:00<?, ?it/s]"
      ]
     },
     "metadata": {},
     "output_type": "display_data"
    },
    {
     "data": {
      "application/vnd.jupyter.widget-view+json": {
       "model_id": "",
       "version_major": 2,
       "version_minor": 0
      },
      "text/plain": [
       "Iterating over training batches:   0%|          | 0/10 [00:00<?, ?it/s]"
      ]
     },
     "metadata": {},
     "output_type": "display_data"
    },
    {
     "data": {
      "application/vnd.jupyter.widget-view+json": {
       "model_id": "",
       "version_major": 2,
       "version_minor": 0
      },
      "text/plain": [
       "Iterating over validation batches:   0%|          | 0/39 [00:00<?, ?it/s]"
      ]
     },
     "metadata": {},
     "output_type": "display_data"
    },
    {
     "data": {
      "application/vnd.jupyter.widget-view+json": {
       "model_id": "",
       "version_major": 2,
       "version_minor": 0
      },
      "text/plain": [
       "Iterating over training batches:   0%|          | 0/10 [00:00<?, ?it/s]"
      ]
     },
     "metadata": {},
     "output_type": "display_data"
    },
    {
     "data": {
      "application/vnd.jupyter.widget-view+json": {
       "model_id": "",
       "version_major": 2,
       "version_minor": 0
      },
      "text/plain": [
       "Iterating over validation batches:   0%|          | 0/39 [00:00<?, ?it/s]"
      ]
     },
     "metadata": {},
     "output_type": "display_data"
    },
    {
     "data": {
      "application/vnd.jupyter.widget-view+json": {
       "model_id": "",
       "version_major": 2,
       "version_minor": 0
      },
      "text/plain": [
       "Iterating over training batches:   0%|          | 0/10 [00:00<?, ?it/s]"
      ]
     },
     "metadata": {},
     "output_type": "display_data"
    },
    {
     "data": {
      "application/vnd.jupyter.widget-view+json": {
       "model_id": "",
       "version_major": 2,
       "version_minor": 0
      },
      "text/plain": [
       "Iterating over validation batches:   0%|          | 0/39 [00:00<?, ?it/s]"
      ]
     },
     "metadata": {},
     "output_type": "display_data"
    },
    {
     "data": {
      "application/vnd.jupyter.widget-view+json": {
       "model_id": "",
       "version_major": 2,
       "version_minor": 0
      },
      "text/plain": [
       "Iterating over training batches:   0%|          | 0/10 [00:00<?, ?it/s]"
      ]
     },
     "metadata": {},
     "output_type": "display_data"
    },
    {
     "data": {
      "application/vnd.jupyter.widget-view+json": {
       "model_id": "",
       "version_major": 2,
       "version_minor": 0
      },
      "text/plain": [
       "Iterating over validation batches:   0%|          | 0/39 [00:00<?, ?it/s]"
      ]
     },
     "metadata": {},
     "output_type": "display_data"
    },
    {
     "data": {
      "application/vnd.jupyter.widget-view+json": {
       "model_id": "",
       "version_major": 2,
       "version_minor": 0
      },
      "text/plain": [
       "Iterating over training batches:   0%|          | 0/10 [00:00<?, ?it/s]"
      ]
     },
     "metadata": {},
     "output_type": "display_data"
    },
    {
     "data": {
      "application/vnd.jupyter.widget-view+json": {
       "model_id": "",
       "version_major": 2,
       "version_minor": 0
      },
      "text/plain": [
       "Iterating over validation batches:   0%|          | 0/39 [00:00<?, ?it/s]"
      ]
     },
     "metadata": {},
     "output_type": "display_data"
    },
    {
     "data": {
      "application/vnd.jupyter.widget-view+json": {
       "model_id": "",
       "version_major": 2,
       "version_minor": 0
      },
      "text/plain": [
       "Iterating over training batches:   0%|          | 0/10 [00:00<?, ?it/s]"
      ]
     },
     "metadata": {},
     "output_type": "display_data"
    },
    {
     "data": {
      "application/vnd.jupyter.widget-view+json": {
       "model_id": "",
       "version_major": 2,
       "version_minor": 0
      },
      "text/plain": [
       "Iterating over validation batches:   0%|          | 0/39 [00:00<?, ?it/s]"
      ]
     },
     "metadata": {},
     "output_type": "display_data"
    },
    {
     "data": {
      "application/vnd.jupyter.widget-view+json": {
       "model_id": "",
       "version_major": 2,
       "version_minor": 0
      },
      "text/plain": [
       "Iterating over training batches:   0%|          | 0/10 [00:00<?, ?it/s]"
      ]
     },
     "metadata": {},
     "output_type": "display_data"
    },
    {
     "data": {
      "application/vnd.jupyter.widget-view+json": {
       "model_id": "",
       "version_major": 2,
       "version_minor": 0
      },
      "text/plain": [
       "Iterating over validation batches:   0%|          | 0/39 [00:00<?, ?it/s]"
      ]
     },
     "metadata": {},
     "output_type": "display_data"
    },
    {
     "data": {
      "application/vnd.jupyter.widget-view+json": {
       "model_id": "",
       "version_major": 2,
       "version_minor": 0
      },
      "text/plain": [
       "Iterating over training batches:   0%|          | 0/10 [00:00<?, ?it/s]"
      ]
     },
     "metadata": {},
     "output_type": "display_data"
    },
    {
     "data": {
      "application/vnd.jupyter.widget-view+json": {
       "model_id": "",
       "version_major": 2,
       "version_minor": 0
      },
      "text/plain": [
       "Iterating over validation batches:   0%|          | 0/39 [00:00<?, ?it/s]"
      ]
     },
     "metadata": {},
     "output_type": "display_data"
    },
    {
     "data": {
      "application/vnd.jupyter.widget-view+json": {
       "model_id": "",
       "version_major": 2,
       "version_minor": 0
      },
      "text/plain": [
       "Iterating over training batches:   0%|          | 0/10 [00:00<?, ?it/s]"
      ]
     },
     "metadata": {},
     "output_type": "display_data"
    },
    {
     "data": {
      "application/vnd.jupyter.widget-view+json": {
       "model_id": "",
       "version_major": 2,
       "version_minor": 0
      },
      "text/plain": [
       "Iterating over validation batches:   0%|          | 0/39 [00:00<?, ?it/s]"
      ]
     },
     "metadata": {},
     "output_type": "display_data"
    },
    {
     "data": {
      "application/vnd.jupyter.widget-view+json": {
       "model_id": "",
       "version_major": 2,
       "version_minor": 0
      },
      "text/plain": [
       "Iterating over training batches:   0%|          | 0/10 [00:00<?, ?it/s]"
      ]
     },
     "metadata": {},
     "output_type": "display_data"
    },
    {
     "data": {
      "application/vnd.jupyter.widget-view+json": {
       "model_id": "",
       "version_major": 2,
       "version_minor": 0
      },
      "text/plain": [
       "Iterating over validation batches:   0%|          | 0/39 [00:00<?, ?it/s]"
      ]
     },
     "metadata": {},
     "output_type": "display_data"
    },
    {
     "data": {
      "application/vnd.jupyter.widget-view+json": {
       "model_id": "",
       "version_major": 2,
       "version_minor": 0
      },
      "text/plain": [
       "Iterating over training batches:   0%|          | 0/10 [00:00<?, ?it/s]"
      ]
     },
     "metadata": {},
     "output_type": "display_data"
    },
    {
     "data": {
      "application/vnd.jupyter.widget-view+json": {
       "model_id": "",
       "version_major": 2,
       "version_minor": 0
      },
      "text/plain": [
       "Iterating over validation batches:   0%|          | 0/39 [00:00<?, ?it/s]"
      ]
     },
     "metadata": {},
     "output_type": "display_data"
    },
    {
     "data": {
      "application/vnd.jupyter.widget-view+json": {
       "model_id": "",
       "version_major": 2,
       "version_minor": 0
      },
      "text/plain": [
       "Iterating over training batches:   0%|          | 0/10 [00:00<?, ?it/s]"
      ]
     },
     "metadata": {},
     "output_type": "display_data"
    },
    {
     "data": {
      "application/vnd.jupyter.widget-view+json": {
       "model_id": "",
       "version_major": 2,
       "version_minor": 0
      },
      "text/plain": [
       "Iterating over validation batches:   0%|          | 0/39 [00:00<?, ?it/s]"
      ]
     },
     "metadata": {},
     "output_type": "display_data"
    },
    {
     "data": {
      "application/vnd.jupyter.widget-view+json": {
       "model_id": "",
       "version_major": 2,
       "version_minor": 0
      },
      "text/plain": [
       "Iterating over training batches:   0%|          | 0/10 [00:00<?, ?it/s]"
      ]
     },
     "metadata": {},
     "output_type": "display_data"
    },
    {
     "data": {
      "application/vnd.jupyter.widget-view+json": {
       "model_id": "",
       "version_major": 2,
       "version_minor": 0
      },
      "text/plain": [
       "Iterating over validation batches:   0%|          | 0/39 [00:00<?, ?it/s]"
      ]
     },
     "metadata": {},
     "output_type": "display_data"
    },
    {
     "data": {
      "application/vnd.jupyter.widget-view+json": {
       "model_id": "",
       "version_major": 2,
       "version_minor": 0
      },
      "text/plain": [
       "Iterating over training batches:   0%|          | 0/10 [00:00<?, ?it/s]"
      ]
     },
     "metadata": {},
     "output_type": "display_data"
    },
    {
     "data": {
      "application/vnd.jupyter.widget-view+json": {
       "model_id": "",
       "version_major": 2,
       "version_minor": 0
      },
      "text/plain": [
       "Iterating over validation batches:   0%|          | 0/39 [00:00<?, ?it/s]"
      ]
     },
     "metadata": {},
     "output_type": "display_data"
    },
    {
     "data": {
      "application/vnd.jupyter.widget-view+json": {
       "model_id": "",
       "version_major": 2,
       "version_minor": 0
      },
      "text/plain": [
       "Iterating over training batches:   0%|          | 0/10 [00:00<?, ?it/s]"
      ]
     },
     "metadata": {},
     "output_type": "display_data"
    },
    {
     "data": {
      "application/vnd.jupyter.widget-view+json": {
       "model_id": "",
       "version_major": 2,
       "version_minor": 0
      },
      "text/plain": [
       "Iterating over validation batches:   0%|          | 0/39 [00:00<?, ?it/s]"
      ]
     },
     "metadata": {},
     "output_type": "display_data"
    },
    {
     "data": {
      "application/vnd.jupyter.widget-view+json": {
       "model_id": "",
       "version_major": 2,
       "version_minor": 0
      },
      "text/plain": [
       "Iterating over training batches:   0%|          | 0/10 [00:00<?, ?it/s]"
      ]
     },
     "metadata": {},
     "output_type": "display_data"
    },
    {
     "data": {
      "application/vnd.jupyter.widget-view+json": {
       "model_id": "",
       "version_major": 2,
       "version_minor": 0
      },
      "text/plain": [
       "Iterating over validation batches:   0%|          | 0/39 [00:00<?, ?it/s]"
      ]
     },
     "metadata": {},
     "output_type": "display_data"
    },
    {
     "data": {
      "application/vnd.jupyter.widget-view+json": {
       "model_id": "10b6831241cb475f9e57ebb40f302b1b",
       "version_major": 2,
       "version_minor": 0
      },
      "text/plain": [
       "Iterating over training batches:   0%|          | 0/10 [00:00<?, ?it/s]"
      ]
     },
     "metadata": {},
     "output_type": "display_data"
    },
    {
     "data": {
      "application/vnd.jupyter.widget-view+json": {
       "model_id": "9479119980cd481cb721d5f8fc31c094",
       "version_major": 2,
       "version_minor": 0
      },
      "text/plain": [
       "Iterating over validation batches:   0%|          | 0/39 [00:00<?, ?it/s]"
      ]
     },
     "metadata": {},
     "output_type": "display_data"
    },
    {
     "data": {
      "application/vnd.jupyter.widget-view+json": {
       "model_id": "18f1545485de4ea3a65c7f7479466580",
       "version_major": 2,
       "version_minor": 0
      },
      "text/plain": [
       "Iterating over training batches:   0%|          | 0/10 [00:00<?, ?it/s]"
      ]
     },
     "metadata": {},
     "output_type": "display_data"
    },
    {
     "data": {
      "application/vnd.jupyter.widget-view+json": {
       "model_id": "6ae98291edb24ef382fef45a633c92ea",
       "version_major": 2,
       "version_minor": 0
      },
      "text/plain": [
       "Iterating over validation batches:   0%|          | 0/39 [00:00<?, ?it/s]"
      ]
     },
     "metadata": {},
     "output_type": "display_data"
    },
    {
     "data": {
      "application/vnd.jupyter.widget-view+json": {
       "model_id": "3cc93712981f4c359747d5dfda78bbb5",
       "version_major": 2,
       "version_minor": 0
      },
      "text/plain": [
       "Iterating over training batches:   0%|          | 0/10 [00:00<?, ?it/s]"
      ]
     },
     "metadata": {},
     "output_type": "display_data"
    },
    {
     "data": {
      "application/vnd.jupyter.widget-view+json": {
       "model_id": "ba796790286442c680735b14b6b76b08",
       "version_major": 2,
       "version_minor": 0
      },
      "text/plain": [
       "Iterating over validation batches:   0%|          | 0/39 [00:00<?, ?it/s]"
      ]
     },
     "metadata": {},
     "output_type": "display_data"
    },
    {
     "data": {
      "application/vnd.jupyter.widget-view+json": {
       "model_id": "3bde73d2f6e446fb983fedc4348ebe99",
       "version_major": 2,
       "version_minor": 0
      },
      "text/plain": [
       "Iterating over training batches:   0%|          | 0/10 [00:00<?, ?it/s]"
      ]
     },
     "metadata": {},
     "output_type": "display_data"
    },
    {
     "data": {
      "application/vnd.jupyter.widget-view+json": {
       "model_id": "ed66e56162f64d2c8e8ac1b571063052",
       "version_major": 2,
       "version_minor": 0
      },
      "text/plain": [
       "Iterating over validation batches:   0%|          | 0/39 [00:00<?, ?it/s]"
      ]
     },
     "metadata": {},
     "output_type": "display_data"
    },
    {
     "data": {
      "application/vnd.jupyter.widget-view+json": {
       "model_id": "29e34499c36f411eaf9751a442c96e59",
       "version_major": 2,
       "version_minor": 0
      },
      "text/plain": [
       "Iterating over training batches:   0%|          | 0/10 [00:00<?, ?it/s]"
      ]
     },
     "metadata": {},
     "output_type": "display_data"
    },
    {
     "data": {
      "application/vnd.jupyter.widget-view+json": {
       "model_id": "6024b62906f64a26bd523778b12b9ae0",
       "version_major": 2,
       "version_minor": 0
      },
      "text/plain": [
       "Iterating over validation batches:   0%|          | 0/39 [00:00<?, ?it/s]"
      ]
     },
     "metadata": {},
     "output_type": "display_data"
    },
    {
     "data": {
      "application/vnd.jupyter.widget-view+json": {
       "model_id": "abc57f8d1e0942fe96daa20bd61e336b",
       "version_major": 2,
       "version_minor": 0
      },
      "text/plain": [
       "Iterating over training batches:   0%|          | 0/10 [00:00<?, ?it/s]"
      ]
     },
     "metadata": {},
     "output_type": "display_data"
    },
    {
     "data": {
      "application/vnd.jupyter.widget-view+json": {
       "model_id": "66f2ea16f79b4b5eadbd7c5c45c2b289",
       "version_major": 2,
       "version_minor": 0
      },
      "text/plain": [
       "Iterating over validation batches:   0%|          | 0/39 [00:00<?, ?it/s]"
      ]
     },
     "metadata": {},
     "output_type": "display_data"
    },
    {
     "data": {
      "application/vnd.jupyter.widget-view+json": {
       "model_id": "0c32448869454041a2a6c164195cf799",
       "version_major": 2,
       "version_minor": 0
      },
      "text/plain": [
       "Iterating over training batches:   0%|          | 0/10 [00:00<?, ?it/s]"
      ]
     },
     "metadata": {},
     "output_type": "display_data"
    },
    {
     "data": {
      "application/vnd.jupyter.widget-view+json": {
       "model_id": "5600bb3be276416fb56b61593a0e6d09",
       "version_major": 2,
       "version_minor": 0
      },
      "text/plain": [
       "Iterating over validation batches:   0%|          | 0/39 [00:00<?, ?it/s]"
      ]
     },
     "metadata": {},
     "output_type": "display_data"
    },
    {
     "data": {
      "application/vnd.jupyter.widget-view+json": {
       "model_id": "69507421b59e461580ce21372b2003ea",
       "version_major": 2,
       "version_minor": 0
      },
      "text/plain": [
       "Iterating over training batches:   0%|          | 0/10 [00:00<?, ?it/s]"
      ]
     },
     "metadata": {},
     "output_type": "display_data"
    },
    {
     "data": {
      "application/vnd.jupyter.widget-view+json": {
       "model_id": "0ff68b68cb554d9fbdd1d8efbcef79db",
       "version_major": 2,
       "version_minor": 0
      },
      "text/plain": [
       "Iterating over validation batches:   0%|          | 0/39 [00:00<?, ?it/s]"
      ]
     },
     "metadata": {},
     "output_type": "display_data"
    },
    {
     "data": {
      "application/vnd.jupyter.widget-view+json": {
       "model_id": "08b657bc65a24371b966ea8a49549f69",
       "version_major": 2,
       "version_minor": 0
      },
      "text/plain": [
       "Iterating over training batches:   0%|          | 0/10 [00:00<?, ?it/s]"
      ]
     },
     "metadata": {},
     "output_type": "display_data"
    },
    {
     "data": {
      "application/vnd.jupyter.widget-view+json": {
       "model_id": "05665c777e3b4f45a4d582b4a5523822",
       "version_major": 2,
       "version_minor": 0
      },
      "text/plain": [
       "Iterating over validation batches:   0%|          | 0/39 [00:00<?, ?it/s]"
      ]
     },
     "metadata": {},
     "output_type": "display_data"
    },
    {
     "data": {
      "application/vnd.jupyter.widget-view+json": {
       "model_id": "da741b156a894a01a0e532be85a10707",
       "version_major": 2,
       "version_minor": 0
      },
      "text/plain": [
       "Iterating over training batches:   0%|          | 0/10 [00:00<?, ?it/s]"
      ]
     },
     "metadata": {},
     "output_type": "display_data"
    },
    {
     "data": {
      "application/vnd.jupyter.widget-view+json": {
       "model_id": "cf6c54751d484406b3c9bf12a9ef47dd",
       "version_major": 2,
       "version_minor": 0
      },
      "text/plain": [
       "Iterating over validation batches:   0%|          | 0/39 [00:00<?, ?it/s]"
      ]
     },
     "metadata": {},
     "output_type": "display_data"
    },
    {
     "data": {
      "application/vnd.jupyter.widget-view+json": {
       "model_id": "aa54b972e91e4286bdc6f5110f6de702",
       "version_major": 2,
       "version_minor": 0
      },
      "text/plain": [
       "Iterating over training batches:   0%|          | 0/10 [00:00<?, ?it/s]"
      ]
     },
     "metadata": {},
     "output_type": "display_data"
    },
    {
     "data": {
      "application/vnd.jupyter.widget-view+json": {
       "model_id": "af3ff001225440ada655780cc581e62b",
       "version_major": 2,
       "version_minor": 0
      },
      "text/plain": [
       "Iterating over validation batches:   0%|          | 0/39 [00:00<?, ?it/s]"
      ]
     },
     "metadata": {},
     "output_type": "display_data"
    },
    {
     "data": {
      "application/vnd.jupyter.widget-view+json": {
       "model_id": "4b88f53bcdd04ed6bed65472dd50a8e2",
       "version_major": 2,
       "version_minor": 0
      },
      "text/plain": [
       "Iterating over training batches:   0%|          | 0/10 [00:00<?, ?it/s]"
      ]
     },
     "metadata": {},
     "output_type": "display_data"
    },
    {
     "data": {
      "application/vnd.jupyter.widget-view+json": {
       "model_id": "0b80869d16ac42b59bab8c2b68882ea6",
       "version_major": 2,
       "version_minor": 0
      },
      "text/plain": [
       "Iterating over validation batches:   0%|          | 0/39 [00:00<?, ?it/s]"
      ]
     },
     "metadata": {},
     "output_type": "display_data"
    },
    {
     "data": {
      "application/vnd.jupyter.widget-view+json": {
       "model_id": "03034581632847dc9b6aa78a171e72ef",
       "version_major": 2,
       "version_minor": 0
      },
      "text/plain": [
       "Iterating over training batches:   0%|          | 0/10 [00:00<?, ?it/s]"
      ]
     },
     "metadata": {},
     "output_type": "display_data"
    },
    {
     "data": {
      "application/vnd.jupyter.widget-view+json": {
       "model_id": "a85d1346cf82492c8bf87becc5141855",
       "version_major": 2,
       "version_minor": 0
      },
      "text/plain": [
       "Iterating over validation batches:   0%|          | 0/39 [00:00<?, ?it/s]"
      ]
     },
     "metadata": {},
     "output_type": "display_data"
    },
    {
     "data": {
      "application/vnd.jupyter.widget-view+json": {
       "model_id": "cfb9dafe197b4753bb136aa9d4de225d",
       "version_major": 2,
       "version_minor": 0
      },
      "text/plain": [
       "Iterating over training batches:   0%|          | 0/10 [00:00<?, ?it/s]"
      ]
     },
     "metadata": {},
     "output_type": "display_data"
    },
    {
     "data": {
      "application/vnd.jupyter.widget-view+json": {
       "model_id": "35a30ac027ff486b9709ae129dd63ffb",
       "version_major": 2,
       "version_minor": 0
      },
      "text/plain": [
       "Iterating over validation batches:   0%|          | 0/39 [00:00<?, ?it/s]"
      ]
     },
     "metadata": {},
     "output_type": "display_data"
    },
    {
     "data": {
      "application/vnd.jupyter.widget-view+json": {
       "model_id": "3b037480774846679248fe4a4fff79b5",
       "version_major": 2,
       "version_minor": 0
      },
      "text/plain": [
       "Iterating over training batches:   0%|          | 0/10 [00:00<?, ?it/s]"
      ]
     },
     "metadata": {},
     "output_type": "display_data"
    },
    {
     "data": {
      "application/vnd.jupyter.widget-view+json": {
       "model_id": "cba9b991d7ec46d3b5779093fd25486a",
       "version_major": 2,
       "version_minor": 0
      },
      "text/plain": [
       "Iterating over validation batches:   0%|          | 0/39 [00:00<?, ?it/s]"
      ]
     },
     "metadata": {},
     "output_type": "display_data"
    },
    {
     "data": {
      "application/vnd.jupyter.widget-view+json": {
       "model_id": "e2c31d5295914c1fa2bd97321fa9dace",
       "version_major": 2,
       "version_minor": 0
      },
      "text/plain": [
       "Iterating over training batches:   0%|          | 0/10 [00:00<?, ?it/s]"
      ]
     },
     "metadata": {},
     "output_type": "display_data"
    },
    {
     "data": {
      "application/vnd.jupyter.widget-view+json": {
       "model_id": "b4bb987719474c93bf81b0b0a2485980",
       "version_major": 2,
       "version_minor": 0
      },
      "text/plain": [
       "Iterating over validation batches:   0%|          | 0/39 [00:00<?, ?it/s]"
      ]
     },
     "metadata": {},
     "output_type": "display_data"
    },
    {
     "data": {
      "application/vnd.jupyter.widget-view+json": {
       "model_id": "089239b207834110a3424b3ddc9bfbb6",
       "version_major": 2,
       "version_minor": 0
      },
      "text/plain": [
       "Iterating over training batches:   0%|          | 0/10 [00:00<?, ?it/s]"
      ]
     },
     "metadata": {},
     "output_type": "display_data"
    },
    {
     "data": {
      "application/vnd.jupyter.widget-view+json": {
       "model_id": "a0abaf74436f48f8a1f32452e3fb9001",
       "version_major": 2,
       "version_minor": 0
      },
      "text/plain": [
       "Iterating over validation batches:   0%|          | 0/39 [00:00<?, ?it/s]"
      ]
     },
     "metadata": {},
     "output_type": "display_data"
    },
    {
     "data": {
      "application/vnd.jupyter.widget-view+json": {
       "model_id": "d0ef235ed5234b329fb5227265fda932",
       "version_major": 2,
       "version_minor": 0
      },
      "text/plain": [
       "Iterating over training batches:   0%|          | 0/10 [00:00<?, ?it/s]"
      ]
     },
     "metadata": {},
     "output_type": "display_data"
    },
    {
     "data": {
      "application/vnd.jupyter.widget-view+json": {
       "model_id": "eefbb382c7e6418589c17ac085c15131",
       "version_major": 2,
       "version_minor": 0
      },
      "text/plain": [
       "Iterating over validation batches:   0%|          | 0/39 [00:00<?, ?it/s]"
      ]
     },
     "metadata": {},
     "output_type": "display_data"
    },
    {
     "data": {
      "application/vnd.jupyter.widget-view+json": {
       "model_id": "1d062a54c72946609a0c2da070353a03",
       "version_major": 2,
       "version_minor": 0
      },
      "text/plain": [
       "Iterating over training batches:   0%|          | 0/10 [00:00<?, ?it/s]"
      ]
     },
     "metadata": {},
     "output_type": "display_data"
    },
    {
     "data": {
      "application/vnd.jupyter.widget-view+json": {
       "model_id": "577027dc3cb540068de23f0ced60da87",
       "version_major": 2,
       "version_minor": 0
      },
      "text/plain": [
       "Iterating over validation batches:   0%|          | 0/39 [00:00<?, ?it/s]"
      ]
     },
     "metadata": {},
     "output_type": "display_data"
    },
    {
     "data": {
      "application/vnd.jupyter.widget-view+json": {
       "model_id": "99b2a04e0ab74aaaa6c5e6764817c8d5",
       "version_major": 2,
       "version_minor": 0
      },
      "text/plain": [
       "Iterating over training batches:   0%|          | 0/10 [00:00<?, ?it/s]"
      ]
     },
     "metadata": {},
     "output_type": "display_data"
    },
    {
     "data": {
      "application/vnd.jupyter.widget-view+json": {
       "model_id": "4d3b334df8194d9a81a0b34851f1beb9",
       "version_major": 2,
       "version_minor": 0
      },
      "text/plain": [
       "Iterating over validation batches:   0%|          | 0/39 [00:00<?, ?it/s]"
      ]
     },
     "metadata": {},
     "output_type": "display_data"
    },
    {
     "data": {
      "application/vnd.jupyter.widget-view+json": {
       "model_id": "f9ddbfab15814c519a8aac6149faecc4",
       "version_major": 2,
       "version_minor": 0
      },
      "text/plain": [
       "Iterating over training batches:   0%|          | 0/10 [00:00<?, ?it/s]"
      ]
     },
     "metadata": {},
     "output_type": "display_data"
    },
    {
     "data": {
      "application/vnd.jupyter.widget-view+json": {
       "model_id": "1a1f8a9205f440d491aa71d39804a5ec",
       "version_major": 2,
       "version_minor": 0
      },
      "text/plain": [
       "Iterating over validation batches:   0%|          | 0/39 [00:00<?, ?it/s]"
      ]
     },
     "metadata": {},
     "output_type": "display_data"
    },
    {
     "data": {
      "application/vnd.jupyter.widget-view+json": {
       "model_id": "786f200b16bf4c7aacf456f045ceb150",
       "version_major": 2,
       "version_minor": 0
      },
      "text/plain": [
       "Iterating over training batches:   0%|          | 0/10 [00:00<?, ?it/s]"
      ]
     },
     "metadata": {},
     "output_type": "display_data"
    },
    {
     "data": {
      "application/vnd.jupyter.widget-view+json": {
       "model_id": "6e3c227a256b40738d175d149fc17a6b",
       "version_major": 2,
       "version_minor": 0
      },
      "text/plain": [
       "Iterating over validation batches:   0%|          | 0/39 [00:00<?, ?it/s]"
      ]
     },
     "metadata": {},
     "output_type": "display_data"
    },
    {
     "data": {
      "application/vnd.jupyter.widget-view+json": {
       "model_id": "05a803c0f0d7481e9d4c525730962a7d",
       "version_major": 2,
       "version_minor": 0
      },
      "text/plain": [
       "Iterating over training batches:   0%|          | 0/10 [00:00<?, ?it/s]"
      ]
     },
     "metadata": {},
     "output_type": "display_data"
    },
    {
     "data": {
      "application/vnd.jupyter.widget-view+json": {
       "model_id": "21089cef5ed94dab88610c3fe7cf26ac",
       "version_major": 2,
       "version_minor": 0
      },
      "text/plain": [
       "Iterating over validation batches:   0%|          | 0/39 [00:00<?, ?it/s]"
      ]
     },
     "metadata": {},
     "output_type": "display_data"
    },
    {
     "data": {
      "application/vnd.jupyter.widget-view+json": {
       "model_id": "d5e70e1a5eb947ab944bced705bd8121",
       "version_major": 2,
       "version_minor": 0
      },
      "text/plain": [
       "Iterating over training batches:   0%|          | 0/10 [00:00<?, ?it/s]"
      ]
     },
     "metadata": {},
     "output_type": "display_data"
    },
    {
     "data": {
      "application/vnd.jupyter.widget-view+json": {
       "model_id": "7eebf85c16b8435a84732dbe6f02c33c",
       "version_major": 2,
       "version_minor": 0
      },
      "text/plain": [
       "Iterating over validation batches:   0%|          | 0/39 [00:00<?, ?it/s]"
      ]
     },
     "metadata": {},
     "output_type": "display_data"
    },
    {
     "data": {
      "application/vnd.jupyter.widget-view+json": {
       "model_id": "2a4d01d4ddca4280b4d909e1e3bcbe4a",
       "version_major": 2,
       "version_minor": 0
      },
      "text/plain": [
       "Iterating over training batches:   0%|          | 0/10 [00:00<?, ?it/s]"
      ]
     },
     "metadata": {},
     "output_type": "display_data"
    },
    {
     "data": {
      "application/vnd.jupyter.widget-view+json": {
       "model_id": "5f9227c0852e48e9823812bc3826fd3f",
       "version_major": 2,
       "version_minor": 0
      },
      "text/plain": [
       "Iterating over validation batches:   0%|          | 0/39 [00:00<?, ?it/s]"
      ]
     },
     "metadata": {},
     "output_type": "display_data"
    },
    {
     "data": {
      "application/vnd.jupyter.widget-view+json": {
       "model_id": "4141c3d286f64623bee30e7e01156c68",
       "version_major": 2,
       "version_minor": 0
      },
      "text/plain": [
       "Iterating over training batches:   0%|          | 0/10 [00:00<?, ?it/s]"
      ]
     },
     "metadata": {},
     "output_type": "display_data"
    },
    {
     "data": {
      "application/vnd.jupyter.widget-view+json": {
       "model_id": "a69b52f1f33b490eb6e7445665cca493",
       "version_major": 2,
       "version_minor": 0
      },
      "text/plain": [
       "Iterating over validation batches:   0%|          | 0/39 [00:00<?, ?it/s]"
      ]
     },
     "metadata": {},
     "output_type": "display_data"
    },
    {
     "data": {
      "application/vnd.jupyter.widget-view+json": {
       "model_id": "0a11b5e9f0504ebf922f5d7e0c8d20ac",
       "version_major": 2,
       "version_minor": 0
      },
      "text/plain": [
       "Iterating over training batches:   0%|          | 0/10 [00:00<?, ?it/s]"
      ]
     },
     "metadata": {},
     "output_type": "display_data"
    },
    {
     "data": {
      "application/vnd.jupyter.widget-view+json": {
       "model_id": "45f6d70a85244f39acffbe6810a8c0db",
       "version_major": 2,
       "version_minor": 0
      },
      "text/plain": [
       "Iterating over validation batches:   0%|          | 0/39 [00:00<?, ?it/s]"
      ]
     },
     "metadata": {},
     "output_type": "display_data"
    },
    {
     "data": {
      "application/vnd.jupyter.widget-view+json": {
       "model_id": "1b0cb1c3db1149658f84182fa3abb518",
       "version_major": 2,
       "version_minor": 0
      },
      "text/plain": [
       "Iterating over training batches:   0%|          | 0/10 [00:00<?, ?it/s]"
      ]
     },
     "metadata": {},
     "output_type": "display_data"
    },
    {
     "data": {
      "application/vnd.jupyter.widget-view+json": {
       "model_id": "061158ab2f2048fcbf5f796e1fccd56c",
       "version_major": 2,
       "version_minor": 0
      },
      "text/plain": [
       "Iterating over validation batches:   0%|          | 0/39 [00:00<?, ?it/s]"
      ]
     },
     "metadata": {},
     "output_type": "display_data"
    },
    {
     "data": {
      "application/vnd.jupyter.widget-view+json": {
       "model_id": "5cf5de487df7417b8aaa9eb950e0c7af",
       "version_major": 2,
       "version_minor": 0
      },
      "text/plain": [
       "Iterating over training batches:   0%|          | 0/10 [00:00<?, ?it/s]"
      ]
     },
     "metadata": {},
     "output_type": "display_data"
    },
    {
     "data": {
      "application/vnd.jupyter.widget-view+json": {
       "model_id": "6d0c46eeef924dd59d422906b57ed173",
       "version_major": 2,
       "version_minor": 0
      },
      "text/plain": [
       "Iterating over validation batches:   0%|          | 0/39 [00:00<?, ?it/s]"
      ]
     },
     "metadata": {},
     "output_type": "display_data"
    },
    {
     "data": {
      "application/vnd.jupyter.widget-view+json": {
       "model_id": "58efaa0d306c4eecacb3495f842d7bc2",
       "version_major": 2,
       "version_minor": 0
      },
      "text/plain": [
       "Iterating over training batches:   0%|          | 0/10 [00:00<?, ?it/s]"
      ]
     },
     "metadata": {},
     "output_type": "display_data"
    },
    {
     "data": {
      "application/vnd.jupyter.widget-view+json": {
       "model_id": "20798c21325e47f9889eeb24fb1e1d92",
       "version_major": 2,
       "version_minor": 0
      },
      "text/plain": [
       "Iterating over validation batches:   0%|          | 0/39 [00:00<?, ?it/s]"
      ]
     },
     "metadata": {},
     "output_type": "display_data"
    },
    {
     "data": {
      "application/vnd.jupyter.widget-view+json": {
       "model_id": "960d13d5f08e4f4a92dcf9232e024767",
       "version_major": 2,
       "version_minor": 0
      },
      "text/plain": [
       "Iterating over training batches:   0%|          | 0/10 [00:00<?, ?it/s]"
      ]
     },
     "metadata": {},
     "output_type": "display_data"
    },
    {
     "data": {
      "application/vnd.jupyter.widget-view+json": {
       "model_id": "0b46b6831df14fcfaf0d0284e6686741",
       "version_major": 2,
       "version_minor": 0
      },
      "text/plain": [
       "Iterating over validation batches:   0%|          | 0/39 [00:00<?, ?it/s]"
      ]
     },
     "metadata": {},
     "output_type": "display_data"
    },
    {
     "data": {
      "application/vnd.jupyter.widget-view+json": {
       "model_id": "9745e40a42d0471c9d7310476469929e",
       "version_major": 2,
       "version_minor": 0
      },
      "text/plain": [
       "Iterating over training batches:   0%|          | 0/10 [00:00<?, ?it/s]"
      ]
     },
     "metadata": {},
     "output_type": "display_data"
    },
    {
     "data": {
      "application/vnd.jupyter.widget-view+json": {
       "model_id": "8b2220c155c8475d83c981067c05e75c",
       "version_major": 2,
       "version_minor": 0
      },
      "text/plain": [
       "Iterating over validation batches:   0%|          | 0/39 [00:00<?, ?it/s]"
      ]
     },
     "metadata": {},
     "output_type": "display_data"
    },
    {
     "data": {
      "application/vnd.jupyter.widget-view+json": {
       "model_id": "8b019ddb3a834e25946c64d695d07842",
       "version_major": 2,
       "version_minor": 0
      },
      "text/plain": [
       "Iterating over training batches:   0%|          | 0/10 [00:00<?, ?it/s]"
      ]
     },
     "metadata": {},
     "output_type": "display_data"
    },
    {
     "data": {
      "application/vnd.jupyter.widget-view+json": {
       "model_id": "e1a6a0c2305b4fc5a5bae59feb67019a",
       "version_major": 2,
       "version_minor": 0
      },
      "text/plain": [
       "Iterating over validation batches:   0%|          | 0/39 [00:00<?, ?it/s]"
      ]
     },
     "metadata": {},
     "output_type": "display_data"
    },
    {
     "data": {
      "application/vnd.jupyter.widget-view+json": {
       "model_id": "71f676b3540c4b278cb1ee386080258d",
       "version_major": 2,
       "version_minor": 0
      },
      "text/plain": [
       "Iterating over training batches:   0%|          | 0/10 [00:00<?, ?it/s]"
      ]
     },
     "metadata": {},
     "output_type": "display_data"
    },
    {
     "data": {
      "application/vnd.jupyter.widget-view+json": {
       "model_id": "c947cc1ae75b4f1ba45ad001c8e06241",
       "version_major": 2,
       "version_minor": 0
      },
      "text/plain": [
       "Iterating over validation batches:   0%|          | 0/39 [00:00<?, ?it/s]"
      ]
     },
     "metadata": {},
     "output_type": "display_data"
    },
    {
     "data": {
      "application/vnd.jupyter.widget-view+json": {
       "model_id": "96f715964586433b9f1c176e75e0a1f9",
       "version_major": 2,
       "version_minor": 0
      },
      "text/plain": [
       "Iterating over training batches:   0%|          | 0/10 [00:00<?, ?it/s]"
      ]
     },
     "metadata": {},
     "output_type": "display_data"
    },
    {
     "data": {
      "application/vnd.jupyter.widget-view+json": {
       "model_id": "251642c4ec3b4c6da7391d948529d3c2",
       "version_major": 2,
       "version_minor": 0
      },
      "text/plain": [
       "Iterating over validation batches:   0%|          | 0/39 [00:00<?, ?it/s]"
      ]
     },
     "metadata": {},
     "output_type": "display_data"
    },
    {
     "data": {
      "application/vnd.jupyter.widget-view+json": {
       "model_id": "ef8479b7a8e242ec96382c8f64a8c579",
       "version_major": 2,
       "version_minor": 0
      },
      "text/plain": [
       "Iterating over training batches:   0%|          | 0/10 [00:00<?, ?it/s]"
      ]
     },
     "metadata": {},
     "output_type": "display_data"
    },
    {
     "data": {
      "application/vnd.jupyter.widget-view+json": {
       "model_id": "deb949a941dc46db8240344e2ca018e7",
       "version_major": 2,
       "version_minor": 0
      },
      "text/plain": [
       "Iterating over validation batches:   0%|          | 0/39 [00:00<?, ?it/s]"
      ]
     },
     "metadata": {},
     "output_type": "display_data"
    },
    {
     "data": {
      "application/vnd.jupyter.widget-view+json": {
       "model_id": "3670a482de4a41c2bf7b9f3af4c65141",
       "version_major": 2,
       "version_minor": 0
      },
      "text/plain": [
       "Iterating over training batches:   0%|          | 0/10 [00:00<?, ?it/s]"
      ]
     },
     "metadata": {},
     "output_type": "display_data"
    },
    {
     "data": {
      "application/vnd.jupyter.widget-view+json": {
       "model_id": "12cc7f512c4f4c7aac1fb85799b11b6f",
       "version_major": 2,
       "version_minor": 0
      },
      "text/plain": [
       "Iterating over validation batches:   0%|          | 0/39 [00:00<?, ?it/s]"
      ]
     },
     "metadata": {},
     "output_type": "display_data"
    },
    {
     "data": {
      "application/vnd.jupyter.widget-view+json": {
       "model_id": "a02b44f279e5434ca70ab12d00ad3041",
       "version_major": 2,
       "version_minor": 0
      },
      "text/plain": [
       "Iterating over training batches:   0%|          | 0/10 [00:00<?, ?it/s]"
      ]
     },
     "metadata": {},
     "output_type": "display_data"
    },
    {
     "data": {
      "application/vnd.jupyter.widget-view+json": {
       "model_id": "2cf58c51d4c54634bc662719e9955670",
       "version_major": 2,
       "version_minor": 0
      },
      "text/plain": [
       "Iterating over validation batches:   0%|          | 0/39 [00:00<?, ?it/s]"
      ]
     },
     "metadata": {},
     "output_type": "display_data"
    },
    {
     "data": {
      "application/vnd.jupyter.widget-view+json": {
       "model_id": "7f70761e954d4730b2bc5363b135377d",
       "version_major": 2,
       "version_minor": 0
      },
      "text/plain": [
       "Iterating over training batches:   0%|          | 0/10 [00:00<?, ?it/s]"
      ]
     },
     "metadata": {},
     "output_type": "display_data"
    },
    {
     "data": {
      "application/vnd.jupyter.widget-view+json": {
       "model_id": "0fc3d1dec0dd478ba89f0071b0a7e6ec",
       "version_major": 2,
       "version_minor": 0
      },
      "text/plain": [
       "Iterating over validation batches:   0%|          | 0/39 [00:00<?, ?it/s]"
      ]
     },
     "metadata": {},
     "output_type": "display_data"
    },
    {
     "data": {
      "application/vnd.jupyter.widget-view+json": {
       "model_id": "a3dee83569cd4898a9b888ef3b246511",
       "version_major": 2,
       "version_minor": 0
      },
      "text/plain": [
       "Iterating over training batches:   0%|          | 0/10 [00:00<?, ?it/s]"
      ]
     },
     "metadata": {},
     "output_type": "display_data"
    },
    {
     "data": {
      "application/vnd.jupyter.widget-view+json": {
       "model_id": "f9e340b6ac564ff29e2178149e87b005",
       "version_major": 2,
       "version_minor": 0
      },
      "text/plain": [
       "Iterating over validation batches:   0%|          | 0/39 [00:00<?, ?it/s]"
      ]
     },
     "metadata": {},
     "output_type": "display_data"
    },
    {
     "data": {
      "application/vnd.jupyter.widget-view+json": {
       "model_id": "e041dd7a90df48c58023300b1fd075e0",
       "version_major": 2,
       "version_minor": 0
      },
      "text/plain": [
       "Iterating over training batches:   0%|          | 0/10 [00:00<?, ?it/s]"
      ]
     },
     "metadata": {},
     "output_type": "display_data"
    },
    {
     "data": {
      "application/vnd.jupyter.widget-view+json": {
       "model_id": "ff79d6f234d14c69acc22ae5f09f754b",
       "version_major": 2,
       "version_minor": 0
      },
      "text/plain": [
       "Iterating over validation batches:   0%|          | 0/39 [00:00<?, ?it/s]"
      ]
     },
     "metadata": {},
     "output_type": "display_data"
    },
    {
     "data": {
      "application/vnd.jupyter.widget-view+json": {
       "model_id": "7a132ef6aa00480685f58571fc51b56d",
       "version_major": 2,
       "version_minor": 0
      },
      "text/plain": [
       "Iterating over training batches:   0%|          | 0/10 [00:00<?, ?it/s]"
      ]
     },
     "metadata": {},
     "output_type": "display_data"
    },
    {
     "data": {
      "application/vnd.jupyter.widget-view+json": {
       "model_id": "ed27d0349ab349d7a0755d4f6870620d",
       "version_major": 2,
       "version_minor": 0
      },
      "text/plain": [
       "Iterating over validation batches:   0%|          | 0/39 [00:00<?, ?it/s]"
      ]
     },
     "metadata": {},
     "output_type": "display_data"
    },
    {
     "data": {
      "application/vnd.jupyter.widget-view+json": {
       "model_id": "6106d95f705a428594cf0d9942ecfc5d",
       "version_major": 2,
       "version_minor": 0
      },
      "text/plain": [
       "Iterating over training batches:   0%|          | 0/10 [00:00<?, ?it/s]"
      ]
     },
     "metadata": {},
     "output_type": "display_data"
    },
    {
     "data": {
      "application/vnd.jupyter.widget-view+json": {
       "model_id": "70321b435ad44918b686e681af7c0b28",
       "version_major": 2,
       "version_minor": 0
      },
      "text/plain": [
       "Iterating over validation batches:   0%|          | 0/39 [00:00<?, ?it/s]"
      ]
     },
     "metadata": {},
     "output_type": "display_data"
    },
    {
     "data": {
      "application/vnd.jupyter.widget-view+json": {
       "model_id": "e305614efa6b4feab63fe6b5c9b65af3",
       "version_major": 2,
       "version_minor": 0
      },
      "text/plain": [
       "Iterating over training batches:   0%|          | 0/10 [00:00<?, ?it/s]"
      ]
     },
     "metadata": {},
     "output_type": "display_data"
    },
    {
     "data": {
      "application/vnd.jupyter.widget-view+json": {
       "model_id": "fe508a61284b4612b1fef3282011767d",
       "version_major": 2,
       "version_minor": 0
      },
      "text/plain": [
       "Iterating over validation batches:   0%|          | 0/39 [00:00<?, ?it/s]"
      ]
     },
     "metadata": {},
     "output_type": "display_data"
    },
    {
     "data": {
      "application/vnd.jupyter.widget-view+json": {
       "model_id": "e90706370c414023bd6925b08b5fc816",
       "version_major": 2,
       "version_minor": 0
      },
      "text/plain": [
       "Iterating over training batches:   0%|          | 0/10 [00:00<?, ?it/s]"
      ]
     },
     "metadata": {},
     "output_type": "display_data"
    },
    {
     "data": {
      "application/vnd.jupyter.widget-view+json": {
       "model_id": "37b2eef76ce14a88b12bbae2eee4c842",
       "version_major": 2,
       "version_minor": 0
      },
      "text/plain": [
       "Iterating over validation batches:   0%|          | 0/39 [00:00<?, ?it/s]"
      ]
     },
     "metadata": {},
     "output_type": "display_data"
    },
    {
     "data": {
      "application/vnd.jupyter.widget-view+json": {
       "model_id": "9db74d8888284449aa4fc86ef3826bd6",
       "version_major": 2,
       "version_minor": 0
      },
      "text/plain": [
       "Iterating over training batches:   0%|          | 0/10 [00:00<?, ?it/s]"
      ]
     },
     "metadata": {},
     "output_type": "display_data"
    },
    {
     "data": {
      "application/vnd.jupyter.widget-view+json": {
       "model_id": "64c60d28781c417c9df78da4fe4b5d0f",
       "version_major": 2,
       "version_minor": 0
      },
      "text/plain": [
       "Iterating over validation batches:   0%|          | 0/39 [00:00<?, ?it/s]"
      ]
     },
     "metadata": {},
     "output_type": "display_data"
    },
    {
     "data": {
      "application/vnd.jupyter.widget-view+json": {
       "model_id": "38004954733d482d91eefffbd6dd2210",
       "version_major": 2,
       "version_minor": 0
      },
      "text/plain": [
       "Iterating over training batches:   0%|          | 0/10 [00:00<?, ?it/s]"
      ]
     },
     "metadata": {},
     "output_type": "display_data"
    },
    {
     "data": {
      "application/vnd.jupyter.widget-view+json": {
       "model_id": "ea391fbd68df475aa6f07ba4aca97c30",
       "version_major": 2,
       "version_minor": 0
      },
      "text/plain": [
       "Iterating over validation batches:   0%|          | 0/39 [00:00<?, ?it/s]"
      ]
     },
     "metadata": {},
     "output_type": "display_data"
    },
    {
     "data": {
      "application/vnd.jupyter.widget-view+json": {
       "model_id": "53a6fd7cbb444b799917bf200f95d33d",
       "version_major": 2,
       "version_minor": 0
      },
      "text/plain": [
       "Iterating over training batches:   0%|          | 0/10 [00:00<?, ?it/s]"
      ]
     },
     "metadata": {},
     "output_type": "display_data"
    },
    {
     "data": {
      "application/vnd.jupyter.widget-view+json": {
       "model_id": "2791d4e5eb94406a9cef8bd1d88e7f0e",
       "version_major": 2,
       "version_minor": 0
      },
      "text/plain": [
       "Iterating over validation batches:   0%|          | 0/39 [00:00<?, ?it/s]"
      ]
     },
     "metadata": {},
     "output_type": "display_data"
    },
    {
     "data": {
      "application/vnd.jupyter.widget-view+json": {
       "model_id": "6ff3085ffd014b6ba0dc5fee8337af92",
       "version_major": 2,
       "version_minor": 0
      },
      "text/plain": [
       "Iterating over training batches:   0%|          | 0/10 [00:00<?, ?it/s]"
      ]
     },
     "metadata": {},
     "output_type": "display_data"
    },
    {
     "data": {
      "application/vnd.jupyter.widget-view+json": {
       "model_id": "82535e081b534af694cfc26c225824c2",
       "version_major": 2,
       "version_minor": 0
      },
      "text/plain": [
       "Iterating over validation batches:   0%|          | 0/39 [00:00<?, ?it/s]"
      ]
     },
     "metadata": {},
     "output_type": "display_data"
    },
    {
     "data": {
      "application/vnd.jupyter.widget-view+json": {
       "model_id": "51c63d8dd0524abf8b10a359c3fb2c69",
       "version_major": 2,
       "version_minor": 0
      },
      "text/plain": [
       "Iterating over training batches:   0%|          | 0/10 [00:00<?, ?it/s]"
      ]
     },
     "metadata": {},
     "output_type": "display_data"
    },
    {
     "data": {
      "application/vnd.jupyter.widget-view+json": {
       "model_id": "c5b30b0cb84a45caaa6bacbfeae93053",
       "version_major": 2,
       "version_minor": 0
      },
      "text/plain": [
       "Iterating over validation batches:   0%|          | 0/39 [00:00<?, ?it/s]"
      ]
     },
     "metadata": {},
     "output_type": "display_data"
    },
    {
     "data": {
      "application/vnd.jupyter.widget-view+json": {
       "model_id": "37b2cfaeb71f43e0b57606cb75bf84fb",
       "version_major": 2,
       "version_minor": 0
      },
      "text/plain": [
       "Iterating over training batches:   0%|          | 0/10 [00:00<?, ?it/s]"
      ]
     },
     "metadata": {},
     "output_type": "display_data"
    },
    {
     "data": {
      "application/vnd.jupyter.widget-view+json": {
       "model_id": "b269feaa60234815a2c69fa9166eba87",
       "version_major": 2,
       "version_minor": 0
      },
      "text/plain": [
       "Iterating over validation batches:   0%|          | 0/39 [00:00<?, ?it/s]"
      ]
     },
     "metadata": {},
     "output_type": "display_data"
    },
    {
     "data": {
      "application/vnd.jupyter.widget-view+json": {
       "model_id": "5599424ee92f476583200df05e9e6539",
       "version_major": 2,
       "version_minor": 0
      },
      "text/plain": [
       "Iterating over training batches:   0%|          | 0/10 [00:00<?, ?it/s]"
      ]
     },
     "metadata": {},
     "output_type": "display_data"
    },
    {
     "data": {
      "application/vnd.jupyter.widget-view+json": {
       "model_id": "e217cfdaf7e64efe800fe64ed815a5b9",
       "version_major": 2,
       "version_minor": 0
      },
      "text/plain": [
       "Iterating over validation batches:   0%|          | 0/39 [00:00<?, ?it/s]"
      ]
     },
     "metadata": {},
     "output_type": "display_data"
    },
    {
     "data": {
      "application/vnd.jupyter.widget-view+json": {
       "model_id": "9388fc36646345c7a10a33c949a7f52b",
       "version_major": 2,
       "version_minor": 0
      },
      "text/plain": [
       "Iterating over training batches:   0%|          | 0/10 [00:00<?, ?it/s]"
      ]
     },
     "metadata": {},
     "output_type": "display_data"
    },
    {
     "data": {
      "application/vnd.jupyter.widget-view+json": {
       "model_id": "de1bd8ee10834f968016d15672e72b39",
       "version_major": 2,
       "version_minor": 0
      },
      "text/plain": [
       "Iterating over validation batches:   0%|          | 0/39 [00:00<?, ?it/s]"
      ]
     },
     "metadata": {},
     "output_type": "display_data"
    },
    {
     "data": {
      "application/vnd.jupyter.widget-view+json": {
       "model_id": "7a7036c2f52e45d385f2780e5388c97c",
       "version_major": 2,
       "version_minor": 0
      },
      "text/plain": [
       "Iterating over training batches:   0%|          | 0/10 [00:00<?, ?it/s]"
      ]
     },
     "metadata": {},
     "output_type": "display_data"
    },
    {
     "data": {
      "application/vnd.jupyter.widget-view+json": {
       "model_id": "3774f9e41ea7423bb533a24b4ff79535",
       "version_major": 2,
       "version_minor": 0
      },
      "text/plain": [
       "Iterating over validation batches:   0%|          | 0/39 [00:00<?, ?it/s]"
      ]
     },
     "metadata": {},
     "output_type": "display_data"
    },
    {
     "data": {
      "application/vnd.jupyter.widget-view+json": {
       "model_id": "9f4d714040744c468ce17fb25ea6bc57",
       "version_major": 2,
       "version_minor": 0
      },
      "text/plain": [
       "Iterating over training batches:   0%|          | 0/10 [00:00<?, ?it/s]"
      ]
     },
     "metadata": {},
     "output_type": "display_data"
    },
    {
     "data": {
      "application/vnd.jupyter.widget-view+json": {
       "model_id": "c42509662f6e48daa8db93ed6998e18a",
       "version_major": 2,
       "version_minor": 0
      },
      "text/plain": [
       "Iterating over validation batches:   0%|          | 0/39 [00:00<?, ?it/s]"
      ]
     },
     "metadata": {},
     "output_type": "display_data"
    },
    {
     "data": {
      "application/vnd.jupyter.widget-view+json": {
       "model_id": "f5d8f68aba5c45fe8c43bedd3bd602ed",
       "version_major": 2,
       "version_minor": 0
      },
      "text/plain": [
       "Iterating over training batches:   0%|          | 0/10 [00:00<?, ?it/s]"
      ]
     },
     "metadata": {},
     "output_type": "display_data"
    },
    {
     "data": {
      "application/vnd.jupyter.widget-view+json": {
       "model_id": "4623aa0e451d4133a361d6195cb97da1",
       "version_major": 2,
       "version_minor": 0
      },
      "text/plain": [
       "Iterating over validation batches:   0%|          | 0/39 [00:00<?, ?it/s]"
      ]
     },
     "metadata": {},
     "output_type": "display_data"
    },
    {
     "data": {
      "application/vnd.jupyter.widget-view+json": {
       "model_id": "58598a61fec54b539a566ea7f768289f",
       "version_major": 2,
       "version_minor": 0
      },
      "text/plain": [
       "Iterating over training batches:   0%|          | 0/10 [00:00<?, ?it/s]"
      ]
     },
     "metadata": {},
     "output_type": "display_data"
    },
    {
     "data": {
      "application/vnd.jupyter.widget-view+json": {
       "model_id": "0a03bceb0b634b078d494f266a6d7754",
       "version_major": 2,
       "version_minor": 0
      },
      "text/plain": [
       "Iterating over validation batches:   0%|          | 0/39 [00:00<?, ?it/s]"
      ]
     },
     "metadata": {},
     "output_type": "display_data"
    },
    {
     "data": {
      "application/vnd.jupyter.widget-view+json": {
       "model_id": "cf70cc7e25034274a7ccd08844fc80b4",
       "version_major": 2,
       "version_minor": 0
      },
      "text/plain": [
       "Iterating over training batches:   0%|          | 0/10 [00:00<?, ?it/s]"
      ]
     },
     "metadata": {},
     "output_type": "display_data"
    },
    {
     "data": {
      "application/vnd.jupyter.widget-view+json": {
       "model_id": "98af2570631b4c3a996eeb74f9c64d2d",
       "version_major": 2,
       "version_minor": 0
      },
      "text/plain": [
       "Iterating over validation batches:   0%|          | 0/39 [00:00<?, ?it/s]"
      ]
     },
     "metadata": {},
     "output_type": "display_data"
    },
    {
     "data": {
      "application/vnd.jupyter.widget-view+json": {
       "model_id": "76a13ffa45ab4424ae39b19737eb69a5",
       "version_major": 2,
       "version_minor": 0
      },
      "text/plain": [
       "Iterating over training batches:   0%|          | 0/10 [00:00<?, ?it/s]"
      ]
     },
     "metadata": {},
     "output_type": "display_data"
    },
    {
     "data": {
      "application/vnd.jupyter.widget-view+json": {
       "model_id": "74e5dd3ded9b43f9a400d72a9ef9a23f",
       "version_major": 2,
       "version_minor": 0
      },
      "text/plain": [
       "Iterating over validation batches:   0%|          | 0/39 [00:00<?, ?it/s]"
      ]
     },
     "metadata": {},
     "output_type": "display_data"
    },
    {
     "data": {
      "application/vnd.jupyter.widget-view+json": {
       "model_id": "395dab9cdf6244c592baf541169aa7e7",
       "version_major": 2,
       "version_minor": 0
      },
      "text/plain": [
       "Iterating over training batches:   0%|          | 0/10 [00:00<?, ?it/s]"
      ]
     },
     "metadata": {},
     "output_type": "display_data"
    },
    {
     "data": {
      "application/vnd.jupyter.widget-view+json": {
       "model_id": "ba3be4ad7f4143549e66912e757efc54",
       "version_major": 2,
       "version_minor": 0
      },
      "text/plain": [
       "Iterating over validation batches:   0%|          | 0/39 [00:00<?, ?it/s]"
      ]
     },
     "metadata": {},
     "output_type": "display_data"
    },
    {
     "data": {
      "application/vnd.jupyter.widget-view+json": {
       "model_id": "5f6e11e3353a4a88be0005d205d434c8",
       "version_major": 2,
       "version_minor": 0
      },
      "text/plain": [
       "Iterating over training batches:   0%|          | 0/10 [00:00<?, ?it/s]"
      ]
     },
     "metadata": {},
     "output_type": "display_data"
    },
    {
     "data": {
      "application/vnd.jupyter.widget-view+json": {
       "model_id": "9731af190c6f42febb9df5c63c676d37",
       "version_major": 2,
       "version_minor": 0
      },
      "text/plain": [
       "Iterating over validation batches:   0%|          | 0/39 [00:00<?, ?it/s]"
      ]
     },
     "metadata": {},
     "output_type": "display_data"
    },
    {
     "data": {
      "application/vnd.jupyter.widget-view+json": {
       "model_id": "38acb00a68994c41bb9a87d2336191ef",
       "version_major": 2,
       "version_minor": 0
      },
      "text/plain": [
       "Iterating over training batches:   0%|          | 0/10 [00:00<?, ?it/s]"
      ]
     },
     "metadata": {},
     "output_type": "display_data"
    },
    {
     "data": {
      "application/vnd.jupyter.widget-view+json": {
       "model_id": "8b44e73c94404ae2a5c61b4cce2d3519",
       "version_major": 2,
       "version_minor": 0
      },
      "text/plain": [
       "Iterating over validation batches:   0%|          | 0/39 [00:00<?, ?it/s]"
      ]
     },
     "metadata": {},
     "output_type": "display_data"
    },
    {
     "data": {
      "application/vnd.jupyter.widget-view+json": {
       "model_id": "f309cb61f93c401f941506525c8b1ddb",
       "version_major": 2,
       "version_minor": 0
      },
      "text/plain": [
       "Iterating over training batches:   0%|          | 0/10 [00:00<?, ?it/s]"
      ]
     },
     "metadata": {},
     "output_type": "display_data"
    },
    {
     "data": {
      "application/vnd.jupyter.widget-view+json": {
       "model_id": "d8a95ff065394f10b5b994ad49cfddb4",
       "version_major": 2,
       "version_minor": 0
      },
      "text/plain": [
       "Iterating over validation batches:   0%|          | 0/39 [00:00<?, ?it/s]"
      ]
     },
     "metadata": {},
     "output_type": "display_data"
    },
    {
     "data": {
      "application/vnd.jupyter.widget-view+json": {
       "model_id": "889e35548f424667ae1300d7bd35f851",
       "version_major": 2,
       "version_minor": 0
      },
      "text/plain": [
       "Iterating over training batches:   0%|          | 0/10 [00:00<?, ?it/s]"
      ]
     },
     "metadata": {},
     "output_type": "display_data"
    },
    {
     "data": {
      "application/vnd.jupyter.widget-view+json": {
       "model_id": "9a3ac415fcda46a1bac598766e4a1856",
       "version_major": 2,
       "version_minor": 0
      },
      "text/plain": [
       "Iterating over validation batches:   0%|          | 0/39 [00:00<?, ?it/s]"
      ]
     },
     "metadata": {},
     "output_type": "display_data"
    },
    {
     "data": {
      "application/vnd.jupyter.widget-view+json": {
       "model_id": "0caefa7110df439b8af8b7e7aa2a0ceb",
       "version_major": 2,
       "version_minor": 0
      },
      "text/plain": [
       "Iterating over training batches:   0%|          | 0/10 [00:00<?, ?it/s]"
      ]
     },
     "metadata": {},
     "output_type": "display_data"
    },
    {
     "data": {
      "application/vnd.jupyter.widget-view+json": {
       "model_id": "aab32c21d1c342e2a5339cd273168862",
       "version_major": 2,
       "version_minor": 0
      },
      "text/plain": [
       "Iterating over validation batches:   0%|          | 0/39 [00:00<?, ?it/s]"
      ]
     },
     "metadata": {},
     "output_type": "display_data"
    },
    {
     "data": {
      "application/vnd.jupyter.widget-view+json": {
       "model_id": "e4f4383323e54d13b501e801a3b9f940",
       "version_major": 2,
       "version_minor": 0
      },
      "text/plain": [
       "Iterating over training batches:   0%|          | 0/10 [00:00<?, ?it/s]"
      ]
     },
     "metadata": {},
     "output_type": "display_data"
    },
    {
     "data": {
      "application/vnd.jupyter.widget-view+json": {
       "model_id": "5c514bad49f14fb69867f04898348f20",
       "version_major": 2,
       "version_minor": 0
      },
      "text/plain": [
       "Iterating over validation batches:   0%|          | 0/39 [00:00<?, ?it/s]"
      ]
     },
     "metadata": {},
     "output_type": "display_data"
    },
    {
     "data": {
      "application/vnd.jupyter.widget-view+json": {
       "model_id": "bee57bef18be4a0b82b4a6f097420842",
       "version_major": 2,
       "version_minor": 0
      },
      "text/plain": [
       "Iterating over training batches:   0%|          | 0/10 [00:00<?, ?it/s]"
      ]
     },
     "metadata": {},
     "output_type": "display_data"
    },
    {
     "data": {
      "application/vnd.jupyter.widget-view+json": {
       "model_id": "13181647a4314734a53ede4ad851d287",
       "version_major": 2,
       "version_minor": 0
      },
      "text/plain": [
       "Iterating over validation batches:   0%|          | 0/39 [00:00<?, ?it/s]"
      ]
     },
     "metadata": {},
     "output_type": "display_data"
    },
    {
     "data": {
      "application/vnd.jupyter.widget-view+json": {
       "model_id": "fabbb114e4d14d9096f9f67a62761be8",
       "version_major": 2,
       "version_minor": 0
      },
      "text/plain": [
       "Iterating over training batches:   0%|          | 0/10 [00:00<?, ?it/s]"
      ]
     },
     "metadata": {},
     "output_type": "display_data"
    },
    {
     "data": {
      "application/vnd.jupyter.widget-view+json": {
       "model_id": "f1d40302936c453cb8ab7646de116d9c",
       "version_major": 2,
       "version_minor": 0
      },
      "text/plain": [
       "Iterating over validation batches:   0%|          | 0/39 [00:00<?, ?it/s]"
      ]
     },
     "metadata": {},
     "output_type": "display_data"
    },
    {
     "data": {
      "application/vnd.jupyter.widget-view+json": {
       "model_id": "67c86761ae2647159ecd58998e9067e5",
       "version_major": 2,
       "version_minor": 0
      },
      "text/plain": [
       "Iterating over training batches:   0%|          | 0/10 [00:00<?, ?it/s]"
      ]
     },
     "metadata": {},
     "output_type": "display_data"
    },
    {
     "data": {
      "application/vnd.jupyter.widget-view+json": {
       "model_id": "3047addac2a34bbc9a7a59b660760f46",
       "version_major": 2,
       "version_minor": 0
      },
      "text/plain": [
       "Iterating over validation batches:   0%|          | 0/39 [00:00<?, ?it/s]"
      ]
     },
     "metadata": {},
     "output_type": "display_data"
    },
    {
     "data": {
      "application/vnd.jupyter.widget-view+json": {
       "model_id": "923a95f57bed449bad67deecbc65a350",
       "version_major": 2,
       "version_minor": 0
      },
      "text/plain": [
       "Iterating over training batches:   0%|          | 0/10 [00:00<?, ?it/s]"
      ]
     },
     "metadata": {},
     "output_type": "display_data"
    },
    {
     "data": {
      "application/vnd.jupyter.widget-view+json": {
       "model_id": "07387f3c551d436987ad381f6328f408",
       "version_major": 2,
       "version_minor": 0
      },
      "text/plain": [
       "Iterating over validation batches:   0%|          | 0/39 [00:00<?, ?it/s]"
      ]
     },
     "metadata": {},
     "output_type": "display_data"
    },
    {
     "data": {
      "application/vnd.jupyter.widget-view+json": {
       "model_id": "7105b7ed729a4137ba5f1ec71833d22d",
       "version_major": 2,
       "version_minor": 0
      },
      "text/plain": [
       "Iterating over training batches:   0%|          | 0/10 [00:00<?, ?it/s]"
      ]
     },
     "metadata": {},
     "output_type": "display_data"
    },
    {
     "data": {
      "application/vnd.jupyter.widget-view+json": {
       "model_id": "1906ca6312684a8ea49802a9fb558dad",
       "version_major": 2,
       "version_minor": 0
      },
      "text/plain": [
       "Iterating over validation batches:   0%|          | 0/39 [00:00<?, ?it/s]"
      ]
     },
     "metadata": {},
     "output_type": "display_data"
    },
    {
     "data": {
      "application/vnd.jupyter.widget-view+json": {
       "model_id": "6cbceef18861402cba2cfb7247812f16",
       "version_major": 2,
       "version_minor": 0
      },
      "text/plain": [
       "Iterating over training batches:   0%|          | 0/10 [00:00<?, ?it/s]"
      ]
     },
     "metadata": {},
     "output_type": "display_data"
    },
    {
     "data": {
      "application/vnd.jupyter.widget-view+json": {
       "model_id": "087a5a83ce1d4c8fab8bc52f44411e84",
       "version_major": 2,
       "version_minor": 0
      },
      "text/plain": [
       "Iterating over validation batches:   0%|          | 0/39 [00:00<?, ?it/s]"
      ]
     },
     "metadata": {},
     "output_type": "display_data"
    },
    {
     "data": {
      "application/vnd.jupyter.widget-view+json": {
       "model_id": "ce77d752dba944cd97146bf6f3cc7b4c",
       "version_major": 2,
       "version_minor": 0
      },
      "text/plain": [
       "Iterating over training batches:   0%|          | 0/10 [00:00<?, ?it/s]"
      ]
     },
     "metadata": {},
     "output_type": "display_data"
    },
    {
     "data": {
      "application/vnd.jupyter.widget-view+json": {
       "model_id": "88095086ef164699868c9aa30a6349bb",
       "version_major": 2,
       "version_minor": 0
      },
      "text/plain": [
       "Iterating over validation batches:   0%|          | 0/39 [00:00<?, ?it/s]"
      ]
     },
     "metadata": {},
     "output_type": "display_data"
    },
    {
     "data": {
      "application/vnd.jupyter.widget-view+json": {
       "model_id": "8a4ce2df72c140df80ac0e5de47a7f02",
       "version_major": 2,
       "version_minor": 0
      },
      "text/plain": [
       "Iterating over training batches:   0%|          | 0/10 [00:00<?, ?it/s]"
      ]
     },
     "metadata": {},
     "output_type": "display_data"
    },
    {
     "data": {
      "application/vnd.jupyter.widget-view+json": {
       "model_id": "53d875d6e4a3401caafa9a125b0847b9",
       "version_major": 2,
       "version_minor": 0
      },
      "text/plain": [
       "Iterating over validation batches:   0%|          | 0/39 [00:00<?, ?it/s]"
      ]
     },
     "metadata": {},
     "output_type": "display_data"
    },
    {
     "data": {
      "application/vnd.jupyter.widget-view+json": {
       "model_id": "8732c4d4b982477e8adc9a14d72dfb86",
       "version_major": 2,
       "version_minor": 0
      },
      "text/plain": [
       "Iterating over training batches:   0%|          | 0/10 [00:00<?, ?it/s]"
      ]
     },
     "metadata": {},
     "output_type": "display_data"
    },
    {
     "data": {
      "application/vnd.jupyter.widget-view+json": {
       "model_id": "6de848e1f6b242e2a3c212dec0735c5d",
       "version_major": 2,
       "version_minor": 0
      },
      "text/plain": [
       "Iterating over validation batches:   0%|          | 0/39 [00:00<?, ?it/s]"
      ]
     },
     "metadata": {},
     "output_type": "display_data"
    },
    {
     "data": {
      "application/vnd.jupyter.widget-view+json": {
       "model_id": "697fd7c5d67340a7ba96a47d34d4818b",
       "version_major": 2,
       "version_minor": 0
      },
      "text/plain": [
       "Iterating over training batches:   0%|          | 0/10 [00:00<?, ?it/s]"
      ]
     },
     "metadata": {},
     "output_type": "display_data"
    },
    {
     "data": {
      "application/vnd.jupyter.widget-view+json": {
       "model_id": "644038156482494e86613a7b663fe385",
       "version_major": 2,
       "version_minor": 0
      },
      "text/plain": [
       "Iterating over validation batches:   0%|          | 0/39 [00:00<?, ?it/s]"
      ]
     },
     "metadata": {},
     "output_type": "display_data"
    },
    {
     "data": {
      "application/vnd.jupyter.widget-view+json": {
       "model_id": "a476d6299fc145b5a883dc77355d01b0",
       "version_major": 2,
       "version_minor": 0
      },
      "text/plain": [
       "Iterating over training batches:   0%|          | 0/10 [00:00<?, ?it/s]"
      ]
     },
     "metadata": {},
     "output_type": "display_data"
    },
    {
     "data": {
      "application/vnd.jupyter.widget-view+json": {
       "model_id": "7037e9a174a64059963a9b0add0fa7f6",
       "version_major": 2,
       "version_minor": 0
      },
      "text/plain": [
       "Iterating over validation batches:   0%|          | 0/39 [00:00<?, ?it/s]"
      ]
     },
     "metadata": {},
     "output_type": "display_data"
    },
    {
     "data": {
      "application/vnd.jupyter.widget-view+json": {
       "model_id": "7ab7c3ece36848d7808933fe1aac86bb",
       "version_major": 2,
       "version_minor": 0
      },
      "text/plain": [
       "Iterating over training batches:   0%|          | 0/10 [00:00<?, ?it/s]"
      ]
     },
     "metadata": {},
     "output_type": "display_data"
    },
    {
     "data": {
      "application/vnd.jupyter.widget-view+json": {
       "model_id": "edfef78256324c9da19016627823b6a6",
       "version_major": 2,
       "version_minor": 0
      },
      "text/plain": [
       "Iterating over validation batches:   0%|          | 0/39 [00:00<?, ?it/s]"
      ]
     },
     "metadata": {},
     "output_type": "display_data"
    },
    {
     "data": {
      "application/vnd.jupyter.widget-view+json": {
       "model_id": "59caaa046fc14bceb9d471fd2fc5e79c",
       "version_major": 2,
       "version_minor": 0
      },
      "text/plain": [
       "Iterating over training batches:   0%|          | 0/10 [00:00<?, ?it/s]"
      ]
     },
     "metadata": {},
     "output_type": "display_data"
    },
    {
     "data": {
      "application/vnd.jupyter.widget-view+json": {
       "model_id": "004def81866c49b29cb7402c4dd5d6d8",
       "version_major": 2,
       "version_minor": 0
      },
      "text/plain": [
       "Iterating over validation batches:   0%|          | 0/39 [00:00<?, ?it/s]"
      ]
     },
     "metadata": {},
     "output_type": "display_data"
    },
    {
     "data": {
      "application/vnd.jupyter.widget-view+json": {
       "model_id": "6d78c4668b0f4909b73cfb0cf050c65f",
       "version_major": 2,
       "version_minor": 0
      },
      "text/plain": [
       "Iterating over training batches:   0%|          | 0/10 [00:00<?, ?it/s]"
      ]
     },
     "metadata": {},
     "output_type": "display_data"
    },
    {
     "data": {
      "application/vnd.jupyter.widget-view+json": {
       "model_id": "1bfb10b344bc49839758c10ae089c116",
       "version_major": 2,
       "version_minor": 0
      },
      "text/plain": [
       "Iterating over validation batches:   0%|          | 0/39 [00:00<?, ?it/s]"
      ]
     },
     "metadata": {},
     "output_type": "display_data"
    },
    {
     "data": {
      "application/vnd.jupyter.widget-view+json": {
       "model_id": "f2bb5ea193cc42b2a893358c79da3196",
       "version_major": 2,
       "version_minor": 0
      },
      "text/plain": [
       "Iterating over training batches:   0%|          | 0/10 [00:00<?, ?it/s]"
      ]
     },
     "metadata": {},
     "output_type": "display_data"
    },
    {
     "data": {
      "application/vnd.jupyter.widget-view+json": {
       "model_id": "85aeedc0e6c34ea0b89a9515a7ab70c1",
       "version_major": 2,
       "version_minor": 0
      },
      "text/plain": [
       "Iterating over validation batches:   0%|          | 0/39 [00:00<?, ?it/s]"
      ]
     },
     "metadata": {},
     "output_type": "display_data"
    },
    {
     "data": {
      "application/vnd.jupyter.widget-view+json": {
       "model_id": "bc02f6bf258b40879b05c3a22ae8d690",
       "version_major": 2,
       "version_minor": 0
      },
      "text/plain": [
       "Iterating over training batches:   0%|          | 0/10 [00:00<?, ?it/s]"
      ]
     },
     "metadata": {},
     "output_type": "display_data"
    },
    {
     "data": {
      "application/vnd.jupyter.widget-view+json": {
       "model_id": "a1249103a9a741a19461ac30d9b83102",
       "version_major": 2,
       "version_minor": 0
      },
      "text/plain": [
       "Iterating over validation batches:   0%|          | 0/39 [00:00<?, ?it/s]"
      ]
     },
     "metadata": {},
     "output_type": "display_data"
    },
    {
     "data": {
      "application/vnd.jupyter.widget-view+json": {
       "model_id": "c4f1755f89004a37bdeeaca45ecacfd7",
       "version_major": 2,
       "version_minor": 0
      },
      "text/plain": [
       "Iterating over training batches:   0%|          | 0/10 [00:00<?, ?it/s]"
      ]
     },
     "metadata": {},
     "output_type": "display_data"
    },
    {
     "data": {
      "application/vnd.jupyter.widget-view+json": {
       "model_id": "d28a3ee537714448b52a835f9f67f467",
       "version_major": 2,
       "version_minor": 0
      },
      "text/plain": [
       "Iterating over validation batches:   0%|          | 0/39 [00:00<?, ?it/s]"
      ]
     },
     "metadata": {},
     "output_type": "display_data"
    },
    {
     "data": {
      "application/vnd.jupyter.widget-view+json": {
       "model_id": "5e3ba6cf955f47b6b4924ecaf1a246c7",
       "version_major": 2,
       "version_minor": 0
      },
      "text/plain": [
       "Iterating over training batches:   0%|          | 0/10 [00:00<?, ?it/s]"
      ]
     },
     "metadata": {},
     "output_type": "display_data"
    },
    {
     "data": {
      "application/vnd.jupyter.widget-view+json": {
       "model_id": "c06475d727804de2876d1663007142da",
       "version_major": 2,
       "version_minor": 0
      },
      "text/plain": [
       "Iterating over validation batches:   0%|          | 0/39 [00:00<?, ?it/s]"
      ]
     },
     "metadata": {},
     "output_type": "display_data"
    },
    {
     "data": {
      "application/vnd.jupyter.widget-view+json": {
       "model_id": "e50f495b8914481ba8e357007c8d8b66",
       "version_major": 2,
       "version_minor": 0
      },
      "text/plain": [
       "Iterating over training batches:   0%|          | 0/10 [00:00<?, ?it/s]"
      ]
     },
     "metadata": {},
     "output_type": "display_data"
    },
    {
     "data": {
      "application/vnd.jupyter.widget-view+json": {
       "model_id": "d28ee97436f541259e7d7c5621499224",
       "version_major": 2,
       "version_minor": 0
      },
      "text/plain": [
       "Iterating over validation batches:   0%|          | 0/39 [00:00<?, ?it/s]"
      ]
     },
     "metadata": {},
     "output_type": "display_data"
    },
    {
     "data": {
      "application/vnd.jupyter.widget-view+json": {
       "model_id": "074b747036a744c087d2e02a159bee37",
       "version_major": 2,
       "version_minor": 0
      },
      "text/plain": [
       "Iterating over training batches:   0%|          | 0/10 [00:00<?, ?it/s]"
      ]
     },
     "metadata": {},
     "output_type": "display_data"
    },
    {
     "data": {
      "application/vnd.jupyter.widget-view+json": {
       "model_id": "7b394f9118a645a09d8ace7f0148c264",
       "version_major": 2,
       "version_minor": 0
      },
      "text/plain": [
       "Iterating over validation batches:   0%|          | 0/39 [00:00<?, ?it/s]"
      ]
     },
     "metadata": {},
     "output_type": "display_data"
    },
    {
     "data": {
      "application/vnd.jupyter.widget-view+json": {
       "model_id": "6de639bd4000473e904e2d75ad0f69b5",
       "version_major": 2,
       "version_minor": 0
      },
      "text/plain": [
       "Iterating over training batches:   0%|          | 0/10 [00:00<?, ?it/s]"
      ]
     },
     "metadata": {},
     "output_type": "display_data"
    },
    {
     "data": {
      "application/vnd.jupyter.widget-view+json": {
       "model_id": "f6702e44f42c4287affaa4d09830c3d9",
       "version_major": 2,
       "version_minor": 0
      },
      "text/plain": [
       "Iterating over validation batches:   0%|          | 0/39 [00:00<?, ?it/s]"
      ]
     },
     "metadata": {},
     "output_type": "display_data"
    },
    {
     "data": {
      "application/vnd.jupyter.widget-view+json": {
       "model_id": "6071d946fb314e288ae24bdb6592d14a",
       "version_major": 2,
       "version_minor": 0
      },
      "text/plain": [
       "Iterating over training batches:   0%|          | 0/10 [00:00<?, ?it/s]"
      ]
     },
     "metadata": {},
     "output_type": "display_data"
    },
    {
     "data": {
      "application/vnd.jupyter.widget-view+json": {
       "model_id": "bc13e45ca37a4b40ad44d303c668dd87",
       "version_major": 2,
       "version_minor": 0
      },
      "text/plain": [
       "Iterating over validation batches:   0%|          | 0/39 [00:00<?, ?it/s]"
      ]
     },
     "metadata": {},
     "output_type": "display_data"
    },
    {
     "data": {
      "application/vnd.jupyter.widget-view+json": {
       "model_id": "10e04f9c28404f82b7adbeb8ff598313",
       "version_major": 2,
       "version_minor": 0
      },
      "text/plain": [
       "Iterating over training batches:   0%|          | 0/10 [00:00<?, ?it/s]"
      ]
     },
     "metadata": {},
     "output_type": "display_data"
    },
    {
     "data": {
      "application/vnd.jupyter.widget-view+json": {
       "model_id": "4933b9aff7a444eeab19d785ecef66bb",
       "version_major": 2,
       "version_minor": 0
      },
      "text/plain": [
       "Iterating over validation batches:   0%|          | 0/39 [00:00<?, ?it/s]"
      ]
     },
     "metadata": {},
     "output_type": "display_data"
    },
    {
     "data": {
      "application/vnd.jupyter.widget-view+json": {
       "model_id": "8589b4a36afd48a7a0ac775bcba5a001",
       "version_major": 2,
       "version_minor": 0
      },
      "text/plain": [
       "Iterating over training batches:   0%|          | 0/10 [00:00<?, ?it/s]"
      ]
     },
     "metadata": {},
     "output_type": "display_data"
    },
    {
     "data": {
      "application/vnd.jupyter.widget-view+json": {
       "model_id": "aabab99871f94b2bbfa0a00ce4bb4923",
       "version_major": 2,
       "version_minor": 0
      },
      "text/plain": [
       "Iterating over validation batches:   0%|          | 0/39 [00:00<?, ?it/s]"
      ]
     },
     "metadata": {},
     "output_type": "display_data"
    },
    {
     "data": {
      "application/vnd.jupyter.widget-view+json": {
       "model_id": "a94b1dcdd5a44a2384d6a7a1561d0574",
       "version_major": 2,
       "version_minor": 0
      },
      "text/plain": [
       "Iterating over training batches:   0%|          | 0/10 [00:00<?, ?it/s]"
      ]
     },
     "metadata": {},
     "output_type": "display_data"
    },
    {
     "data": {
      "application/vnd.jupyter.widget-view+json": {
       "model_id": "cc6ab53d123e4429b19769ac85c54e29",
       "version_major": 2,
       "version_minor": 0
      },
      "text/plain": [
       "Iterating over validation batches:   0%|          | 0/39 [00:00<?, ?it/s]"
      ]
     },
     "metadata": {},
     "output_type": "display_data"
    },
    {
     "data": {
      "application/vnd.jupyter.widget-view+json": {
       "model_id": "c971be3fcca44d80a452edd51083e084",
       "version_major": 2,
       "version_minor": 0
      },
      "text/plain": [
       "Iterating over training batches:   0%|          | 0/10 [00:00<?, ?it/s]"
      ]
     },
     "metadata": {},
     "output_type": "display_data"
    },
    {
     "data": {
      "application/vnd.jupyter.widget-view+json": {
       "model_id": "efcf95daf0a74380b9fda04d9d3aa6b6",
       "version_major": 2,
       "version_minor": 0
      },
      "text/plain": [
       "Iterating over validation batches:   0%|          | 0/39 [00:00<?, ?it/s]"
      ]
     },
     "metadata": {},
     "output_type": "display_data"
    },
    {
     "data": {
      "application/vnd.jupyter.widget-view+json": {
       "model_id": "bb1eafd84bbe492ca3adfc09c4db5466",
       "version_major": 2,
       "version_minor": 0
      },
      "text/plain": [
       "Iterating over training batches:   0%|          | 0/10 [00:00<?, ?it/s]"
      ]
     },
     "metadata": {},
     "output_type": "display_data"
    },
    {
     "data": {
      "application/vnd.jupyter.widget-view+json": {
       "model_id": "ae5fefb1fd0f478c9a1193ae23e5d394",
       "version_major": 2,
       "version_minor": 0
      },
      "text/plain": [
       "Iterating over validation batches:   0%|          | 0/39 [00:00<?, ?it/s]"
      ]
     },
     "metadata": {},
     "output_type": "display_data"
    },
    {
     "data": {
      "application/vnd.jupyter.widget-view+json": {
       "model_id": "0336318b32cf4696ae493d7a0da816aa",
       "version_major": 2,
       "version_minor": 0
      },
      "text/plain": [
       "Iterating over training batches:   0%|          | 0/10 [00:00<?, ?it/s]"
      ]
     },
     "metadata": {},
     "output_type": "display_data"
    },
    {
     "data": {
      "application/vnd.jupyter.widget-view+json": {
       "model_id": "d29525f3583d402ca1b238b37ff37289",
       "version_major": 2,
       "version_minor": 0
      },
      "text/plain": [
       "Iterating over validation batches:   0%|          | 0/39 [00:00<?, ?it/s]"
      ]
     },
     "metadata": {},
     "output_type": "display_data"
    },
    {
     "data": {
      "application/vnd.jupyter.widget-view+json": {
       "model_id": "740db7be21984a00be40f8aa355062f2",
       "version_major": 2,
       "version_minor": 0
      },
      "text/plain": [
       "Iterating over training batches:   0%|          | 0/10 [00:00<?, ?it/s]"
      ]
     },
     "metadata": {},
     "output_type": "display_data"
    },
    {
     "data": {
      "application/vnd.jupyter.widget-view+json": {
       "model_id": "dbecc3385ce040a89daf8c68220008f0",
       "version_major": 2,
       "version_minor": 0
      },
      "text/plain": [
       "Iterating over validation batches:   0%|          | 0/39 [00:00<?, ?it/s]"
      ]
     },
     "metadata": {},
     "output_type": "display_data"
    },
    {
     "data": {
      "application/vnd.jupyter.widget-view+json": {
       "model_id": "0681c42e531844088849c811d787ff31",
       "version_major": 2,
       "version_minor": 0
      },
      "text/plain": [
       "Iterating over training batches:   0%|          | 0/10 [00:00<?, ?it/s]"
      ]
     },
     "metadata": {},
     "output_type": "display_data"
    },
    {
     "data": {
      "application/vnd.jupyter.widget-view+json": {
       "model_id": "92d46cc71c3f44bba5c952a7cd531bde",
       "version_major": 2,
       "version_minor": 0
      },
      "text/plain": [
       "Iterating over validation batches:   0%|          | 0/39 [00:00<?, ?it/s]"
      ]
     },
     "metadata": {},
     "output_type": "display_data"
    },
    {
     "data": {
      "application/vnd.jupyter.widget-view+json": {
       "model_id": "ce321c4f644f4bae8adbb89d5d90486e",
       "version_major": 2,
       "version_minor": 0
      },
      "text/plain": [
       "Iterating over training batches:   0%|          | 0/10 [00:00<?, ?it/s]"
      ]
     },
     "metadata": {},
     "output_type": "display_data"
    },
    {
     "data": {
      "application/vnd.jupyter.widget-view+json": {
       "model_id": "a9def9274e3d48a591d70e1c4408e27f",
       "version_major": 2,
       "version_minor": 0
      },
      "text/plain": [
       "Iterating over validation batches:   0%|          | 0/39 [00:00<?, ?it/s]"
      ]
     },
     "metadata": {},
     "output_type": "display_data"
    },
    {
     "data": {
      "application/vnd.jupyter.widget-view+json": {
       "model_id": "02bd4891d89f459c98ca03cd08938140",
       "version_major": 2,
       "version_minor": 0
      },
      "text/plain": [
       "Iterating over training batches:   0%|          | 0/10 [00:00<?, ?it/s]"
      ]
     },
     "metadata": {},
     "output_type": "display_data"
    },
    {
     "data": {
      "application/vnd.jupyter.widget-view+json": {
       "model_id": "387e0198f68f472da18d8d422465bb12",
       "version_major": 2,
       "version_minor": 0
      },
      "text/plain": [
       "Iterating over validation batches:   0%|          | 0/39 [00:00<?, ?it/s]"
      ]
     },
     "metadata": {},
     "output_type": "display_data"
    },
    {
     "data": {
      "application/vnd.jupyter.widget-view+json": {
       "model_id": "166211d163c6425493aa130cb00638d7",
       "version_major": 2,
       "version_minor": 0
      },
      "text/plain": [
       "Iterating over training batches:   0%|          | 0/10 [00:00<?, ?it/s]"
      ]
     },
     "metadata": {},
     "output_type": "display_data"
    },
    {
     "data": {
      "application/vnd.jupyter.widget-view+json": {
       "model_id": "89edb3da7a9e42cbbb6470eb55d08a4c",
       "version_major": 2,
       "version_minor": 0
      },
      "text/plain": [
       "Iterating over validation batches:   0%|          | 0/39 [00:00<?, ?it/s]"
      ]
     },
     "metadata": {},
     "output_type": "display_data"
    },
    {
     "data": {
      "application/vnd.jupyter.widget-view+json": {
       "model_id": "87a92965f07b4afea868177ae9d12acb",
       "version_major": 2,
       "version_minor": 0
      },
      "text/plain": [
       "Iterating over training batches:   0%|          | 0/10 [00:00<?, ?it/s]"
      ]
     },
     "metadata": {},
     "output_type": "display_data"
    },
    {
     "data": {
      "application/vnd.jupyter.widget-view+json": {
       "model_id": "53c5f08969854ef589cf54baecc783d8",
       "version_major": 2,
       "version_minor": 0
      },
      "text/plain": [
       "Iterating over validation batches:   0%|          | 0/39 [00:00<?, ?it/s]"
      ]
     },
     "metadata": {},
     "output_type": "display_data"
    },
    {
     "data": {
      "application/vnd.jupyter.widget-view+json": {
       "model_id": "e3160cb479e9448981800914fa2547d6",
       "version_major": 2,
       "version_minor": 0
      },
      "text/plain": [
       "Iterating over training batches:   0%|          | 0/10 [00:00<?, ?it/s]"
      ]
     },
     "metadata": {},
     "output_type": "display_data"
    },
    {
     "data": {
      "application/vnd.jupyter.widget-view+json": {
       "model_id": "db4ded4d648a4052af4cad7dbdadeb09",
       "version_major": 2,
       "version_minor": 0
      },
      "text/plain": [
       "Iterating over validation batches:   0%|          | 0/39 [00:00<?, ?it/s]"
      ]
     },
     "metadata": {},
     "output_type": "display_data"
    },
    {
     "data": {
      "application/vnd.jupyter.widget-view+json": {
       "model_id": "8b718aab3e844d349c2803cad8d9c545",
       "version_major": 2,
       "version_minor": 0
      },
      "text/plain": [
       "Iterating over training batches:   0%|          | 0/10 [00:00<?, ?it/s]"
      ]
     },
     "metadata": {},
     "output_type": "display_data"
    },
    {
     "data": {
      "application/vnd.jupyter.widget-view+json": {
       "model_id": "927174f05673410d993450c9a9cdf547",
       "version_major": 2,
       "version_minor": 0
      },
      "text/plain": [
       "Iterating over validation batches:   0%|          | 0/39 [00:00<?, ?it/s]"
      ]
     },
     "metadata": {},
     "output_type": "display_data"
    },
    {
     "data": {
      "application/vnd.jupyter.widget-view+json": {
       "model_id": "63cc2b4d78cd4c67911d5bbce9fba545",
       "version_major": 2,
       "version_minor": 0
      },
      "text/plain": [
       "Iterating over training batches:   0%|          | 0/10 [00:00<?, ?it/s]"
      ]
     },
     "metadata": {},
     "output_type": "display_data"
    },
    {
     "data": {
      "application/vnd.jupyter.widget-view+json": {
       "model_id": "c08c32a5cffc4b78905b254d4068397a",
       "version_major": 2,
       "version_minor": 0
      },
      "text/plain": [
       "Iterating over validation batches:   0%|          | 0/39 [00:00<?, ?it/s]"
      ]
     },
     "metadata": {},
     "output_type": "display_data"
    },
    {
     "data": {
      "application/vnd.jupyter.widget-view+json": {
       "model_id": "b52fa3c18c8c411aaf38ad0f8c388355",
       "version_major": 2,
       "version_minor": 0
      },
      "text/plain": [
       "Iterating over training batches:   0%|          | 0/10 [00:00<?, ?it/s]"
      ]
     },
     "metadata": {},
     "output_type": "display_data"
    },
    {
     "data": {
      "application/vnd.jupyter.widget-view+json": {
       "model_id": "78f6dc0032234068b2b4598216c70e70",
       "version_major": 2,
       "version_minor": 0
      },
      "text/plain": [
       "Iterating over validation batches:   0%|          | 0/39 [00:00<?, ?it/s]"
      ]
     },
     "metadata": {},
     "output_type": "display_data"
    },
    {
     "data": {
      "application/vnd.jupyter.widget-view+json": {
       "model_id": "426ecf128f2b402eb8cd162db9df086c",
       "version_major": 2,
       "version_minor": 0
      },
      "text/plain": [
       "Iterating over training batches:   0%|          | 0/10 [00:00<?, ?it/s]"
      ]
     },
     "metadata": {},
     "output_type": "display_data"
    },
    {
     "data": {
      "application/vnd.jupyter.widget-view+json": {
       "model_id": "563e0d224dfd4a1e9275b72ec3235ee4",
       "version_major": 2,
       "version_minor": 0
      },
      "text/plain": [
       "Iterating over validation batches:   0%|          | 0/39 [00:00<?, ?it/s]"
      ]
     },
     "metadata": {},
     "output_type": "display_data"
    },
    {
     "data": {
      "application/vnd.jupyter.widget-view+json": {
       "model_id": "0e4f66bf347f4d8685cc8f9687834674",
       "version_major": 2,
       "version_minor": 0
      },
      "text/plain": [
       "Iterating over training batches:   0%|          | 0/10 [00:00<?, ?it/s]"
      ]
     },
     "metadata": {},
     "output_type": "display_data"
    },
    {
     "data": {
      "application/vnd.jupyter.widget-view+json": {
       "model_id": "efd9a53c42d44826bd88359b07394838",
       "version_major": 2,
       "version_minor": 0
      },
      "text/plain": [
       "Iterating over validation batches:   0%|          | 0/39 [00:00<?, ?it/s]"
      ]
     },
     "metadata": {},
     "output_type": "display_data"
    },
    {
     "data": {
      "application/vnd.jupyter.widget-view+json": {
       "model_id": "7aea1590d3f9459f826546a72f8d4034",
       "version_major": 2,
       "version_minor": 0
      },
      "text/plain": [
       "Iterating over training batches:   0%|          | 0/10 [00:00<?, ?it/s]"
      ]
     },
     "metadata": {},
     "output_type": "display_data"
    },
    {
     "data": {
      "application/vnd.jupyter.widget-view+json": {
       "model_id": "62a1379836e345568c6ae256b441ac19",
       "version_major": 2,
       "version_minor": 0
      },
      "text/plain": [
       "Iterating over validation batches:   0%|          | 0/39 [00:00<?, ?it/s]"
      ]
     },
     "metadata": {},
     "output_type": "display_data"
    },
    {
     "data": {
      "application/vnd.jupyter.widget-view+json": {
       "model_id": "c4498e434853471d9855229b8cd67486",
       "version_major": 2,
       "version_minor": 0
      },
      "text/plain": [
       "Iterating over training batches:   0%|          | 0/10 [00:00<?, ?it/s]"
      ]
     },
     "metadata": {},
     "output_type": "display_data"
    },
    {
     "data": {
      "application/vnd.jupyter.widget-view+json": {
       "model_id": "87a9c2ca049047629e24e0ed6b621914",
       "version_major": 2,
       "version_minor": 0
      },
      "text/plain": [
       "Iterating over validation batches:   0%|          | 0/39 [00:00<?, ?it/s]"
      ]
     },
     "metadata": {},
     "output_type": "display_data"
    },
    {
     "data": {
      "application/vnd.jupyter.widget-view+json": {
       "model_id": "cd0e4e58821842b28b2c37530738e239",
       "version_major": 2,
       "version_minor": 0
      },
      "text/plain": [
       "Iterating over training batches:   0%|          | 0/10 [00:00<?, ?it/s]"
      ]
     },
     "metadata": {},
     "output_type": "display_data"
    },
    {
     "data": {
      "application/vnd.jupyter.widget-view+json": {
       "model_id": "58de0ec998ca4f5f8496f620d0bcd44f",
       "version_major": 2,
       "version_minor": 0
      },
      "text/plain": [
       "Iterating over validation batches:   0%|          | 0/39 [00:00<?, ?it/s]"
      ]
     },
     "metadata": {},
     "output_type": "display_data"
    },
    {
     "data": {
      "application/vnd.jupyter.widget-view+json": {
       "model_id": "20b0b70b7d234a9ba164031900e1e7eb",
       "version_major": 2,
       "version_minor": 0
      },
      "text/plain": [
       "Iterating over training batches:   0%|          | 0/10 [00:00<?, ?it/s]"
      ]
     },
     "metadata": {},
     "output_type": "display_data"
    },
    {
     "data": {
      "application/vnd.jupyter.widget-view+json": {
       "model_id": "ac64b80e7f204fdca96fcb5a78774937",
       "version_major": 2,
       "version_minor": 0
      },
      "text/plain": [
       "Iterating over validation batches:   0%|          | 0/39 [00:00<?, ?it/s]"
      ]
     },
     "metadata": {},
     "output_type": "display_data"
    },
    {
     "data": {
      "application/vnd.jupyter.widget-view+json": {
       "model_id": "3ef60f9d83794de796c697537d8cf286",
       "version_major": 2,
       "version_minor": 0
      },
      "text/plain": [
       "Iterating over training batches:   0%|          | 0/10 [00:00<?, ?it/s]"
      ]
     },
     "metadata": {},
     "output_type": "display_data"
    },
    {
     "data": {
      "application/vnd.jupyter.widget-view+json": {
       "model_id": "d32adc0fc33e4500842d3d1b03a37c24",
       "version_major": 2,
       "version_minor": 0
      },
      "text/plain": [
       "Iterating over validation batches:   0%|          | 0/39 [00:00<?, ?it/s]"
      ]
     },
     "metadata": {},
     "output_type": "display_data"
    },
    {
     "data": {
      "application/vnd.jupyter.widget-view+json": {
       "model_id": "f26278ca92eb4f47aa1079cd4ea79d3c",
       "version_major": 2,
       "version_minor": 0
      },
      "text/plain": [
       "Iterating over training batches:   0%|          | 0/10 [00:00<?, ?it/s]"
      ]
     },
     "metadata": {},
     "output_type": "display_data"
    },
    {
     "data": {
      "application/vnd.jupyter.widget-view+json": {
       "model_id": "f9bef5c1d03d4de5a7474afc67eeab9a",
       "version_major": 2,
       "version_minor": 0
      },
      "text/plain": [
       "Iterating over validation batches:   0%|          | 0/39 [00:00<?, ?it/s]"
      ]
     },
     "metadata": {},
     "output_type": "display_data"
    },
    {
     "data": {
      "application/vnd.jupyter.widget-view+json": {
       "model_id": "4d3e803ecaf741c5af36fcbfe1b18344",
       "version_major": 2,
       "version_minor": 0
      },
      "text/plain": [
       "Iterating over training batches:   0%|          | 0/10 [00:00<?, ?it/s]"
      ]
     },
     "metadata": {},
     "output_type": "display_data"
    },
    {
     "data": {
      "application/vnd.jupyter.widget-view+json": {
       "model_id": "a4ec915704b549f5b9ed7a1b1167bcfd",
       "version_major": 2,
       "version_minor": 0
      },
      "text/plain": [
       "Iterating over validation batches:   0%|          | 0/39 [00:00<?, ?it/s]"
      ]
     },
     "metadata": {},
     "output_type": "display_data"
    },
    {
     "data": {
      "application/vnd.jupyter.widget-view+json": {
       "model_id": "7266edcf2213457ebfb0f17b24e7ed1b",
       "version_major": 2,
       "version_minor": 0
      },
      "text/plain": [
       "Iterating over training batches:   0%|          | 0/10 [00:00<?, ?it/s]"
      ]
     },
     "metadata": {},
     "output_type": "display_data"
    },
    {
     "data": {
      "application/vnd.jupyter.widget-view+json": {
       "model_id": "eaf9f79cc1384ddca4ce7fa7e74ad735",
       "version_major": 2,
       "version_minor": 0
      },
      "text/plain": [
       "Iterating over validation batches:   0%|          | 0/39 [00:00<?, ?it/s]"
      ]
     },
     "metadata": {},
     "output_type": "display_data"
    },
    {
     "data": {
      "application/vnd.jupyter.widget-view+json": {
       "model_id": "7144e63472f64498b0c1d4f83de49bc2",
       "version_major": 2,
       "version_minor": 0
      },
      "text/plain": [
       "Iterating over training batches:   0%|          | 0/10 [00:00<?, ?it/s]"
      ]
     },
     "metadata": {},
     "output_type": "display_data"
    },
    {
     "data": {
      "application/vnd.jupyter.widget-view+json": {
       "model_id": "8846937c43e54a5ba303a9a6bba4a897",
       "version_major": 2,
       "version_minor": 0
      },
      "text/plain": [
       "Iterating over validation batches:   0%|          | 0/39 [00:00<?, ?it/s]"
      ]
     },
     "metadata": {},
     "output_type": "display_data"
    },
    {
     "data": {
      "application/vnd.jupyter.widget-view+json": {
       "model_id": "bf073be852a9458ebc14955e6ebed9b7",
       "version_major": 2,
       "version_minor": 0
      },
      "text/plain": [
       "Iterating over training batches:   0%|          | 0/10 [00:00<?, ?it/s]"
      ]
     },
     "metadata": {},
     "output_type": "display_data"
    },
    {
     "data": {
      "application/vnd.jupyter.widget-view+json": {
       "model_id": "3f6c720f3b714c5e9fc91d48b33a5cc9",
       "version_major": 2,
       "version_minor": 0
      },
      "text/plain": [
       "Iterating over validation batches:   0%|          | 0/39 [00:00<?, ?it/s]"
      ]
     },
     "metadata": {},
     "output_type": "display_data"
    },
    {
     "data": {
      "application/vnd.jupyter.widget-view+json": {
       "model_id": "6022a926c9244b6296b40f9dd40c3c88",
       "version_major": 2,
       "version_minor": 0
      },
      "text/plain": [
       "Iterating over training batches:   0%|          | 0/10 [00:00<?, ?it/s]"
      ]
     },
     "metadata": {},
     "output_type": "display_data"
    },
    {
     "data": {
      "application/vnd.jupyter.widget-view+json": {
       "model_id": "84217b4bef8446e4a2200330b17593f4",
       "version_major": 2,
       "version_minor": 0
      },
      "text/plain": [
       "Iterating over validation batches:   0%|          | 0/39 [00:00<?, ?it/s]"
      ]
     },
     "metadata": {},
     "output_type": "display_data"
    },
    {
     "data": {
      "application/vnd.jupyter.widget-view+json": {
       "model_id": "9138aed2a80940e9a39e1b716f7a8c83",
       "version_major": 2,
       "version_minor": 0
      },
      "text/plain": [
       "Iterating over training batches:   0%|          | 0/10 [00:00<?, ?it/s]"
      ]
     },
     "metadata": {},
     "output_type": "display_data"
    },
    {
     "data": {
      "application/vnd.jupyter.widget-view+json": {
       "model_id": "66ed9aa32c4e4815ac4ab3425e903cef",
       "version_major": 2,
       "version_minor": 0
      },
      "text/plain": [
       "Iterating over validation batches:   0%|          | 0/39 [00:00<?, ?it/s]"
      ]
     },
     "metadata": {},
     "output_type": "display_data"
    },
    {
     "data": {
      "application/vnd.jupyter.widget-view+json": {
       "model_id": "40c822bac8164d81819f5139b1a3ce3f",
       "version_major": 2,
       "version_minor": 0
      },
      "text/plain": [
       "Iterating over training batches:   0%|          | 0/10 [00:00<?, ?it/s]"
      ]
     },
     "metadata": {},
     "output_type": "display_data"
    },
    {
     "data": {
      "application/vnd.jupyter.widget-view+json": {
       "model_id": "796b06318b084d86af4b1a7a887b6ec2",
       "version_major": 2,
       "version_minor": 0
      },
      "text/plain": [
       "Iterating over validation batches:   0%|          | 0/39 [00:00<?, ?it/s]"
      ]
     },
     "metadata": {},
     "output_type": "display_data"
    },
    {
     "data": {
      "application/vnd.jupyter.widget-view+json": {
       "model_id": "bdff5eefab7d4d5bb7d4aed488534569",
       "version_major": 2,
       "version_minor": 0
      },
      "text/plain": [
       "Iterating over training batches:   0%|          | 0/10 [00:00<?, ?it/s]"
      ]
     },
     "metadata": {},
     "output_type": "display_data"
    },
    {
     "data": {
      "application/vnd.jupyter.widget-view+json": {
       "model_id": "fd7a81c7d8964ea48729bf957b038f65",
       "version_major": 2,
       "version_minor": 0
      },
      "text/plain": [
       "Iterating over validation batches:   0%|          | 0/39 [00:00<?, ?it/s]"
      ]
     },
     "metadata": {},
     "output_type": "display_data"
    },
    {
     "data": {
      "application/vnd.jupyter.widget-view+json": {
       "model_id": "563a779d63ff4d638b0bad1887e7ceb8",
       "version_major": 2,
       "version_minor": 0
      },
      "text/plain": [
       "Iterating over training batches:   0%|          | 0/10 [00:00<?, ?it/s]"
      ]
     },
     "metadata": {},
     "output_type": "display_data"
    },
    {
     "data": {
      "application/vnd.jupyter.widget-view+json": {
       "model_id": "8a6489f390d842ccacfdc597d4b50c10",
       "version_major": 2,
       "version_minor": 0
      },
      "text/plain": [
       "Iterating over validation batches:   0%|          | 0/39 [00:00<?, ?it/s]"
      ]
     },
     "metadata": {},
     "output_type": "display_data"
    },
    {
     "data": {
      "application/vnd.jupyter.widget-view+json": {
       "model_id": "9f1ed4d587cd4c58be4fe4e6a870aff9",
       "version_major": 2,
       "version_minor": 0
      },
      "text/plain": [
       "Iterating over training batches:   0%|          | 0/10 [00:00<?, ?it/s]"
      ]
     },
     "metadata": {},
     "output_type": "display_data"
    },
    {
     "data": {
      "application/vnd.jupyter.widget-view+json": {
       "model_id": "4742609e8fa74862b2691ce279c41d47",
       "version_major": 2,
       "version_minor": 0
      },
      "text/plain": [
       "Iterating over validation batches:   0%|          | 0/39 [00:00<?, ?it/s]"
      ]
     },
     "metadata": {},
     "output_type": "display_data"
    },
    {
     "data": {
      "application/vnd.jupyter.widget-view+json": {
       "model_id": "4a78c77314684861856145e9751ab07a",
       "version_major": 2,
       "version_minor": 0
      },
      "text/plain": [
       "Iterating over training batches:   0%|          | 0/10 [00:00<?, ?it/s]"
      ]
     },
     "metadata": {},
     "output_type": "display_data"
    },
    {
     "data": {
      "application/vnd.jupyter.widget-view+json": {
       "model_id": "45a3e2370d6b446b853f11d58ca9554f",
       "version_major": 2,
       "version_minor": 0
      },
      "text/plain": [
       "Iterating over validation batches:   0%|          | 0/39 [00:00<?, ?it/s]"
      ]
     },
     "metadata": {},
     "output_type": "display_data"
    },
    {
     "data": {
      "application/vnd.jupyter.widget-view+json": {
       "model_id": "171947984f8d4dda8bbc1056cb61c4ef",
       "version_major": 2,
       "version_minor": 0
      },
      "text/plain": [
       "Iterating over training batches:   0%|          | 0/10 [00:00<?, ?it/s]"
      ]
     },
     "metadata": {},
     "output_type": "display_data"
    },
    {
     "data": {
      "application/vnd.jupyter.widget-view+json": {
       "model_id": "ce7841abfacb4d1e9b87dd573169135e",
       "version_major": 2,
       "version_minor": 0
      },
      "text/plain": [
       "Iterating over validation batches:   0%|          | 0/39 [00:00<?, ?it/s]"
      ]
     },
     "metadata": {},
     "output_type": "display_data"
    },
    {
     "data": {
      "application/vnd.jupyter.widget-view+json": {
       "model_id": "c93be8db5c40478e91e1729d4beda875",
       "version_major": 2,
       "version_minor": 0
      },
      "text/plain": [
       "Iterating over training batches:   0%|          | 0/10 [00:00<?, ?it/s]"
      ]
     },
     "metadata": {},
     "output_type": "display_data"
    },
    {
     "data": {
      "application/vnd.jupyter.widget-view+json": {
       "model_id": "4e0f8c70c78e4bffb0b51c9236d98dc5",
       "version_major": 2,
       "version_minor": 0
      },
      "text/plain": [
       "Iterating over validation batches:   0%|          | 0/39 [00:00<?, ?it/s]"
      ]
     },
     "metadata": {},
     "output_type": "display_data"
    },
    {
     "data": {
      "application/vnd.jupyter.widget-view+json": {
       "model_id": "1775894c6a334c89bfc0f83c623d61a8",
       "version_major": 2,
       "version_minor": 0
      },
      "text/plain": [
       "Iterating over training batches:   0%|          | 0/10 [00:00<?, ?it/s]"
      ]
     },
     "metadata": {},
     "output_type": "display_data"
    },
    {
     "data": {
      "application/vnd.jupyter.widget-view+json": {
       "model_id": "c60f2c14e8c645d88a90ba05512d2542",
       "version_major": 2,
       "version_minor": 0
      },
      "text/plain": [
       "Iterating over validation batches:   0%|          | 0/39 [00:00<?, ?it/s]"
      ]
     },
     "metadata": {},
     "output_type": "display_data"
    },
    {
     "data": {
      "application/vnd.jupyter.widget-view+json": {
       "model_id": "ae586f84722e46768e9266267290936c",
       "version_major": 2,
       "version_minor": 0
      },
      "text/plain": [
       "Iterating over training batches:   0%|          | 0/10 [00:00<?, ?it/s]"
      ]
     },
     "metadata": {},
     "output_type": "display_data"
    },
    {
     "data": {
      "application/vnd.jupyter.widget-view+json": {
       "model_id": "d754943fd13d4f63842ec7801e018381",
       "version_major": 2,
       "version_minor": 0
      },
      "text/plain": [
       "Iterating over validation batches:   0%|          | 0/39 [00:00<?, ?it/s]"
      ]
     },
     "metadata": {},
     "output_type": "display_data"
    },
    {
     "data": {
      "application/vnd.jupyter.widget-view+json": {
       "model_id": "8bd31e3a79604e8bb10087d60d1df4b8",
       "version_major": 2,
       "version_minor": 0
      },
      "text/plain": [
       "Iterating over training batches:   0%|          | 0/10 [00:00<?, ?it/s]"
      ]
     },
     "metadata": {},
     "output_type": "display_data"
    },
    {
     "data": {
      "application/vnd.jupyter.widget-view+json": {
       "model_id": "1ad04294f54f4e31b11286796da9f74b",
       "version_major": 2,
       "version_minor": 0
      },
      "text/plain": [
       "Iterating over validation batches:   0%|          | 0/39 [00:00<?, ?it/s]"
      ]
     },
     "metadata": {},
     "output_type": "display_data"
    },
    {
     "data": {
      "application/vnd.jupyter.widget-view+json": {
       "model_id": "49a5d7fadcf04dd8a8f23afde17809f6",
       "version_major": 2,
       "version_minor": 0
      },
      "text/plain": [
       "Iterating over training batches:   0%|          | 0/10 [00:00<?, ?it/s]"
      ]
     },
     "metadata": {},
     "output_type": "display_data"
    },
    {
     "data": {
      "application/vnd.jupyter.widget-view+json": {
       "model_id": "c06fa7053be3407f82b3508635576417",
       "version_major": 2,
       "version_minor": 0
      },
      "text/plain": [
       "Iterating over validation batches:   0%|          | 0/39 [00:00<?, ?it/s]"
      ]
     },
     "metadata": {},
     "output_type": "display_data"
    },
    {
     "data": {
      "application/vnd.jupyter.widget-view+json": {
       "model_id": "73e6c8bd3a9b485a93ed0efd15106fa6",
       "version_major": 2,
       "version_minor": 0
      },
      "text/plain": [
       "Iterating over training batches:   0%|          | 0/10 [00:00<?, ?it/s]"
      ]
     },
     "metadata": {},
     "output_type": "display_data"
    },
    {
     "data": {
      "application/vnd.jupyter.widget-view+json": {
       "model_id": "f5cb38e1a396485ebf1c4ca386d59a51",
       "version_major": 2,
       "version_minor": 0
      },
      "text/plain": [
       "Iterating over validation batches:   0%|          | 0/39 [00:00<?, ?it/s]"
      ]
     },
     "metadata": {},
     "output_type": "display_data"
    },
    {
     "data": {
      "application/vnd.jupyter.widget-view+json": {
       "model_id": "d2be949f825b4ac9b39391d75708159a",
       "version_major": 2,
       "version_minor": 0
      },
      "text/plain": [
       "Iterating over training batches:   0%|          | 0/10 [00:00<?, ?it/s]"
      ]
     },
     "metadata": {},
     "output_type": "display_data"
    },
    {
     "data": {
      "application/vnd.jupyter.widget-view+json": {
       "model_id": "f9aedadb5f7b44d8823c6ca2f2e92d5e",
       "version_major": 2,
       "version_minor": 0
      },
      "text/plain": [
       "Iterating over validation batches:   0%|          | 0/39 [00:00<?, ?it/s]"
      ]
     },
     "metadata": {},
     "output_type": "display_data"
    },
    {
     "data": {
      "application/vnd.jupyter.widget-view+json": {
       "model_id": "b5f8e61c2a8b40aa9736e9b54d936f9d",
       "version_major": 2,
       "version_minor": 0
      },
      "text/plain": [
       "Iterating over training batches:   0%|          | 0/10 [00:00<?, ?it/s]"
      ]
     },
     "metadata": {},
     "output_type": "display_data"
    },
    {
     "data": {
      "application/vnd.jupyter.widget-view+json": {
       "model_id": "ba6f7f758b1744c7bc73b1dec8192a38",
       "version_major": 2,
       "version_minor": 0
      },
      "text/plain": [
       "Iterating over validation batches:   0%|          | 0/39 [00:00<?, ?it/s]"
      ]
     },
     "metadata": {},
     "output_type": "display_data"
    },
    {
     "data": {
      "application/vnd.jupyter.widget-view+json": {
       "model_id": "e439999567694cd6a624961822448134",
       "version_major": 2,
       "version_minor": 0
      },
      "text/plain": [
       "Iterating over training batches:   0%|          | 0/10 [00:00<?, ?it/s]"
      ]
     },
     "metadata": {},
     "output_type": "display_data"
    },
    {
     "data": {
      "application/vnd.jupyter.widget-view+json": {
       "model_id": "bd4ea378ae4c4bd981c6de9ebe948ea8",
       "version_major": 2,
       "version_minor": 0
      },
      "text/plain": [
       "Iterating over validation batches:   0%|          | 0/39 [00:00<?, ?it/s]"
      ]
     },
     "metadata": {},
     "output_type": "display_data"
    },
    {
     "data": {
      "application/vnd.jupyter.widget-view+json": {
       "model_id": "97562a35b0d0464f8c1e606fc96c6682",
       "version_major": 2,
       "version_minor": 0
      },
      "text/plain": [
       "Iterating over training batches:   0%|          | 0/10 [00:00<?, ?it/s]"
      ]
     },
     "metadata": {},
     "output_type": "display_data"
    },
    {
     "data": {
      "application/vnd.jupyter.widget-view+json": {
       "model_id": "b9ca11e29aef4feb94218e9ad21979b2",
       "version_major": 2,
       "version_minor": 0
      },
      "text/plain": [
       "Iterating over validation batches:   0%|          | 0/39 [00:00<?, ?it/s]"
      ]
     },
     "metadata": {},
     "output_type": "display_data"
    },
    {
     "data": {
      "application/vnd.jupyter.widget-view+json": {
       "model_id": "341e2083f0e846f8ba0eac82705df617",
       "version_major": 2,
       "version_minor": 0
      },
      "text/plain": [
       "Iterating over training batches:   0%|          | 0/10 [00:00<?, ?it/s]"
      ]
     },
     "metadata": {},
     "output_type": "display_data"
    },
    {
     "data": {
      "application/vnd.jupyter.widget-view+json": {
       "model_id": "1049c94cae944a91b7b6168a20af1f43",
       "version_major": 2,
       "version_minor": 0
      },
      "text/plain": [
       "Iterating over validation batches:   0%|          | 0/39 [00:00<?, ?it/s]"
      ]
     },
     "metadata": {},
     "output_type": "display_data"
    },
    {
     "data": {
      "application/vnd.jupyter.widget-view+json": {
       "model_id": "d8133ab9165e415499c203fdc2323670",
       "version_major": 2,
       "version_minor": 0
      },
      "text/plain": [
       "Iterating over training batches:   0%|          | 0/10 [00:00<?, ?it/s]"
      ]
     },
     "metadata": {},
     "output_type": "display_data"
    },
    {
     "data": {
      "application/vnd.jupyter.widget-view+json": {
       "model_id": "d65a3be2572e4f14a1492d2361b53df4",
       "version_major": 2,
       "version_minor": 0
      },
      "text/plain": [
       "Iterating over validation batches:   0%|          | 0/39 [00:00<?, ?it/s]"
      ]
     },
     "metadata": {},
     "output_type": "display_data"
    },
    {
     "data": {
      "application/vnd.jupyter.widget-view+json": {
       "model_id": "61b26a85723940fc93ba86473f192d26",
       "version_major": 2,
       "version_minor": 0
      },
      "text/plain": [
       "Iterating over training batches:   0%|          | 0/10 [00:00<?, ?it/s]"
      ]
     },
     "metadata": {},
     "output_type": "display_data"
    },
    {
     "data": {
      "application/vnd.jupyter.widget-view+json": {
       "model_id": "eb764e9720e7424b9934bf8a2f93c042",
       "version_major": 2,
       "version_minor": 0
      },
      "text/plain": [
       "Iterating over validation batches:   0%|          | 0/39 [00:00<?, ?it/s]"
      ]
     },
     "metadata": {},
     "output_type": "display_data"
    },
    {
     "data": {
      "application/vnd.jupyter.widget-view+json": {
       "model_id": "b64f218aa74b4114a02d3a8b083efaea",
       "version_major": 2,
       "version_minor": 0
      },
      "text/plain": [
       "Iterating over training batches:   0%|          | 0/10 [00:00<?, ?it/s]"
      ]
     },
     "metadata": {},
     "output_type": "display_data"
    },
    {
     "data": {
      "application/vnd.jupyter.widget-view+json": {
       "model_id": "92557b69035644d9bc7b837de51e916c",
       "version_major": 2,
       "version_minor": 0
      },
      "text/plain": [
       "Iterating over training batches:   0%|          | 0/10 [00:00<?, ?it/s]"
      ]
     },
     "metadata": {},
     "output_type": "display_data"
    },
    {
     "data": {
      "application/vnd.jupyter.widget-view+json": {
       "model_id": "34300636f9fb451fa530329e02768991",
       "version_major": 2,
       "version_minor": 0
      },
      "text/plain": [
       "Iterating over validation batches:   0%|          | 0/39 [00:00<?, ?it/s]"
      ]
     },
     "metadata": {},
     "output_type": "display_data"
    },
    {
     "data": {
      "application/vnd.jupyter.widget-view+json": {
       "model_id": "46b6234d4306498ea2334d751cb93994",
       "version_major": 2,
       "version_minor": 0
      },
      "text/plain": [
       "Iterating over training batches:   0%|          | 0/10 [00:00<?, ?it/s]"
      ]
     },
     "metadata": {},
     "output_type": "display_data"
    },
    {
     "data": {
      "application/vnd.jupyter.widget-view+json": {
       "model_id": "14b9406ee8e34383b1db8a57d8a77770",
       "version_major": 2,
       "version_minor": 0
      },
      "text/plain": [
       "Iterating over validation batches:   0%|          | 0/39 [00:00<?, ?it/s]"
      ]
     },
     "metadata": {},
     "output_type": "display_data"
    },
    {
     "data": {
      "application/vnd.jupyter.widget-view+json": {
       "model_id": "5a76c4d17a744d2ca1b19f54b9a15033",
       "version_major": 2,
       "version_minor": 0
      },
      "text/plain": [
       "Iterating over training batches:   0%|          | 0/10 [00:00<?, ?it/s]"
      ]
     },
     "metadata": {},
     "output_type": "display_data"
    },
    {
     "data": {
      "application/vnd.jupyter.widget-view+json": {
       "model_id": "9f8760d0afba488aa7487c4b34722eb5",
       "version_major": 2,
       "version_minor": 0
      },
      "text/plain": [
       "Iterating over validation batches:   0%|          | 0/39 [00:00<?, ?it/s]"
      ]
     },
     "metadata": {},
     "output_type": "display_data"
    },
    {
     "data": {
      "application/vnd.jupyter.widget-view+json": {
       "model_id": "f1404f8fc3f048efbc55799edbe61d5f",
       "version_major": 2,
       "version_minor": 0
      },
      "text/plain": [
       "Iterating over training batches:   0%|          | 0/10 [00:00<?, ?it/s]"
      ]
     },
     "metadata": {},
     "output_type": "display_data"
    },
    {
     "data": {
      "application/vnd.jupyter.widget-view+json": {
       "model_id": "aa940924887c4e48a29b274a76fe36fd",
       "version_major": 2,
       "version_minor": 0
      },
      "text/plain": [
       "Iterating over validation batches:   0%|          | 0/39 [00:00<?, ?it/s]"
      ]
     },
     "metadata": {},
     "output_type": "display_data"
    },
    {
     "data": {
      "application/vnd.jupyter.widget-view+json": {
       "model_id": "cfbfe4a967224dcf9c71bda0d273efbe",
       "version_major": 2,
       "version_minor": 0
      },
      "text/plain": [
       "Iterating over training batches:   0%|          | 0/10 [00:00<?, ?it/s]"
      ]
     },
     "metadata": {},
     "output_type": "display_data"
    },
    {
     "data": {
      "application/vnd.jupyter.widget-view+json": {
       "model_id": "0ca68e87c70649d7b73f33106224e451",
       "version_major": 2,
       "version_minor": 0
      },
      "text/plain": [
       "Iterating over validation batches:   0%|          | 0/39 [00:00<?, ?it/s]"
      ]
     },
     "metadata": {},
     "output_type": "display_data"
    },
    {
     "data": {
      "application/vnd.jupyter.widget-view+json": {
       "model_id": "8922115fb45a4863bd26ab6fca11d092",
       "version_major": 2,
       "version_minor": 0
      },
      "text/plain": [
       "Iterating over training batches:   0%|          | 0/10 [00:00<?, ?it/s]"
      ]
     },
     "metadata": {},
     "output_type": "display_data"
    },
    {
     "data": {
      "application/vnd.jupyter.widget-view+json": {
       "model_id": "e377985ab7004a98bc44fffa0259ba0d",
       "version_major": 2,
       "version_minor": 0
      },
      "text/plain": [
       "Iterating over validation batches:   0%|          | 0/39 [00:00<?, ?it/s]"
      ]
     },
     "metadata": {},
     "output_type": "display_data"
    },
    {
     "data": {
      "application/vnd.jupyter.widget-view+json": {
       "model_id": "eb0369975282401cb4712d7cf4218676",
       "version_major": 2,
       "version_minor": 0
      },
      "text/plain": [
       "Iterating over training batches:   0%|          | 0/10 [00:00<?, ?it/s]"
      ]
     },
     "metadata": {},
     "output_type": "display_data"
    },
    {
     "data": {
      "application/vnd.jupyter.widget-view+json": {
       "model_id": "7ad372d21cc84f218675b2a0a660ef99",
       "version_major": 2,
       "version_minor": 0
      },
      "text/plain": [
       "Iterating over validation batches:   0%|          | 0/39 [00:00<?, ?it/s]"
      ]
     },
     "metadata": {},
     "output_type": "display_data"
    },
    {
     "data": {
      "application/vnd.jupyter.widget-view+json": {
       "model_id": "7febad165c8c4637a2f920a49ed68c76",
       "version_major": 2,
       "version_minor": 0
      },
      "text/plain": [
       "Iterating over training batches:   0%|          | 0/10 [00:00<?, ?it/s]"
      ]
     },
     "metadata": {},
     "output_type": "display_data"
    },
    {
     "data": {
      "application/vnd.jupyter.widget-view+json": {
       "model_id": "d009cab16c9b49f0b55018e4c07e7aca",
       "version_major": 2,
       "version_minor": 0
      },
      "text/plain": [
       "Iterating over validation batches:   0%|          | 0/39 [00:00<?, ?it/s]"
      ]
     },
     "metadata": {},
     "output_type": "display_data"
    },
    {
     "data": {
      "application/vnd.jupyter.widget-view+json": {
       "model_id": "02488f22cacf49099874b1757ba16c5a",
       "version_major": 2,
       "version_minor": 0
      },
      "text/plain": [
       "Iterating over training batches:   0%|          | 0/10 [00:00<?, ?it/s]"
      ]
     },
     "metadata": {},
     "output_type": "display_data"
    },
    {
     "data": {
      "application/vnd.jupyter.widget-view+json": {
       "model_id": "0f80275c18e34705a6a0a5544050cb6b",
       "version_major": 2,
       "version_minor": 0
      },
      "text/plain": [
       "Iterating over validation batches:   0%|          | 0/39 [00:00<?, ?it/s]"
      ]
     },
     "metadata": {},
     "output_type": "display_data"
    },
    {
     "data": {
      "application/vnd.jupyter.widget-view+json": {
       "model_id": "93fc7d7c9ab6467c8b447ce0596d0dae",
       "version_major": 2,
       "version_minor": 0
      },
      "text/plain": [
       "Iterating over training batches:   0%|          | 0/10 [00:00<?, ?it/s]"
      ]
     },
     "metadata": {},
     "output_type": "display_data"
    },
    {
     "data": {
      "application/vnd.jupyter.widget-view+json": {
       "model_id": "1578f203c85e4f0c958f343bcf05352e",
       "version_major": 2,
       "version_minor": 0
      },
      "text/plain": [
       "Iterating over validation batches:   0%|          | 0/39 [00:00<?, ?it/s]"
      ]
     },
     "metadata": {},
     "output_type": "display_data"
    },
    {
     "data": {
      "application/vnd.jupyter.widget-view+json": {
       "model_id": "9ec88ca517324b1c82a72bc6f1f1cdd7",
       "version_major": 2,
       "version_minor": 0
      },
      "text/plain": [
       "Iterating over training batches:   0%|          | 0/10 [00:00<?, ?it/s]"
      ]
     },
     "metadata": {},
     "output_type": "display_data"
    },
    {
     "data": {
      "application/vnd.jupyter.widget-view+json": {
       "model_id": "41095f1b4dbf4f43b7d2792b7cb28a35",
       "version_major": 2,
       "version_minor": 0
      },
      "text/plain": [
       "Iterating over validation batches:   0%|          | 0/39 [00:00<?, ?it/s]"
      ]
     },
     "metadata": {},
     "output_type": "display_data"
    },
    {
     "data": {
      "application/vnd.jupyter.widget-view+json": {
       "model_id": "241a0c39939d4e0387051873a087413a",
       "version_major": 2,
       "version_minor": 0
      },
      "text/plain": [
       "Iterating over training batches:   0%|          | 0/10 [00:00<?, ?it/s]"
      ]
     },
     "metadata": {},
     "output_type": "display_data"
    },
    {
     "data": {
      "application/vnd.jupyter.widget-view+json": {
       "model_id": "3843522a232647fab1a78e336790faf4",
       "version_major": 2,
       "version_minor": 0
      },
      "text/plain": [
       "Iterating over validation batches:   0%|          | 0/39 [00:00<?, ?it/s]"
      ]
     },
     "metadata": {},
     "output_type": "display_data"
    },
    {
     "data": {
      "application/vnd.jupyter.widget-view+json": {
       "model_id": "0489c4ae278a4721a63e9dd6113208f2",
       "version_major": 2,
       "version_minor": 0
      },
      "text/plain": [
       "Iterating over training batches:   0%|          | 0/10 [00:00<?, ?it/s]"
      ]
     },
     "metadata": {},
     "output_type": "display_data"
    },
    {
     "data": {
      "application/vnd.jupyter.widget-view+json": {
       "model_id": "4001c66560e74d94a83ba6ccdba42982",
       "version_major": 2,
       "version_minor": 0
      },
      "text/plain": [
       "Iterating over validation batches:   0%|          | 0/39 [00:00<?, ?it/s]"
      ]
     },
     "metadata": {},
     "output_type": "display_data"
    },
    {
     "data": {
      "application/vnd.jupyter.widget-view+json": {
       "model_id": "bd3b00afb8824d849907d00759622fda",
       "version_major": 2,
       "version_minor": 0
      },
      "text/plain": [
       "Iterating over training batches:   0%|          | 0/10 [00:00<?, ?it/s]"
      ]
     },
     "metadata": {},
     "output_type": "display_data"
    },
    {
     "data": {
      "application/vnd.jupyter.widget-view+json": {
       "model_id": "612879f3a5de416ebd395794c5d126e8",
       "version_major": 2,
       "version_minor": 0
      },
      "text/plain": [
       "Iterating over validation batches:   0%|          | 0/39 [00:00<?, ?it/s]"
      ]
     },
     "metadata": {},
     "output_type": "display_data"
    },
    {
     "data": {
      "application/vnd.jupyter.widget-view+json": {
       "model_id": "1c515109b47c46cca66653a59e439749",
       "version_major": 2,
       "version_minor": 0
      },
      "text/plain": [
       "Iterating over training batches:   0%|          | 0/10 [00:00<?, ?it/s]"
      ]
     },
     "metadata": {},
     "output_type": "display_data"
    },
    {
     "data": {
      "application/vnd.jupyter.widget-view+json": {
       "model_id": "e0890f2abafc4f06b6b595eb2cd4219f",
       "version_major": 2,
       "version_minor": 0
      },
      "text/plain": [
       "Iterating over validation batches:   0%|          | 0/39 [00:00<?, ?it/s]"
      ]
     },
     "metadata": {},
     "output_type": "display_data"
    },
    {
     "data": {
      "application/vnd.jupyter.widget-view+json": {
       "model_id": "0e25d0733fed42b38c2cffd7fddfca9d",
       "version_major": 2,
       "version_minor": 0
      },
      "text/plain": [
       "Iterating over training batches:   0%|          | 0/10 [00:00<?, ?it/s]"
      ]
     },
     "metadata": {},
     "output_type": "display_data"
    },
    {
     "data": {
      "application/vnd.jupyter.widget-view+json": {
       "model_id": "0cdd84c1a9844a1b85da72fc1183399f",
       "version_major": 2,
       "version_minor": 0
      },
      "text/plain": [
       "Iterating over validation batches:   0%|          | 0/39 [00:00<?, ?it/s]"
      ]
     },
     "metadata": {},
     "output_type": "display_data"
    },
    {
     "data": {
      "application/vnd.jupyter.widget-view+json": {
       "model_id": "5f0d80b20a1443c39f39bb9991d66e91",
       "version_major": 2,
       "version_minor": 0
      },
      "text/plain": [
       "Iterating over training batches:   0%|          | 0/10 [00:00<?, ?it/s]"
      ]
     },
     "metadata": {},
     "output_type": "display_data"
    },
    {
     "data": {
      "application/vnd.jupyter.widget-view+json": {
       "model_id": "aa0d8e1ac3384c0a8ae1bebec2114de0",
       "version_major": 2,
       "version_minor": 0
      },
      "text/plain": [
       "Iterating over validation batches:   0%|          | 0/39 [00:00<?, ?it/s]"
      ]
     },
     "metadata": {},
     "output_type": "display_data"
    },
    {
     "data": {
      "application/vnd.jupyter.widget-view+json": {
       "model_id": "b157736f8ae64ffa8a11f1ad2cd6ef76",
       "version_major": 2,
       "version_minor": 0
      },
      "text/plain": [
       "Iterating over training batches:   0%|          | 0/10 [00:00<?, ?it/s]"
      ]
     },
     "metadata": {},
     "output_type": "display_data"
    },
    {
     "data": {
      "application/vnd.jupyter.widget-view+json": {
       "model_id": "74959a79b29f479383823e79d809c3bc",
       "version_major": 2,
       "version_minor": 0
      },
      "text/plain": [
       "Iterating over validation batches:   0%|          | 0/39 [00:00<?, ?it/s]"
      ]
     },
     "metadata": {},
     "output_type": "display_data"
    },
    {
     "data": {
      "application/vnd.jupyter.widget-view+json": {
       "model_id": "e89ef78cf4284e8bbff9b96b5794c05f",
       "version_major": 2,
       "version_minor": 0
      },
      "text/plain": [
       "Iterating over training batches:   0%|          | 0/10 [00:00<?, ?it/s]"
      ]
     },
     "metadata": {},
     "output_type": "display_data"
    },
    {
     "name": "stderr",
     "output_type": "stream",
     "text": [
      "IOPub message rate exceeded.\n",
      "The Jupyter server will temporarily stop sending output\n",
      "to the client in order to avoid crashing it.\n",
      "To change this limit, set the config variable\n",
      "`--ServerApp.iopub_msg_rate_limit`.\n",
      "\n",
      "Current values:\n",
      "ServerApp.iopub_msg_rate_limit=1000.0 (msgs/sec)\n",
      "ServerApp.rate_limit_window=3.0 (secs)\n",
      "\n"
     ]
    },
    {
     "data": {
      "application/vnd.jupyter.widget-view+json": {
       "model_id": "01c292f9ca7c4b06bbb80e3bb0c10a99",
       "version_major": 2,
       "version_minor": 0
      },
      "text/plain": [
       "Iterating over validation batches:   0%|          | 0/39 [00:00<?, ?it/s]"
      ]
     },
     "metadata": {},
     "output_type": "display_data"
    },
    {
     "data": {
      "application/vnd.jupyter.widget-view+json": {
       "model_id": "f64113d6e3ed4e43910cde4b58c4eec4",
       "version_major": 2,
       "version_minor": 0
      },
      "text/plain": [
       "Iterating over training batches:   0%|          | 0/10 [00:00<?, ?it/s]"
      ]
     },
     "metadata": {},
     "output_type": "display_data"
    },
    {
     "data": {
      "application/vnd.jupyter.widget-view+json": {
       "model_id": "6fd426c2049e4a07a4a2e1c565cd12a0",
       "version_major": 2,
       "version_minor": 0
      },
      "text/plain": [
       "Iterating over validation batches:   0%|          | 0/39 [00:00<?, ?it/s]"
      ]
     },
     "metadata": {},
     "output_type": "display_data"
    },
    {
     "data": {
      "application/vnd.jupyter.widget-view+json": {
       "model_id": "282a4509fa3942c88c2dc7aa33b0cb5d",
       "version_major": 2,
       "version_minor": 0
      },
      "text/plain": [
       "Iterating over training batches:   0%|          | 0/10 [00:00<?, ?it/s]"
      ]
     },
     "metadata": {},
     "output_type": "display_data"
    },
    {
     "data": {
      "application/vnd.jupyter.widget-view+json": {
       "model_id": "140a77c5a351488c9a2c76174739efef",
       "version_major": 2,
       "version_minor": 0
      },
      "text/plain": [
       "Iterating over validation batches:   0%|          | 0/39 [00:00<?, ?it/s]"
      ]
     },
     "metadata": {},
     "output_type": "display_data"
    },
    {
     "data": {
      "application/vnd.jupyter.widget-view+json": {
       "model_id": "bfec260fdcbf43eb89d4f5ac8735f9fb",
       "version_major": 2,
       "version_minor": 0
      },
      "text/plain": [
       "Iterating over training batches:   0%|          | 0/10 [00:00<?, ?it/s]"
      ]
     },
     "metadata": {},
     "output_type": "display_data"
    },
    {
     "data": {
      "application/vnd.jupyter.widget-view+json": {
       "model_id": "772610e15a78453f86e9fb4de9e78f29",
       "version_major": 2,
       "version_minor": 0
      },
      "text/plain": [
       "Iterating over validation batches:   0%|          | 0/39 [00:00<?, ?it/s]"
      ]
     },
     "metadata": {},
     "output_type": "display_data"
    },
    {
     "data": {
      "application/vnd.jupyter.widget-view+json": {
       "model_id": "88c32f8c4d23427b85f7dd77a26b2303",
       "version_major": 2,
       "version_minor": 0
      },
      "text/plain": [
       "Iterating over training batches:   0%|          | 0/10 [00:00<?, ?it/s]"
      ]
     },
     "metadata": {},
     "output_type": "display_data"
    },
    {
     "data": {
      "application/vnd.jupyter.widget-view+json": {
       "model_id": "50bdf28b9a4c42f8b3da8f862fcc3028",
       "version_major": 2,
       "version_minor": 0
      },
      "text/plain": [
       "Iterating over validation batches:   0%|          | 0/39 [00:00<?, ?it/s]"
      ]
     },
     "metadata": {},
     "output_type": "display_data"
    },
    {
     "data": {
      "application/vnd.jupyter.widget-view+json": {
       "model_id": "41d8a3b56f6048608fd4bd38935040d3",
       "version_major": 2,
       "version_minor": 0
      },
      "text/plain": [
       "Iterating over training batches:   0%|          | 0/10 [00:00<?, ?it/s]"
      ]
     },
     "metadata": {},
     "output_type": "display_data"
    },
    {
     "data": {
      "application/vnd.jupyter.widget-view+json": {
       "model_id": "c03bd775133142dcbb2961224b475149",
       "version_major": 2,
       "version_minor": 0
      },
      "text/plain": [
       "Iterating over validation batches:   0%|          | 0/39 [00:00<?, ?it/s]"
      ]
     },
     "metadata": {},
     "output_type": "display_data"
    },
    {
     "data": {
      "application/vnd.jupyter.widget-view+json": {
       "model_id": "69b92e9f2a5841919bc0e3c0dcc18c4e",
       "version_major": 2,
       "version_minor": 0
      },
      "text/plain": [
       "Iterating over training batches:   0%|          | 0/10 [00:00<?, ?it/s]"
      ]
     },
     "metadata": {},
     "output_type": "display_data"
    },
    {
     "data": {
      "application/vnd.jupyter.widget-view+json": {
       "model_id": "1db6c3ead9924d0a8ddcc88f90d5e9af",
       "version_major": 2,
       "version_minor": 0
      },
      "text/plain": [
       "Iterating over validation batches:   0%|          | 0/39 [00:00<?, ?it/s]"
      ]
     },
     "metadata": {},
     "output_type": "display_data"
    },
    {
     "data": {
      "application/vnd.jupyter.widget-view+json": {
       "model_id": "5b42e6c971b64790957063d36d1fe3d6",
       "version_major": 2,
       "version_minor": 0
      },
      "text/plain": [
       "Iterating over training batches:   0%|          | 0/10 [00:00<?, ?it/s]"
      ]
     },
     "metadata": {},
     "output_type": "display_data"
    },
    {
     "data": {
      "application/vnd.jupyter.widget-view+json": {
       "model_id": "e517403ef38d48beb6b493bac682b625",
       "version_major": 2,
       "version_minor": 0
      },
      "text/plain": [
       "Iterating over validation batches:   0%|          | 0/39 [00:00<?, ?it/s]"
      ]
     },
     "metadata": {},
     "output_type": "display_data"
    },
    {
     "data": {
      "application/vnd.jupyter.widget-view+json": {
       "model_id": "bc761e94a16a4cc5808fe2b6db6f2af9",
       "version_major": 2,
       "version_minor": 0
      },
      "text/plain": [
       "Iterating over training batches:   0%|          | 0/10 [00:00<?, ?it/s]"
      ]
     },
     "metadata": {},
     "output_type": "display_data"
    },
    {
     "data": {
      "application/vnd.jupyter.widget-view+json": {
       "model_id": "3cb2af876f6747a7a442673bdd63b792",
       "version_major": 2,
       "version_minor": 0
      },
      "text/plain": [
       "Iterating over validation batches:   0%|          | 0/39 [00:00<?, ?it/s]"
      ]
     },
     "metadata": {},
     "output_type": "display_data"
    },
    {
     "data": {
      "application/vnd.jupyter.widget-view+json": {
       "model_id": "6f65c3deae5347f7b447af9ebb975508",
       "version_major": 2,
       "version_minor": 0
      },
      "text/plain": [
       "Iterating over training batches:   0%|          | 0/10 [00:00<?, ?it/s]"
      ]
     },
     "metadata": {},
     "output_type": "display_data"
    },
    {
     "data": {
      "application/vnd.jupyter.widget-view+json": {
       "model_id": "651ee68ef42c4a4780d56373f75b0ba5",
       "version_major": 2,
       "version_minor": 0
      },
      "text/plain": [
       "Iterating over validation batches:   0%|          | 0/39 [00:00<?, ?it/s]"
      ]
     },
     "metadata": {},
     "output_type": "display_data"
    },
    {
     "data": {
      "application/vnd.jupyter.widget-view+json": {
       "model_id": "fa48122000e04a0bbb7f3001ef6a2a70",
       "version_major": 2,
       "version_minor": 0
      },
      "text/plain": [
       "Iterating over training batches:   0%|          | 0/10 [00:00<?, ?it/s]"
      ]
     },
     "metadata": {},
     "output_type": "display_data"
    },
    {
     "data": {
      "application/vnd.jupyter.widget-view+json": {
       "model_id": "81f3e3c88ae14a22864672f2992f29ee",
       "version_major": 2,
       "version_minor": 0
      },
      "text/plain": [
       "Iterating over validation batches:   0%|          | 0/39 [00:00<?, ?it/s]"
      ]
     },
     "metadata": {},
     "output_type": "display_data"
    },
    {
     "data": {
      "application/vnd.jupyter.widget-view+json": {
       "model_id": "af2a9af4bba74027bec8185520d15aa2",
       "version_major": 2,
       "version_minor": 0
      },
      "text/plain": [
       "Iterating over training batches:   0%|          | 0/10 [00:00<?, ?it/s]"
      ]
     },
     "metadata": {},
     "output_type": "display_data"
    },
    {
     "data": {
      "application/vnd.jupyter.widget-view+json": {
       "model_id": "5691917cceda4416b784fc65711a2d08",
       "version_major": 2,
       "version_minor": 0
      },
      "text/plain": [
       "Iterating over validation batches:   0%|          | 0/39 [00:00<?, ?it/s]"
      ]
     },
     "metadata": {},
     "output_type": "display_data"
    },
    {
     "data": {
      "application/vnd.jupyter.widget-view+json": {
       "model_id": "78c2f194d0724b5db158642efbbbc4f7",
       "version_major": 2,
       "version_minor": 0
      },
      "text/plain": [
       "Iterating over training batches:   0%|          | 0/10 [00:00<?, ?it/s]"
      ]
     },
     "metadata": {},
     "output_type": "display_data"
    },
    {
     "data": {
      "application/vnd.jupyter.widget-view+json": {
       "model_id": "3aa01e089ab34abc8701c03fcefbd5bf",
       "version_major": 2,
       "version_minor": 0
      },
      "text/plain": [
       "Iterating over validation batches:   0%|          | 0/39 [00:00<?, ?it/s]"
      ]
     },
     "metadata": {},
     "output_type": "display_data"
    },
    {
     "data": {
      "application/vnd.jupyter.widget-view+json": {
       "model_id": "927a78cadde44bdd9aa03193356a7018",
       "version_major": 2,
       "version_minor": 0
      },
      "text/plain": [
       "Iterating over training batches:   0%|          | 0/10 [00:00<?, ?it/s]"
      ]
     },
     "metadata": {},
     "output_type": "display_data"
    },
    {
     "data": {
      "application/vnd.jupyter.widget-view+json": {
       "model_id": "29f14b811fd34dd3b8d80c495e4846bd",
       "version_major": 2,
       "version_minor": 0
      },
      "text/plain": [
       "Iterating over validation batches:   0%|          | 0/39 [00:00<?, ?it/s]"
      ]
     },
     "metadata": {},
     "output_type": "display_data"
    },
    {
     "data": {
      "application/vnd.jupyter.widget-view+json": {
       "model_id": "b5fbbb2d5e8e4e24a326aa06cb5cee82",
       "version_major": 2,
       "version_minor": 0
      },
      "text/plain": [
       "Iterating over training batches:   0%|          | 0/10 [00:00<?, ?it/s]"
      ]
     },
     "metadata": {},
     "output_type": "display_data"
    },
    {
     "data": {
      "application/vnd.jupyter.widget-view+json": {
       "model_id": "76fde6365f0f48dda125f4161028573c",
       "version_major": 2,
       "version_minor": 0
      },
      "text/plain": [
       "Iterating over validation batches:   0%|          | 0/39 [00:00<?, ?it/s]"
      ]
     },
     "metadata": {},
     "output_type": "display_data"
    },
    {
     "data": {
      "application/vnd.jupyter.widget-view+json": {
       "model_id": "f1e63357f375433ab1fa8a47ee2036f1",
       "version_major": 2,
       "version_minor": 0
      },
      "text/plain": [
       "Iterating over training batches:   0%|          | 0/10 [00:00<?, ?it/s]"
      ]
     },
     "metadata": {},
     "output_type": "display_data"
    },
    {
     "data": {
      "application/vnd.jupyter.widget-view+json": {
       "model_id": "c6fbb605e86c4106a9dc92474884330d",
       "version_major": 2,
       "version_minor": 0
      },
      "text/plain": [
       "Iterating over validation batches:   0%|          | 0/39 [00:00<?, ?it/s]"
      ]
     },
     "metadata": {},
     "output_type": "display_data"
    },
    {
     "data": {
      "application/vnd.jupyter.widget-view+json": {
       "model_id": "a1e4ba78623543ea8e6f3207584003fb",
       "version_major": 2,
       "version_minor": 0
      },
      "text/plain": [
       "Iterating over training batches:   0%|          | 0/10 [00:00<?, ?it/s]"
      ]
     },
     "metadata": {},
     "output_type": "display_data"
    },
    {
     "data": {
      "application/vnd.jupyter.widget-view+json": {
       "model_id": "169830015eb149649fe390d67d08c137",
       "version_major": 2,
       "version_minor": 0
      },
      "text/plain": [
       "Iterating over validation batches:   0%|          | 0/39 [00:00<?, ?it/s]"
      ]
     },
     "metadata": {},
     "output_type": "display_data"
    },
    {
     "data": {
      "application/vnd.jupyter.widget-view+json": {
       "model_id": "e4a94dd51f9c4203b1e916f0965e4375",
       "version_major": 2,
       "version_minor": 0
      },
      "text/plain": [
       "Iterating over training batches:   0%|          | 0/10 [00:00<?, ?it/s]"
      ]
     },
     "metadata": {},
     "output_type": "display_data"
    },
    {
     "data": {
      "application/vnd.jupyter.widget-view+json": {
       "model_id": "2679577990a9440bbcc8072c67e3d867",
       "version_major": 2,
       "version_minor": 0
      },
      "text/plain": [
       "Iterating over validation batches:   0%|          | 0/39 [00:00<?, ?it/s]"
      ]
     },
     "metadata": {},
     "output_type": "display_data"
    },
    {
     "data": {
      "application/vnd.jupyter.widget-view+json": {
       "model_id": "a7c44bee945f4e0b80aac72e98d25b78",
       "version_major": 2,
       "version_minor": 0
      },
      "text/plain": [
       "Iterating over training batches:   0%|          | 0/10 [00:00<?, ?it/s]"
      ]
     },
     "metadata": {},
     "output_type": "display_data"
    },
    {
     "data": {
      "application/vnd.jupyter.widget-view+json": {
       "model_id": "e60cff402af844429d601f23ed941598",
       "version_major": 2,
       "version_minor": 0
      },
      "text/plain": [
       "Iterating over validation batches:   0%|          | 0/39 [00:00<?, ?it/s]"
      ]
     },
     "metadata": {},
     "output_type": "display_data"
    },
    {
     "name": "stderr",
     "output_type": "stream",
     "text": [
      "IOPub message rate exceeded.\n",
      "The Jupyter server will temporarily stop sending output\n",
      "to the client in order to avoid crashing it.\n",
      "To change this limit, set the config variable\n",
      "`--ServerApp.iopub_msg_rate_limit`.\n",
      "\n",
      "Current values:\n",
      "ServerApp.iopub_msg_rate_limit=1000.0 (msgs/sec)\n",
      "ServerApp.rate_limit_window=3.0 (secs)\n",
      "\n"
     ]
    },
    {
     "data": {
      "application/vnd.jupyter.widget-view+json": {
       "model_id": "522b8291499b43b487f3a14525a54111",
       "version_major": 2,
       "version_minor": 0
      },
      "text/plain": [
       "Iterating over training batches:   0%|          | 0/10 [00:00<?, ?it/s]"
      ]
     },
     "metadata": {},
     "output_type": "display_data"
    },
    {
     "data": {
      "application/vnd.jupyter.widget-view+json": {
       "model_id": "4b2f89bc51744ccca2ab616e03a389a0",
       "version_major": 2,
       "version_minor": 0
      },
      "text/plain": [
       "Iterating over validation batches:   0%|          | 0/39 [00:00<?, ?it/s]"
      ]
     },
     "metadata": {},
     "output_type": "display_data"
    },
    {
     "data": {
      "application/vnd.jupyter.widget-view+json": {
       "model_id": "92afcc2c783e4f71996e86a384a13679",
       "version_major": 2,
       "version_minor": 0
      },
      "text/plain": [
       "Iterating over training batches:   0%|          | 0/10 [00:00<?, ?it/s]"
      ]
     },
     "metadata": {},
     "output_type": "display_data"
    },
    {
     "data": {
      "application/vnd.jupyter.widget-view+json": {
       "model_id": "2f9f6482bbac4c85b377a7a27f965edf",
       "version_major": 2,
       "version_minor": 0
      },
      "text/plain": [
       "Iterating over validation batches:   0%|          | 0/39 [00:00<?, ?it/s]"
      ]
     },
     "metadata": {},
     "output_type": "display_data"
    },
    {
     "data": {
      "application/vnd.jupyter.widget-view+json": {
       "model_id": "e04227ca0ebc44ee8d34bffbd17b75d7",
       "version_major": 2,
       "version_minor": 0
      },
      "text/plain": [
       "Iterating over training batches:   0%|          | 0/10 [00:00<?, ?it/s]"
      ]
     },
     "metadata": {},
     "output_type": "display_data"
    },
    {
     "data": {
      "application/vnd.jupyter.widget-view+json": {
       "model_id": "7c42c38088444d2e8d841fe0ec4da7ef",
       "version_major": 2,
       "version_minor": 0
      },
      "text/plain": [
       "Iterating over validation batches:   0%|          | 0/39 [00:00<?, ?it/s]"
      ]
     },
     "metadata": {},
     "output_type": "display_data"
    },
    {
     "data": {
      "application/vnd.jupyter.widget-view+json": {
       "model_id": "085c039e779a4609bb12a04c79e279ff",
       "version_major": 2,
       "version_minor": 0
      },
      "text/plain": [
       "Iterating over training batches:   0%|          | 0/10 [00:00<?, ?it/s]"
      ]
     },
     "metadata": {},
     "output_type": "display_data"
    },
    {
     "data": {
      "application/vnd.jupyter.widget-view+json": {
       "model_id": "05d7235fa5fb4ac59ba760d254206c73",
       "version_major": 2,
       "version_minor": 0
      },
      "text/plain": [
       "Iterating over validation batches:   0%|          | 0/39 [00:00<?, ?it/s]"
      ]
     },
     "metadata": {},
     "output_type": "display_data"
    },
    {
     "data": {
      "application/vnd.jupyter.widget-view+json": {
       "model_id": "d327f4073d47442e8f0306291779c1a3",
       "version_major": 2,
       "version_minor": 0
      },
      "text/plain": [
       "Iterating over training batches:   0%|          | 0/10 [00:00<?, ?it/s]"
      ]
     },
     "metadata": {},
     "output_type": "display_data"
    },
    {
     "data": {
      "application/vnd.jupyter.widget-view+json": {
       "model_id": "81ca76ed1c304f0b97ac08dbd39576e7",
       "version_major": 2,
       "version_minor": 0
      },
      "text/plain": [
       "Iterating over validation batches:   0%|          | 0/39 [00:00<?, ?it/s]"
      ]
     },
     "metadata": {},
     "output_type": "display_data"
    },
    {
     "data": {
      "application/vnd.jupyter.widget-view+json": {
       "model_id": "797b46b90be84ce3838a847c187cf34e",
       "version_major": 2,
       "version_minor": 0
      },
      "text/plain": [
       "Iterating over training batches:   0%|          | 0/10 [00:00<?, ?it/s]"
      ]
     },
     "metadata": {},
     "output_type": "display_data"
    },
    {
     "data": {
      "application/vnd.jupyter.widget-view+json": {
       "model_id": "2963b726f8684669b5fa853290ecb459",
       "version_major": 2,
       "version_minor": 0
      },
      "text/plain": [
       "Iterating over validation batches:   0%|          | 0/39 [00:00<?, ?it/s]"
      ]
     },
     "metadata": {},
     "output_type": "display_data"
    },
    {
     "data": {
      "application/vnd.jupyter.widget-view+json": {
       "model_id": "971d50eb7b894b029c9c10fa52ccc443",
       "version_major": 2,
       "version_minor": 0
      },
      "text/plain": [
       "Iterating over training batches:   0%|          | 0/10 [00:00<?, ?it/s]"
      ]
     },
     "metadata": {},
     "output_type": "display_data"
    },
    {
     "data": {
      "application/vnd.jupyter.widget-view+json": {
       "model_id": "8e8141356d0b400e90f45a54aa693b2a",
       "version_major": 2,
       "version_minor": 0
      },
      "text/plain": [
       "Iterating over validation batches:   0%|          | 0/39 [00:00<?, ?it/s]"
      ]
     },
     "metadata": {},
     "output_type": "display_data"
    },
    {
     "data": {
      "application/vnd.jupyter.widget-view+json": {
       "model_id": "14100c947ad74bf3b8cc9d868851d310",
       "version_major": 2,
       "version_minor": 0
      },
      "text/plain": [
       "Iterating over training batches:   0%|          | 0/10 [00:00<?, ?it/s]"
      ]
     },
     "metadata": {},
     "output_type": "display_data"
    },
    {
     "data": {
      "application/vnd.jupyter.widget-view+json": {
       "model_id": "dce06dd7834240a982f0c6613d6eaaa3",
       "version_major": 2,
       "version_minor": 0
      },
      "text/plain": [
       "Iterating over validation batches:   0%|          | 0/39 [00:00<?, ?it/s]"
      ]
     },
     "metadata": {},
     "output_type": "display_data"
    },
    {
     "data": {
      "application/vnd.jupyter.widget-view+json": {
       "model_id": "148f134e1a8f453385d69f2dcb221ac6",
       "version_major": 2,
       "version_minor": 0
      },
      "text/plain": [
       "Iterating over training batches:   0%|          | 0/10 [00:00<?, ?it/s]"
      ]
     },
     "metadata": {},
     "output_type": "display_data"
    },
    {
     "data": {
      "application/vnd.jupyter.widget-view+json": {
       "model_id": "c1897e1dbf934ea287795329f9c894e6",
       "version_major": 2,
       "version_minor": 0
      },
      "text/plain": [
       "Iterating over validation batches:   0%|          | 0/39 [00:00<?, ?it/s]"
      ]
     },
     "metadata": {},
     "output_type": "display_data"
    },
    {
     "data": {
      "application/vnd.jupyter.widget-view+json": {
       "model_id": "99fea418ccee42e9b96956067d9cd1bc",
       "version_major": 2,
       "version_minor": 0
      },
      "text/plain": [
       "Iterating over training batches:   0%|          | 0/10 [00:00<?, ?it/s]"
      ]
     },
     "metadata": {},
     "output_type": "display_data"
    },
    {
     "data": {
      "application/vnd.jupyter.widget-view+json": {
       "model_id": "db78e5f028d74626a67350eddea205f2",
       "version_major": 2,
       "version_minor": 0
      },
      "text/plain": [
       "Iterating over validation batches:   0%|          | 0/39 [00:00<?, ?it/s]"
      ]
     },
     "metadata": {},
     "output_type": "display_data"
    },
    {
     "data": {
      "application/vnd.jupyter.widget-view+json": {
       "model_id": "02da1b7a2c464265a4066e1ed2ad251a",
       "version_major": 2,
       "version_minor": 0
      },
      "text/plain": [
       "Iterating over training batches:   0%|          | 0/10 [00:00<?, ?it/s]"
      ]
     },
     "metadata": {},
     "output_type": "display_data"
    },
    {
     "data": {
      "application/vnd.jupyter.widget-view+json": {
       "model_id": "371dd2845818413b81679c96a3b838d0",
       "version_major": 2,
       "version_minor": 0
      },
      "text/plain": [
       "Iterating over validation batches:   0%|          | 0/39 [00:00<?, ?it/s]"
      ]
     },
     "metadata": {},
     "output_type": "display_data"
    },
    {
     "data": {
      "application/vnd.jupyter.widget-view+json": {
       "model_id": "e1fff3a3ad9d4fceb9ed8f18a1cbd5d4",
       "version_major": 2,
       "version_minor": 0
      },
      "text/plain": [
       "Iterating over training batches:   0%|          | 0/10 [00:00<?, ?it/s]"
      ]
     },
     "metadata": {},
     "output_type": "display_data"
    },
    {
     "data": {
      "application/vnd.jupyter.widget-view+json": {
       "model_id": "85804cd611494a9e84ebec94b1f460c4",
       "version_major": 2,
       "version_minor": 0
      },
      "text/plain": [
       "Iterating over validation batches:   0%|          | 0/39 [00:00<?, ?it/s]"
      ]
     },
     "metadata": {},
     "output_type": "display_data"
    },
    {
     "data": {
      "application/vnd.jupyter.widget-view+json": {
       "model_id": "d1ebe1519b4948b1ac5209461f8e5742",
       "version_major": 2,
       "version_minor": 0
      },
      "text/plain": [
       "Iterating over training batches:   0%|          | 0/10 [00:00<?, ?it/s]"
      ]
     },
     "metadata": {},
     "output_type": "display_data"
    },
    {
     "data": {
      "application/vnd.jupyter.widget-view+json": {
       "model_id": "aaa95bb31cdd42d6bf6bbd7f125ab09f",
       "version_major": 2,
       "version_minor": 0
      },
      "text/plain": [
       "Iterating over validation batches:   0%|          | 0/39 [00:00<?, ?it/s]"
      ]
     },
     "metadata": {},
     "output_type": "display_data"
    },
    {
     "data": {
      "application/vnd.jupyter.widget-view+json": {
       "model_id": "fd1dfee6033c407e97ac11bd210ea05e",
       "version_major": 2,
       "version_minor": 0
      },
      "text/plain": [
       "Iterating over training batches:   0%|          | 0/10 [00:00<?, ?it/s]"
      ]
     },
     "metadata": {},
     "output_type": "display_data"
    },
    {
     "data": {
      "application/vnd.jupyter.widget-view+json": {
       "model_id": "34195a794d85413783f5f3eb0817361d",
       "version_major": 2,
       "version_minor": 0
      },
      "text/plain": [
       "Iterating over validation batches:   0%|          | 0/39 [00:00<?, ?it/s]"
      ]
     },
     "metadata": {},
     "output_type": "display_data"
    },
    {
     "data": {
      "application/vnd.jupyter.widget-view+json": {
       "model_id": "e6c6c0d1db634b8c9bffc60bddb4b647",
       "version_major": 2,
       "version_minor": 0
      },
      "text/plain": [
       "Iterating over training batches:   0%|          | 0/10 [00:00<?, ?it/s]"
      ]
     },
     "metadata": {},
     "output_type": "display_data"
    },
    {
     "data": {
      "application/vnd.jupyter.widget-view+json": {
       "model_id": "dd7ee895bfcf4afea8615acd87999697",
       "version_major": 2,
       "version_minor": 0
      },
      "text/plain": [
       "Iterating over validation batches:   0%|          | 0/39 [00:00<?, ?it/s]"
      ]
     },
     "metadata": {},
     "output_type": "display_data"
    },
    {
     "data": {
      "application/vnd.jupyter.widget-view+json": {
       "model_id": "61b028323a7c4b7b8fb127948218a482",
       "version_major": 2,
       "version_minor": 0
      },
      "text/plain": [
       "Iterating over training batches:   0%|          | 0/10 [00:00<?, ?it/s]"
      ]
     },
     "metadata": {},
     "output_type": "display_data"
    },
    {
     "data": {
      "application/vnd.jupyter.widget-view+json": {
       "model_id": "e351dafd316848a2ace7f31ff5d59467",
       "version_major": 2,
       "version_minor": 0
      },
      "text/plain": [
       "Iterating over validation batches:   0%|          | 0/39 [00:00<?, ?it/s]"
      ]
     },
     "metadata": {},
     "output_type": "display_data"
    },
    {
     "data": {
      "application/vnd.jupyter.widget-view+json": {
       "model_id": "a16992f397764029a4c2b58a82d6731f",
       "version_major": 2,
       "version_minor": 0
      },
      "text/plain": [
       "Iterating over training batches:   0%|          | 0/10 [00:00<?, ?it/s]"
      ]
     },
     "metadata": {},
     "output_type": "display_data"
    },
    {
     "data": {
      "application/vnd.jupyter.widget-view+json": {
       "model_id": "0c077e319be84bcf983859465f81e72f",
       "version_major": 2,
       "version_minor": 0
      },
      "text/plain": [
       "Iterating over validation batches:   0%|          | 0/39 [00:00<?, ?it/s]"
      ]
     },
     "metadata": {},
     "output_type": "display_data"
    },
    {
     "data": {
      "application/vnd.jupyter.widget-view+json": {
       "model_id": "fb70998ace44436aa71d76066ccec47b",
       "version_major": 2,
       "version_minor": 0
      },
      "text/plain": [
       "Iterating over training batches:   0%|          | 0/10 [00:00<?, ?it/s]"
      ]
     },
     "metadata": {},
     "output_type": "display_data"
    },
    {
     "data": {
      "application/vnd.jupyter.widget-view+json": {
       "model_id": "8fe40f1db400462998aaa453144ff3c0",
       "version_major": 2,
       "version_minor": 0
      },
      "text/plain": [
       "Iterating over validation batches:   0%|          | 0/39 [00:00<?, ?it/s]"
      ]
     },
     "metadata": {},
     "output_type": "display_data"
    },
    {
     "data": {
      "application/vnd.jupyter.widget-view+json": {
       "model_id": "408f9828de2f4182a7734dd392ff7a37",
       "version_major": 2,
       "version_minor": 0
      },
      "text/plain": [
       "Iterating over training batches:   0%|          | 0/10 [00:00<?, ?it/s]"
      ]
     },
     "metadata": {},
     "output_type": "display_data"
    },
    {
     "data": {
      "application/vnd.jupyter.widget-view+json": {
       "model_id": "df308e34d4fd4d70a6f18d557121046a",
       "version_major": 2,
       "version_minor": 0
      },
      "text/plain": [
       "Iterating over validation batches:   0%|          | 0/39 [00:00<?, ?it/s]"
      ]
     },
     "metadata": {},
     "output_type": "display_data"
    },
    {
     "name": "stderr",
     "output_type": "stream",
     "text": [
      "IOPub message rate exceeded.\n",
      "The Jupyter server will temporarily stop sending output\n",
      "to the client in order to avoid crashing it.\n",
      "To change this limit, set the config variable\n",
      "`--ServerApp.iopub_msg_rate_limit`.\n",
      "\n",
      "Current values:\n",
      "ServerApp.iopub_msg_rate_limit=1000.0 (msgs/sec)\n",
      "ServerApp.rate_limit_window=3.0 (secs)\n",
      "\n"
     ]
    }
   ],
   "source": [
    "from utils import fit_rl\n",
    "\n",
    "models = []\n",
    "for env in [environment]:\n",
    "    # add more instances of environment for more replicates\n",
    "    models.append(\n",
    "        fit_rl(\n",
    "            env, \n",
    "            f'{MODELS_FT_PATH}/2023-02-03_12-26-31_027350/Q99685_FT.pkg', # exploration network\n",
    "            # f'{MODELS_RL_PATH}/2023-02-03_14-58-57_756346/Q99685_RL.pkg', # agent (exploitation network), comment out to use MODEL_FILE_PR\n",
    "            epsilon=0.2 # exploration rate\n",
    "        )\n",
    "    )"
   ]
  },
  {
   "cell_type": "code",
   "execution_count": null,
   "id": "7302398a-fe16-4ce0-b2fa-4a73129beae6",
   "metadata": {},
   "outputs": [],
   "source": []
  }
 ],
 "metadata": {
  "kernelspec": {
   "display_name": "Python 3 (ipykernel)",
   "language": "python",
   "name": "python3"
  },
  "language_info": {
   "codemirror_mode": {
    "name": "ipython",
    "version": 3
   },
   "file_extension": ".py",
   "mimetype": "text/x-python",
   "name": "python",
   "nbconvert_exporter": "python",
   "pygments_lexer": "ipython3",
   "version": "3.10.8"
  }
 },
 "nbformat": 4,
 "nbformat_minor": 5
}
