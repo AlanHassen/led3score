{
 "cells": [
  {
   "attachments": {},
   "cell_type": "markdown",
   "metadata": {},
   "source": [
    "# Evaluate Hyperparameter Results"
   ]
  },
  {
   "cell_type": "code",
   "execution_count": 1,
   "metadata": {},
   "outputs": [],
   "source": [
    "from sklearn.model_selection import train_test_split, StratifiedKFold\n",
    "from led3_score.fingerprints.fingerprint_generator import FingerprintGenerator\n",
    "import numpy\n",
    "import xgboost as xgb\n",
    "import sklearn.metrics\n",
    "import pandas"
   ]
  },
  {
   "cell_type": "code",
   "execution_count": 2,
   "metadata": {},
   "outputs": [],
   "source": [
    "\n",
    "def train_model(training_dataset, learning_rate, max_depth, n_estimators, min_split_loss, y_column):\n",
    "    X_train = FingerprintGenerator.get_fingerprint_columns(training_dataset, \"fp_\").to_numpy()\n",
    "    Y_train = numpy.vstack(training_dataset[y_column].to_numpy()).ravel()\n",
    "    \n",
    "    model = xgb.XGBClassifier(objective=\"binary:logistic\", tree_method=\"hist\", random_state=42, n_jobs = 1, learning_rate = learning_rate, max_depth = max_depth, n_estimators = n_estimators, min_split_loss = min_split_loss)\n",
    "    model.fit(X_train, Y_train)\n",
    "    Y_train_predictions = model.predict(X_train)\n",
    "\n",
    "    results = {}\n",
    "\n",
    "    results[\"train_accuracy\"] = sklearn.metrics.accuracy_score(Y_train, Y_train_predictions)\n",
    "    results[\"train_precision\"] = sklearn.metrics.precision_score(Y_train, Y_train_predictions)\n",
    "    results[\"train_recall\"] = sklearn.metrics.recall_score(Y_train, Y_train_predictions)\n",
    "    results[\"train_f1\"] = sklearn.metrics.f1_score(Y_train, Y_train_predictions)\n",
    "    results[\"train_mcc\"] = sklearn.metrics.matthews_corrcoef(Y_train, Y_train_predictions)\n",
    "\n",
    "    return model, results\n",
    "\n",
    "def evaluate_model(model, test_dataset, y_column):\n",
    "    X_test = FingerprintGenerator.get_fingerprint_columns(test_dataset, \"fp_\").to_numpy()\n",
    "    Y_test = numpy.vstack(test_dataset[y_column].to_numpy()).ravel()\n",
    "    \n",
    "    Y_test_predictions = model.predict(X_test)\n",
    "\n",
    "    results = {}\n",
    "\n",
    "    results[\"test_accuracy\"] = sklearn.metrics.accuracy_score(Y_test, Y_test_predictions)\n",
    "    results[\"test_precision\"] = sklearn.metrics.precision_score(Y_test, Y_test_predictions)\n",
    "    results[\"test_recall\"] = sklearn.metrics.recall_score(Y_test, Y_test_predictions)\n",
    "    results[\"test_f1\"] = sklearn.metrics.f1_score(Y_test, Y_test_predictions)\n",
    "    results[\"test_mcc\"] = sklearn.metrics.matthews_corrcoef(Y_test, Y_test_predictions)\n",
    "\n",
    "    return results\n",
    "\n",
    "def extract_hyperparameters(hyperparameter_path):\n",
    "    hyperparameter = pandas.read_csv(hyperparameter_path)\n",
    "\n",
    "    # get the row where f1 is max\n",
    "    hyperparameter = hyperparameter[hyperparameter[\"f1\"] == hyperparameter[\"f1\"].max()]\n",
    "    #drop the columns parameters.learning_rate.max, parameters.learning_rate.min\n",
    "    hyperparameter = hyperparameter.drop(columns=['Created', 'Runtime', 'End Time', 'Hostname', 'Notes',\n",
    "       'Updated', 'Tags', 'State', 'User', 'Group', 'Job Type', 'Sweep',\n",
    "       'Description', 'Commit', 'GitHub', 'GPU Count', 'GPU Type', 'entity', 'method', 'metric.goal',\n",
    "       'metric.name', 'parameters.learning_rate.max', 'parameters.learning_rate.min',\n",
    "       'parameters.max_depth.max', 'parameters.max_depth.min',\n",
    "       'parameters.min_split_loss.max', 'parameters.min_split_loss.min',\n",
    "       'parameters.n_estimators.max', 'parameters.n_estimators.min', 'program', 'project'])\n",
    "\n",
    "    # rename the columns f1 to hyperparameter_search_f1\n",
    "    hyperparameter = hyperparameter.rename(columns={\"f1\": \"hyperparameter_search_f1\"})\n",
    "    hyperparameter = hyperparameter.rename(columns={\"mcc\": \"hyperparameter_search_mcc\"})\n",
    "    hyperparameter = hyperparameter.rename(columns={\"accuracy\": \"hyperparameter_search_accuracy\"})\n",
    "    hyperparameter = hyperparameter.rename(columns={\"precision\": \"hyperparameter_search_precision\"})\n",
    "    hyperparameter = hyperparameter.rename(columns={\"recall\": \"hyperparameter_search_recall\"})\n",
    "    hyperparameter = hyperparameter.rename(columns={\"Name\": \"hyperparameter_sweep_name\"})\n",
    "    hyperparameter = hyperparameter.rename(columns={\"dataset_path\": \"hyperparameter_training_dataset_path\"})\n",
    "\n",
    "    return hyperparameter\n",
    "\n",
    "def evaluate_hyperparameters(dataset):\n",
    "\n",
    "    # load data\n",
    "    training_csv = pandas.read_csv(dataset[\"train_dataset_path\"][0])\n",
    "\n",
    "    model, train_results = train_model(training_dataset= training_csv, learning_rate = dataset[\"learning_rate\"][0], max_depth = dataset[\"max_depth\"][0], n_estimators = dataset[\"n_estimators\"][0], min_split_loss = dataset[\"min_split_loss\"][0], y_column = dataset[\"y_column\"][0])\n",
    "\n",
    "    # add to dataset\n",
    "    dataset[\"train_accuracy\"] = train_results[\"train_accuracy\"]\n",
    "    dataset[\"train_precision\"] = train_results[\"train_precision\"]\n",
    "    dataset[\"train_recall\"] = train_results[\"train_recall\"]\n",
    "    dataset[\"train_f1\"] = train_results[\"train_f1\"]\n",
    "    dataset[\"train_mcc\"] = train_results[\"train_mcc\"]\n",
    "\n",
    "\n",
    "    # load data\n",
    "    test_csv = pandas.read_csv(dataset[\"test_dataset_path\"][0])\n",
    "\n",
    "    test_results = evaluate_model(model, test_dataset= test_csv, y_column = dataset[\"y_column\"][0])\n",
    "\n",
    "    # add to dataset\n",
    "    dataset[\"test_accuracy\"] = test_results[\"test_accuracy\"]\n",
    "    dataset[\"test_precision\"] = test_results[\"test_precision\"]\n",
    "    dataset[\"test_recall\"] = test_results[\"test_recall\"]\n",
    "    dataset[\"test_f1\"] = test_results[\"test_f1\"]\n",
    "    dataset[\"test_mcc\"] = test_results[\"test_mcc\"]\n",
    "\n",
    "    # load data\n",
    "    chembl_test_csv = pandas.read_csv(dataset[\"chembl_test_dataset_path\"][0])\n",
    "\n",
    "    chembl_test_results = evaluate_model(model, test_dataset= chembl_test_csv, y_column = dataset[\"y_column\"][0])\n",
    "\n",
    "    # add to dataset\n",
    "    dataset[\"chembl_test_accuracy\"] = chembl_test_results[\"test_accuracy\"]\n",
    "    dataset[\"chembl_test_precision\"] = chembl_test_results[\"test_precision\"]\n",
    "    dataset[\"chembl_test_recall\"] = chembl_test_results[\"test_recall\"]\n",
    "    dataset[\"chembl_test_f1\"] = chembl_test_results[\"test_f1\"]\n",
    "    dataset[\"chembl_test_mcc\"] = chembl_test_results[\"test_mcc\"]\n",
    "\n",
    "    return dataset, model\n"
   ]
  },
  {
   "cell_type": "code",
   "execution_count": 3,
   "metadata": {},
   "outputs": [],
   "source": [
    "import os\n",
    "\n",
    "def save_results(results: pandas.DataFrame, model: xgb.XGBClassifier, path:str):\n",
    "    # create folder if not exists\n",
    "    os.makedirs(os.path.dirname(path), exist_ok=True)\n",
    "\n",
    "    results.to_csv(path, index=False)\n",
    "    model.save_model(path.replace(\".csv\", \".model\"))"
   ]
  },
  {
   "attachments": {},
   "cell_type": "markdown",
   "metadata": {},
   "source": [
    "# evaluate models"
   ]
  },
  {
   "attachments": {},
   "cell_type": "markdown",
   "metadata": {},
   "source": [
    "## caspyrus 1k"
   ]
  },
  {
   "cell_type": "code",
   "execution_count": null,
   "metadata": {},
   "outputs": [],
   "source": [
    "#led 3\n",
    "hyperparameter_path = \"<PATH>/led3_score/data/results/2_synthesis_score/hyperparameter_search/led3_caspyrus1k_hist_xgboost.csv\"\n",
    "dataset = extract_hyperparameters(hyperparameter_path)\n",
    "\n",
    "dataset[\"train_dataset_path\"] = \"<PATH>/led3_score/data/results/2_synthesis_score/train_data/caspyrus1k/caspyrus_1k_train.csv\"\n",
    "dataset[\"test_dataset_path\"] = \"<PATH>/led3_score/data/results/2_synthesis_score/train_data/caspyrus1k/caspyrus_1k_test.csv\"\n",
    "dataset[\"chembl_test_dataset_path\"] = \"<PATH>/led3_score/data/results/2_synthesis_score/test_data/test_chembl200k_random/test_chembl200k_results.csv\"\n",
    "dataset[\"y_column\"] = \"Y_led3\"\n",
    "dataset[\"save_path\"] = \"<PATH>/led3_score/data/results/2_synthesis_score/models/led3_caspyrus1k_hist_xgboost.csv\"\n",
    "\n",
    "dataset_results, model = evaluate_hyperparameters(dataset)\n",
    "\n",
    "save_results(dataset_results, model, dataset_results[\"save_path\"][0])"
   ]
  },
  {
   "cell_type": "code",
   "execution_count": null,
   "metadata": {},
   "outputs": [],
   "source": [
    "#zinc\n",
    "hyperparameter_path = \"<PATH>/led3_score/data/results/2_synthesis_score/hyperparameter_search/zinc_caspyrus1k_hist_xgboost.csv\"\n",
    "dataset = extract_hyperparameters(hyperparameter_path)\n",
    "\n",
    "dataset[\"train_dataset_path\"] = \"<PATH>/led3_score/data/results/2_synthesis_score/train_data/caspyrus1k/caspyrus_1k_train.csv\"\n",
    "dataset[\"test_dataset_path\"] = \"<PATH>/led3_score/data/results/2_synthesis_score/train_data/caspyrus1k/caspyrus_1k_test.csv\"\n",
    "dataset[\"chembl_test_dataset_path\"] = \"<PATH>/led3_score/data/results/2_synthesis_score/test_data/test_chembl200k_random/test_chembl200k_results.csv\"\n",
    "dataset[\"y_column\"] = \"Y_zinc\"\n",
    "dataset[\"save_path\"] = \"<PATH>/led3_score/data/results/2_synthesis_score/models/zinc_caspyrus1k_hist_xgboost.csv\"\n",
    "\n",
    "dataset_results, model = evaluate_hyperparameters(dataset)\n",
    "\n",
    "save_results(dataset_results, model, dataset_results[\"save_path\"][0])"
   ]
  },
  {
   "cell_type": "markdown",
   "metadata": {},
   "source": [
    "## caspyrus10k"
   ]
  },
  {
   "cell_type": "code",
   "execution_count": null,
   "metadata": {},
   "outputs": [],
   "source": [
    "#led 3\n",
    "hyperparameter_path = \"<PATH>/led3_score/data/results/2_synthesis_score/hyperparameter_search/led3_caspyrus10k_hist_xgboost.csv\"\n",
    "dataset = extract_hyperparameters(hyperparameter_path)\n",
    "\n",
    "dataset[\"train_dataset_path\"] = \"<PATH>/led3_score/data/results/2_synthesis_score/train_data/caspyrus10k/caspyrus_10k_train.csv\"\n",
    "dataset[\"test_dataset_path\"] = \"<PATH>/led3_score/data/results/2_synthesis_score/train_data/caspyrus10k/caspyrus_10k_test.csv\"\n",
    "dataset[\"chembl_test_dataset_path\"] = \"<PATH>/led3_score/data/results/2_synthesis_score/test_data/test_chembl200k_random/test_chembl200k_results.csv\"\n",
    "dataset[\"y_column\"] = \"Y_led3\"\n",
    "dataset[\"save_path\"] = \"<PATH>/led3_score/data/results/2_synthesis_score/models/led3_caspyrus10k_hist_xgboost.csv\"\n",
    "\n",
    "dataset_results, model = evaluate_hyperparameters(dataset)\n",
    "\n",
    "save_results(dataset_results, model, dataset_results[\"save_path\"][0])"
   ]
  },
  {
   "cell_type": "code",
   "execution_count": null,
   "metadata": {},
   "outputs": [],
   "source": [
    "#zinc\n",
    "hyperparameter_path = \"<PATH>/led3_score/data/results/2_synthesis_score/hyperparameter_search/zinc_caspyrus10k_hist_xgboost.csv\"\n",
    "dataset = extract_hyperparameters(hyperparameter_path)\n",
    "\n",
    "dataset[\"train_dataset_path\"] = \"<PATH>/led3_score/data/results/2_synthesis_score/train_data/caspyrus10k/caspyrus_10k_train.csv\"\n",
    "dataset[\"test_dataset_path\"] = \"<PATH>/led3_score/data/results/2_synthesis_score/train_data/caspyrus10k/caspyrus_10k_test.csv\"\n",
    "dataset[\"chembl_test_dataset_path\"] = \"<PATH>/led3_score/data/results/2_synthesis_score/test_data/test_chembl200k_random/test_chembl200k_results.csv\"\n",
    "dataset[\"y_column\"] = \"Y_zinc\"\n",
    "dataset[\"save_path\"] = \"<PATH>/led3_score/data/results/2_synthesis_score/models/zinc_caspyrus10k_hist_xgboost.csv\"\n",
    "\n",
    "dataset_results, model = evaluate_hyperparameters(dataset)\n",
    "\n",
    "save_results(dataset_results, model, dataset_results[\"save_path\"][0])"
   ]
  },
  {
   "cell_type": "markdown",
   "metadata": {},
   "source": [
    "## 20k"
   ]
  },
  {
   "cell_type": "code",
   "execution_count": null,
   "metadata": {},
   "outputs": [],
   "source": [
    "#led 3\n",
    "hyperparameter_path = \"<PATH>/led3_score/data/results/2_synthesis_score/hyperparameter_search/led3_caspyrus20k_hist_xgboost.csv\"\n",
    "dataset = extract_hyperparameters(hyperparameter_path)\n",
    "\n",
    "dataset[\"train_dataset_path\"] = \"<PATH>/led3_score/data/results/2_synthesis_score/train_data/caspyrus20k/caspyrus_20k_train.csv\"\n",
    "dataset[\"test_dataset_path\"] = \"<PATH>/led3_score/data/results/2_synthesis_score/train_data/caspyrus20k/caspyrus_20k_test.csv\"\n",
    "dataset[\"chembl_test_dataset_path\"] = \"<PATH>/led3_score/data/results/2_synthesis_score/test_data/test_chembl200k_random/test_chembl200k_results.csv\"\n",
    "dataset[\"y_column\"] = \"Y_led3\"\n",
    "dataset[\"save_path\"] = \"<PATH>/led3_score/data/results/2_synthesis_score/models/led3_caspyrus20k_hist_xgboost.csv\"\n",
    "\n",
    "dataset_results, model = evaluate_hyperparameters(dataset)\n",
    "\n",
    "save_results(dataset_results, model, dataset_results[\"save_path\"][0])"
   ]
  },
  {
   "cell_type": "code",
   "execution_count": null,
   "metadata": {},
   "outputs": [],
   "source": [
    "#zinc\n",
    "hyperparameter_path = \"<PATH>/led3_score/data/results/2_synthesis_score/hyperparameter_search/zinc_caspyrus20k_hist_xgboost.csv\"\n",
    "dataset = extract_hyperparameters(hyperparameter_path)\n",
    "\n",
    "dataset[\"train_dataset_path\"] = \"<PATH>/led3_score/data/results/2_synthesis_score/train_data/caspyrus20k/caspyrus_20k_train.csv\"\n",
    "dataset[\"test_dataset_path\"] = \"<PATH>/led3_score/data/results/2_synthesis_score/train_data/caspyrus20k/caspyrus_20k_test.csv\"\n",
    "dataset[\"chembl_test_dataset_path\"] = \"<PATH>/led3_score/data/results/2_synthesis_score/test_data/test_chembl200k_random/test_chembl200k_results.csv\"\n",
    "dataset[\"y_column\"] = \"Y_zinc\"\n",
    "dataset[\"save_path\"] = \"<PATH>/led3_score/data/results/2_synthesis_score/models/zinc_caspyrus20k_hist_xgboost.csv\"\n",
    "\n",
    "dataset_results, model = evaluate_hyperparameters(dataset)\n",
    "\n",
    "save_results(dataset_results, model, dataset_results[\"save_path\"][0])"
   ]
  },
  {
   "cell_type": "markdown",
   "metadata": {},
   "source": [
    "# 50k "
   ]
  },
  {
   "cell_type": "code",
   "execution_count": null,
   "metadata": {},
   "outputs": [],
   "source": [
    "#led 3\n",
    "hyperparameter_path = \"<PATH>/led3_score/data/results/2_synthesis_score/hyperparameter_search/led3_caspyrus50k_hist_xgboost.csv\"\n",
    "dataset = extract_hyperparameters(hyperparameter_path)\n",
    "\n",
    "dataset[\"train_dataset_path\"] = \"<PATH>/led3_score/data/results/2_synthesis_score/train_data/caspyrus50k/caspyrus_50k_train.csv\"\n",
    "dataset[\"test_dataset_path\"] = \"<PATH>/led3_score/data/results/2_synthesis_score/train_data/caspyrus50k/caspyrus_50k_test.csv\"\n",
    "dataset[\"chembl_test_dataset_path\"] = \"<PATH>/led3_score/data/results/2_synthesis_score/test_data/test_chembl200k_random/test_chembl200k_results.csv\"\n",
    "dataset[\"y_column\"] = \"Y_led3\"\n",
    "dataset[\"save_path\"] = \"<PATH>/led3_score/data/results/2_synthesis_score/models/led3_caspyrus50k_hist_xgboost.csv\"\n",
    "\n",
    "dataset_results, model = evaluate_hyperparameters(dataset)\n",
    "\n",
    "save_results(dataset_results, model, dataset_results[\"save_path\"][0])"
   ]
  },
  {
   "cell_type": "code",
   "execution_count": null,
   "metadata": {},
   "outputs": [],
   "source": [
    "#zinc\n",
    "hyperparameter_path = \"<PATH>/led3_score/data/results/2_synthesis_score/hyperparameter_search/zinc_caspyrus50k_hist_xgboost.csv\"\n",
    "dataset = extract_hyperparameters(hyperparameter_path)\n",
    "\n",
    "dataset[\"train_dataset_path\"] = \"<PATH>/led3_score/data/results/2_synthesis_score/train_data/caspyrus50k/caspyrus_50k_train.csv\"\n",
    "dataset[\"test_dataset_path\"] = \"<PATH>/led3_score/data/results/2_synthesis_score/train_data/caspyrus50k/caspyrus_50k_test.csv\"\n",
    "dataset[\"chembl_test_dataset_path\"] = \"<PATH>/led3_score/data/results/2_synthesis_score/test_data/test_chembl200k_random/test_chembl200k_results.csv\"\n",
    "dataset[\"y_column\"] = \"Y_zinc\"\n",
    "dataset[\"save_path\"] = \"<PATH>/led3_score/data/results/2_synthesis_score/models/zinc_caspyrus50k_hist_xgboost.csv\"\n",
    "\n",
    "dataset_results, model = evaluate_hyperparameters(dataset)\n",
    "\n",
    "save_results(dataset_results, model, dataset_results[\"save_path\"][0])"
   ]
  },
  {
   "cell_type": "markdown",
   "metadata": {},
   "source": [
    "# chembl200k"
   ]
  },
  {
   "cell_type": "code",
   "execution_count": null,
   "metadata": {},
   "outputs": [],
   "source": [
    "#led 3\n",
    "hyperparameter_path = \"<PATH>/led3_score/data/results/2_synthesis_score/hyperparameter_search/led3_chembl200k_random_hist_xgboost.csv\"\n",
    "dataset = extract_hyperparameters(hyperparameter_path)\n",
    "\n",
    "dataset[\"train_dataset_path\"] = \"<PATH>/led3_score/data/results/2_synthesis_score/train_data/chembl200k_random/chembl_200k_random_train.csv\"\n",
    "dataset[\"test_dataset_path\"] = \"<PATH>/led3_score/data/results/2_synthesis_score/train_data/chembl200k_random/chembl_200k_random_test.csv\"\n",
    "dataset[\"chembl_test_dataset_path\"] = \"<PATH>/led3_score/data/results/2_synthesis_score/test_data/test_chembl200k_random/test_chembl200k_results.csv\"\n",
    "dataset[\"y_column\"] = \"Y_led3\"\n",
    "dataset[\"save_path\"] = \"<PATH>/led3_score/data/results/2_synthesis_score/models/led3_chembl200k_random_hist_xgboost.csv\"\n",
    "\n",
    "dataset_results, model = evaluate_hyperparameters(dataset)\n",
    "\n",
    "save_results(dataset_results, model, dataset_results[\"save_path\"][0])"
   ]
  },
  {
   "cell_type": "code",
   "execution_count": null,
   "metadata": {},
   "outputs": [],
   "source": [
    "#zinc\n",
    "hyperparameter_path = \"<PATH>/led3_score/data/results/2_synthesis_score/hyperparameter_search/zinc_chembl200k_random_hist_xgboost.csv\"\n",
    "dataset = extract_hyperparameters(hyperparameter_path)\n",
    "\n",
    "dataset[\"train_dataset_path\"] = \"<PATH>/led3_score/data/results/2_synthesis_score/train_data/chembl200k_random/chembl_200k_random_train.csv\"\n",
    "dataset[\"test_dataset_path\"] = \"<PATH>/led3_score/data/results/2_synthesis_score/train_data/chembl200k_random/chembl_200k_random_test.csv\"\n",
    "dataset[\"chembl_test_dataset_path\"] = \"<PATH>/led3_score/data/results/2_synthesis_score/test_data/test_chembl200k_random/test_chembl200k_results.csv\"\n",
    "dataset[\"y_column\"] = \"Y_zinc\"\n",
    "dataset[\"save_path\"] = \"<PATH>/led3_score/data/results/2_synthesis_score/models/zinc_chembl200k_random_hist_xgboost.csv\"\n",
    "\n",
    "dataset_results, model = evaluate_hyperparameters(dataset)\n",
    "\n",
    "save_results(dataset_results, model, dataset_results[\"save_path\"][0])"
   ]
  }
 ],
 "metadata": {
  "kernelspec": {
   "display_name": "led3_score",
   "language": "python",
   "name": "python3"
  },
  "language_info": {
   "codemirror_mode": {
    "name": "ipython",
    "version": 3
   },
   "file_extension": ".py",
   "mimetype": "text/x-python",
   "name": "python",
   "nbconvert_exporter": "python",
   "pygments_lexer": "ipython3",
   "version": "3.9.15"
  },
  "orig_nbformat": 4,
  "vscode": {
   "interpreter": {
    "hash": "92b86aa12f67c725a1311035c9bfe738af5a6637a23dedc52178d5ac0c76170b"
   }
  }
 },
 "nbformat": 4,
 "nbformat_minor": 2
}
